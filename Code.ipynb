{
 "cells": [
  {
   "cell_type": "code",
   "execution_count": 651,
   "id": "8a6af777-ee22-42d5-b37c-1f96b369a72e",
   "metadata": {},
   "outputs": [],
   "source": [
    "import pandas as pd\n",
    "import numpy as np\n",
    "import matplotlib.pyplot as plt\n",
    "import seaborn as sns"
   ]
  },
  {
   "cell_type": "markdown",
   "id": "fb1de12d-f5bc-446d-a59b-6269d55af114",
   "metadata": {},
   "source": [
    "#Data Collection"
   ]
  },
  {
   "cell_type": "code",
   "execution_count": 652,
   "id": "d6a50aa0-c99c-4e89-a6b3-84911925c1b0",
   "metadata": {},
   "outputs": [
    {
     "data": {
      "text/html": [
       "<div>\n",
       "<style scoped>\n",
       "    .dataframe tbody tr th:only-of-type {\n",
       "        vertical-align: middle;\n",
       "    }\n",
       "\n",
       "    .dataframe tbody tr th {\n",
       "        vertical-align: top;\n",
       "    }\n",
       "\n",
       "    .dataframe thead th {\n",
       "        text-align: right;\n",
       "    }\n",
       "</style>\n",
       "<table border=\"1\" class=\"dataframe\">\n",
       "  <thead>\n",
       "    <tr style=\"text-align: right;\">\n",
       "      <th></th>\n",
       "      <th>Airline</th>\n",
       "      <th>Date_of_Journey</th>\n",
       "      <th>Source</th>\n",
       "      <th>Destination</th>\n",
       "      <th>Route</th>\n",
       "      <th>Dep_Time</th>\n",
       "      <th>Arrival_Time</th>\n",
       "      <th>Duration</th>\n",
       "      <th>Total_Stops</th>\n",
       "      <th>Additional_Info</th>\n",
       "      <th>Price</th>\n",
       "    </tr>\n",
       "  </thead>\n",
       "  <tbody>\n",
       "    <tr>\n",
       "      <th>0</th>\n",
       "      <td>IndiGo</td>\n",
       "      <td>24/03/2019</td>\n",
       "      <td>Banglore</td>\n",
       "      <td>New Delhi</td>\n",
       "      <td>BLR → DEL</td>\n",
       "      <td>22:20</td>\n",
       "      <td>01:10 22 Mar</td>\n",
       "      <td>2h 50m</td>\n",
       "      <td>non-stop</td>\n",
       "      <td>No info</td>\n",
       "      <td>3897</td>\n",
       "    </tr>\n",
       "    <tr>\n",
       "      <th>1</th>\n",
       "      <td>Air India</td>\n",
       "      <td>1/05/2019</td>\n",
       "      <td>Kolkata</td>\n",
       "      <td>Banglore</td>\n",
       "      <td>CCU → IXR → BBI → BLR</td>\n",
       "      <td>05:50</td>\n",
       "      <td>13:15</td>\n",
       "      <td>7h 25m</td>\n",
       "      <td>2 stops</td>\n",
       "      <td>No info</td>\n",
       "      <td>7662</td>\n",
       "    </tr>\n",
       "    <tr>\n",
       "      <th>2</th>\n",
       "      <td>Jet Airways</td>\n",
       "      <td>9/06/2019</td>\n",
       "      <td>Delhi</td>\n",
       "      <td>Cochin</td>\n",
       "      <td>DEL → LKO → BOM → COK</td>\n",
       "      <td>09:25</td>\n",
       "      <td>04:25 10 Jun</td>\n",
       "      <td>19h</td>\n",
       "      <td>2 stops</td>\n",
       "      <td>No info</td>\n",
       "      <td>13882</td>\n",
       "    </tr>\n",
       "    <tr>\n",
       "      <th>3</th>\n",
       "      <td>IndiGo</td>\n",
       "      <td>12/05/2019</td>\n",
       "      <td>Kolkata</td>\n",
       "      <td>Banglore</td>\n",
       "      <td>CCU → NAG → BLR</td>\n",
       "      <td>18:05</td>\n",
       "      <td>23:30</td>\n",
       "      <td>5h 25m</td>\n",
       "      <td>1 stop</td>\n",
       "      <td>No info</td>\n",
       "      <td>6218</td>\n",
       "    </tr>\n",
       "    <tr>\n",
       "      <th>4</th>\n",
       "      <td>IndiGo</td>\n",
       "      <td>01/03/2019</td>\n",
       "      <td>Banglore</td>\n",
       "      <td>New Delhi</td>\n",
       "      <td>BLR → NAG → DEL</td>\n",
       "      <td>16:50</td>\n",
       "      <td>21:35</td>\n",
       "      <td>4h 45m</td>\n",
       "      <td>1 stop</td>\n",
       "      <td>No info</td>\n",
       "      <td>13302</td>\n",
       "    </tr>\n",
       "    <tr>\n",
       "      <th>...</th>\n",
       "      <td>...</td>\n",
       "      <td>...</td>\n",
       "      <td>...</td>\n",
       "      <td>...</td>\n",
       "      <td>...</td>\n",
       "      <td>...</td>\n",
       "      <td>...</td>\n",
       "      <td>...</td>\n",
       "      <td>...</td>\n",
       "      <td>...</td>\n",
       "      <td>...</td>\n",
       "    </tr>\n",
       "    <tr>\n",
       "      <th>10678</th>\n",
       "      <td>Air Asia</td>\n",
       "      <td>9/04/2019</td>\n",
       "      <td>Kolkata</td>\n",
       "      <td>Banglore</td>\n",
       "      <td>CCU → BLR</td>\n",
       "      <td>19:55</td>\n",
       "      <td>22:25</td>\n",
       "      <td>2h 30m</td>\n",
       "      <td>non-stop</td>\n",
       "      <td>No info</td>\n",
       "      <td>4107</td>\n",
       "    </tr>\n",
       "    <tr>\n",
       "      <th>10679</th>\n",
       "      <td>Air India</td>\n",
       "      <td>27/04/2019</td>\n",
       "      <td>Kolkata</td>\n",
       "      <td>Banglore</td>\n",
       "      <td>CCU → BLR</td>\n",
       "      <td>20:45</td>\n",
       "      <td>23:20</td>\n",
       "      <td>2h 35m</td>\n",
       "      <td>non-stop</td>\n",
       "      <td>No info</td>\n",
       "      <td>4145</td>\n",
       "    </tr>\n",
       "    <tr>\n",
       "      <th>10680</th>\n",
       "      <td>Jet Airways</td>\n",
       "      <td>27/04/2019</td>\n",
       "      <td>Banglore</td>\n",
       "      <td>Delhi</td>\n",
       "      <td>BLR → DEL</td>\n",
       "      <td>08:20</td>\n",
       "      <td>11:20</td>\n",
       "      <td>3h</td>\n",
       "      <td>non-stop</td>\n",
       "      <td>No info</td>\n",
       "      <td>7229</td>\n",
       "    </tr>\n",
       "    <tr>\n",
       "      <th>10681</th>\n",
       "      <td>Vistara</td>\n",
       "      <td>01/03/2019</td>\n",
       "      <td>Banglore</td>\n",
       "      <td>New Delhi</td>\n",
       "      <td>BLR → DEL</td>\n",
       "      <td>11:30</td>\n",
       "      <td>14:10</td>\n",
       "      <td>2h 40m</td>\n",
       "      <td>non-stop</td>\n",
       "      <td>No info</td>\n",
       "      <td>12648</td>\n",
       "    </tr>\n",
       "    <tr>\n",
       "      <th>10682</th>\n",
       "      <td>Air India</td>\n",
       "      <td>9/05/2019</td>\n",
       "      <td>Delhi</td>\n",
       "      <td>Cochin</td>\n",
       "      <td>DEL → GOI → BOM → COK</td>\n",
       "      <td>10:55</td>\n",
       "      <td>19:15</td>\n",
       "      <td>8h 20m</td>\n",
       "      <td>2 stops</td>\n",
       "      <td>No info</td>\n",
       "      <td>11753</td>\n",
       "    </tr>\n",
       "  </tbody>\n",
       "</table>\n",
       "<p>10683 rows × 11 columns</p>\n",
       "</div>"
      ],
      "text/plain": [
       "           Airline Date_of_Journey    Source Destination  \\\n",
       "0           IndiGo      24/03/2019  Banglore   New Delhi   \n",
       "1        Air India       1/05/2019   Kolkata    Banglore   \n",
       "2      Jet Airways       9/06/2019     Delhi      Cochin   \n",
       "3           IndiGo      12/05/2019   Kolkata    Banglore   \n",
       "4           IndiGo      01/03/2019  Banglore   New Delhi   \n",
       "...            ...             ...       ...         ...   \n",
       "10678     Air Asia       9/04/2019   Kolkata    Banglore   \n",
       "10679    Air India      27/04/2019   Kolkata    Banglore   \n",
       "10680  Jet Airways      27/04/2019  Banglore       Delhi   \n",
       "10681      Vistara      01/03/2019  Banglore   New Delhi   \n",
       "10682    Air India       9/05/2019     Delhi      Cochin   \n",
       "\n",
       "                       Route Dep_Time  Arrival_Time Duration Total_Stops  \\\n",
       "0                  BLR → DEL    22:20  01:10 22 Mar   2h 50m    non-stop   \n",
       "1      CCU → IXR → BBI → BLR    05:50         13:15   7h 25m     2 stops   \n",
       "2      DEL → LKO → BOM → COK    09:25  04:25 10 Jun      19h     2 stops   \n",
       "3            CCU → NAG → BLR    18:05         23:30   5h 25m      1 stop   \n",
       "4            BLR → NAG → DEL    16:50         21:35   4h 45m      1 stop   \n",
       "...                      ...      ...           ...      ...         ...   \n",
       "10678              CCU → BLR    19:55         22:25   2h 30m    non-stop   \n",
       "10679              CCU → BLR    20:45         23:20   2h 35m    non-stop   \n",
       "10680              BLR → DEL    08:20         11:20       3h    non-stop   \n",
       "10681              BLR → DEL    11:30         14:10   2h 40m    non-stop   \n",
       "10682  DEL → GOI → BOM → COK    10:55         19:15   8h 20m     2 stops   \n",
       "\n",
       "      Additional_Info  Price  \n",
       "0             No info   3897  \n",
       "1             No info   7662  \n",
       "2             No info  13882  \n",
       "3             No info   6218  \n",
       "4             No info  13302  \n",
       "...               ...    ...  \n",
       "10678         No info   4107  \n",
       "10679         No info   4145  \n",
       "10680         No info   7229  \n",
       "10681         No info  12648  \n",
       "10682         No info  11753  \n",
       "\n",
       "[10683 rows x 11 columns]"
      ]
     },
     "execution_count": 652,
     "metadata": {},
     "output_type": "execute_result"
    }
   ],
   "source": [
    "train_data = pd.read_excel(r\"C:\\Users\\HP\\Desktop\\New folder\\Course\\Predict Fare of Airline Tickets using Machine Learning\\Data_Train.xlsx\")\n",
    "train_data"
   ]
  },
  {
   "cell_type": "code",
   "execution_count": 653,
   "id": "14a15dc9-773f-4f6d-9e4a-b186ec092673",
   "metadata": {},
   "outputs": [
    {
     "data": {
      "text/html": [
       "<div>\n",
       "<style scoped>\n",
       "    .dataframe tbody tr th:only-of-type {\n",
       "        vertical-align: middle;\n",
       "    }\n",
       "\n",
       "    .dataframe tbody tr th {\n",
       "        vertical-align: top;\n",
       "    }\n",
       "\n",
       "    .dataframe thead th {\n",
       "        text-align: right;\n",
       "    }\n",
       "</style>\n",
       "<table border=\"1\" class=\"dataframe\">\n",
       "  <thead>\n",
       "    <tr style=\"text-align: right;\">\n",
       "      <th></th>\n",
       "      <th>Airline</th>\n",
       "      <th>Date_of_Journey</th>\n",
       "      <th>Source</th>\n",
       "      <th>Destination</th>\n",
       "      <th>Route</th>\n",
       "      <th>Dep_Time</th>\n",
       "      <th>Arrival_Time</th>\n",
       "      <th>Duration</th>\n",
       "      <th>Total_Stops</th>\n",
       "      <th>Additional_Info</th>\n",
       "      <th>Price</th>\n",
       "    </tr>\n",
       "  </thead>\n",
       "  <tbody>\n",
       "    <tr>\n",
       "      <th>0</th>\n",
       "      <td>IndiGo</td>\n",
       "      <td>24/03/2019</td>\n",
       "      <td>Banglore</td>\n",
       "      <td>New Delhi</td>\n",
       "      <td>BLR → DEL</td>\n",
       "      <td>22:20</td>\n",
       "      <td>01:10 22 Mar</td>\n",
       "      <td>2h 50m</td>\n",
       "      <td>non-stop</td>\n",
       "      <td>No info</td>\n",
       "      <td>3897</td>\n",
       "    </tr>\n",
       "    <tr>\n",
       "      <th>1</th>\n",
       "      <td>Air India</td>\n",
       "      <td>1/05/2019</td>\n",
       "      <td>Kolkata</td>\n",
       "      <td>Banglore</td>\n",
       "      <td>CCU → IXR → BBI → BLR</td>\n",
       "      <td>05:50</td>\n",
       "      <td>13:15</td>\n",
       "      <td>7h 25m</td>\n",
       "      <td>2 stops</td>\n",
       "      <td>No info</td>\n",
       "      <td>7662</td>\n",
       "    </tr>\n",
       "    <tr>\n",
       "      <th>2</th>\n",
       "      <td>Jet Airways</td>\n",
       "      <td>9/06/2019</td>\n",
       "      <td>Delhi</td>\n",
       "      <td>Cochin</td>\n",
       "      <td>DEL → LKO → BOM → COK</td>\n",
       "      <td>09:25</td>\n",
       "      <td>04:25 10 Jun</td>\n",
       "      <td>19h</td>\n",
       "      <td>2 stops</td>\n",
       "      <td>No info</td>\n",
       "      <td>13882</td>\n",
       "    </tr>\n",
       "    <tr>\n",
       "      <th>3</th>\n",
       "      <td>IndiGo</td>\n",
       "      <td>12/05/2019</td>\n",
       "      <td>Kolkata</td>\n",
       "      <td>Banglore</td>\n",
       "      <td>CCU → NAG → BLR</td>\n",
       "      <td>18:05</td>\n",
       "      <td>23:30</td>\n",
       "      <td>5h 25m</td>\n",
       "      <td>1 stop</td>\n",
       "      <td>No info</td>\n",
       "      <td>6218</td>\n",
       "    </tr>\n",
       "  </tbody>\n",
       "</table>\n",
       "</div>"
      ],
      "text/plain": [
       "       Airline Date_of_Journey    Source Destination                  Route  \\\n",
       "0       IndiGo      24/03/2019  Banglore   New Delhi              BLR → DEL   \n",
       "1    Air India       1/05/2019   Kolkata    Banglore  CCU → IXR → BBI → BLR   \n",
       "2  Jet Airways       9/06/2019     Delhi      Cochin  DEL → LKO → BOM → COK   \n",
       "3       IndiGo      12/05/2019   Kolkata    Banglore        CCU → NAG → BLR   \n",
       "\n",
       "  Dep_Time  Arrival_Time Duration Total_Stops Additional_Info  Price  \n",
       "0    22:20  01:10 22 Mar   2h 50m    non-stop         No info   3897  \n",
       "1    05:50         13:15   7h 25m     2 stops         No info   7662  \n",
       "2    09:25  04:25 10 Jun      19h     2 stops         No info  13882  \n",
       "3    18:05         23:30   5h 25m      1 stop         No info   6218  "
      ]
     },
     "execution_count": 653,
     "metadata": {},
     "output_type": "execute_result"
    }
   ],
   "source": [
    "train_data.head(4)"
   ]
  },
  {
   "cell_type": "code",
   "execution_count": 654,
   "id": "82a399e1-cb0e-448a-97a4-8838ba6a5f03",
   "metadata": {},
   "outputs": [
    {
     "data": {
      "text/html": [
       "<div>\n",
       "<style scoped>\n",
       "    .dataframe tbody tr th:only-of-type {\n",
       "        vertical-align: middle;\n",
       "    }\n",
       "\n",
       "    .dataframe tbody tr th {\n",
       "        vertical-align: top;\n",
       "    }\n",
       "\n",
       "    .dataframe thead th {\n",
       "        text-align: right;\n",
       "    }\n",
       "</style>\n",
       "<table border=\"1\" class=\"dataframe\">\n",
       "  <thead>\n",
       "    <tr style=\"text-align: right;\">\n",
       "      <th></th>\n",
       "      <th>Airline</th>\n",
       "      <th>Date_of_Journey</th>\n",
       "      <th>Source</th>\n",
       "      <th>Destination</th>\n",
       "      <th>Route</th>\n",
       "      <th>Dep_Time</th>\n",
       "      <th>Arrival_Time</th>\n",
       "      <th>Duration</th>\n",
       "      <th>Total_Stops</th>\n",
       "      <th>Additional_Info</th>\n",
       "      <th>Price</th>\n",
       "    </tr>\n",
       "  </thead>\n",
       "  <tbody>\n",
       "    <tr>\n",
       "      <th>10679</th>\n",
       "      <td>Air India</td>\n",
       "      <td>27/04/2019</td>\n",
       "      <td>Kolkata</td>\n",
       "      <td>Banglore</td>\n",
       "      <td>CCU → BLR</td>\n",
       "      <td>20:45</td>\n",
       "      <td>23:20</td>\n",
       "      <td>2h 35m</td>\n",
       "      <td>non-stop</td>\n",
       "      <td>No info</td>\n",
       "      <td>4145</td>\n",
       "    </tr>\n",
       "    <tr>\n",
       "      <th>10680</th>\n",
       "      <td>Jet Airways</td>\n",
       "      <td>27/04/2019</td>\n",
       "      <td>Banglore</td>\n",
       "      <td>Delhi</td>\n",
       "      <td>BLR → DEL</td>\n",
       "      <td>08:20</td>\n",
       "      <td>11:20</td>\n",
       "      <td>3h</td>\n",
       "      <td>non-stop</td>\n",
       "      <td>No info</td>\n",
       "      <td>7229</td>\n",
       "    </tr>\n",
       "    <tr>\n",
       "      <th>10681</th>\n",
       "      <td>Vistara</td>\n",
       "      <td>01/03/2019</td>\n",
       "      <td>Banglore</td>\n",
       "      <td>New Delhi</td>\n",
       "      <td>BLR → DEL</td>\n",
       "      <td>11:30</td>\n",
       "      <td>14:10</td>\n",
       "      <td>2h 40m</td>\n",
       "      <td>non-stop</td>\n",
       "      <td>No info</td>\n",
       "      <td>12648</td>\n",
       "    </tr>\n",
       "    <tr>\n",
       "      <th>10682</th>\n",
       "      <td>Air India</td>\n",
       "      <td>9/05/2019</td>\n",
       "      <td>Delhi</td>\n",
       "      <td>Cochin</td>\n",
       "      <td>DEL → GOI → BOM → COK</td>\n",
       "      <td>10:55</td>\n",
       "      <td>19:15</td>\n",
       "      <td>8h 20m</td>\n",
       "      <td>2 stops</td>\n",
       "      <td>No info</td>\n",
       "      <td>11753</td>\n",
       "    </tr>\n",
       "  </tbody>\n",
       "</table>\n",
       "</div>"
      ],
      "text/plain": [
       "           Airline Date_of_Journey    Source Destination  \\\n",
       "10679    Air India      27/04/2019   Kolkata    Banglore   \n",
       "10680  Jet Airways      27/04/2019  Banglore       Delhi   \n",
       "10681      Vistara      01/03/2019  Banglore   New Delhi   \n",
       "10682    Air India       9/05/2019     Delhi      Cochin   \n",
       "\n",
       "                       Route Dep_Time Arrival_Time Duration Total_Stops  \\\n",
       "10679              CCU → BLR    20:45        23:20   2h 35m    non-stop   \n",
       "10680              BLR → DEL    08:20        11:20       3h    non-stop   \n",
       "10681              BLR → DEL    11:30        14:10   2h 40m    non-stop   \n",
       "10682  DEL → GOI → BOM → COK    10:55        19:15   8h 20m     2 stops   \n",
       "\n",
       "      Additional_Info  Price  \n",
       "10679         No info   4145  \n",
       "10680         No info   7229  \n",
       "10681         No info  12648  \n",
       "10682         No info  11753  "
      ]
     },
     "execution_count": 654,
     "metadata": {},
     "output_type": "execute_result"
    }
   ],
   "source": [
    "train_data.tail(4)"
   ]
  },
  {
   "cell_type": "markdown",
   "id": "b736166b-0725-40bc-8cc9-bb857f46125e",
   "metadata": {},
   "source": [
    "#Data Cleaning"
   ]
  },
  {
   "cell_type": "code",
   "execution_count": 655,
   "id": "09b52165-cd89-4b75-a49c-09baa6ed8aa4",
   "metadata": {},
   "outputs": [
    {
     "name": "stdout",
     "output_type": "stream",
     "text": [
      "<class 'pandas.core.frame.DataFrame'>\n",
      "RangeIndex: 10683 entries, 0 to 10682\n",
      "Data columns (total 11 columns):\n",
      " #   Column           Non-Null Count  Dtype \n",
      "---  ------           --------------  ----- \n",
      " 0   Airline          10683 non-null  object\n",
      " 1   Date_of_Journey  10683 non-null  object\n",
      " 2   Source           10683 non-null  object\n",
      " 3   Destination      10683 non-null  object\n",
      " 4   Route            10682 non-null  object\n",
      " 5   Dep_Time         10683 non-null  object\n",
      " 6   Arrival_Time     10683 non-null  object\n",
      " 7   Duration         10683 non-null  object\n",
      " 8   Total_Stops      10682 non-null  object\n",
      " 9   Additional_Info  10683 non-null  object\n",
      " 10  Price            10683 non-null  int64 \n",
      "dtypes: int64(1), object(10)\n",
      "memory usage: 918.2+ KB\n"
     ]
    }
   ],
   "source": [
    "train_data.info()"
   ]
  },
  {
   "cell_type": "code",
   "execution_count": 656,
   "id": "ad01de5c-5fff-43ac-b7d3-b165eb7d0bf5",
   "metadata": {},
   "outputs": [
    {
     "data": {
      "text/html": [
       "<div>\n",
       "<style scoped>\n",
       "    .dataframe tbody tr th:only-of-type {\n",
       "        vertical-align: middle;\n",
       "    }\n",
       "\n",
       "    .dataframe tbody tr th {\n",
       "        vertical-align: top;\n",
       "    }\n",
       "\n",
       "    .dataframe thead th {\n",
       "        text-align: right;\n",
       "    }\n",
       "</style>\n",
       "<table border=\"1\" class=\"dataframe\">\n",
       "  <thead>\n",
       "    <tr style=\"text-align: right;\">\n",
       "      <th></th>\n",
       "      <th>Airline</th>\n",
       "      <th>Date_of_Journey</th>\n",
       "      <th>Source</th>\n",
       "      <th>Destination</th>\n",
       "      <th>Route</th>\n",
       "      <th>Dep_Time</th>\n",
       "      <th>Arrival_Time</th>\n",
       "      <th>Duration</th>\n",
       "      <th>Total_Stops</th>\n",
       "      <th>Additional_Info</th>\n",
       "      <th>Price</th>\n",
       "    </tr>\n",
       "  </thead>\n",
       "  <tbody>\n",
       "    <tr>\n",
       "      <th>0</th>\n",
       "      <td>False</td>\n",
       "      <td>False</td>\n",
       "      <td>False</td>\n",
       "      <td>False</td>\n",
       "      <td>False</td>\n",
       "      <td>False</td>\n",
       "      <td>False</td>\n",
       "      <td>False</td>\n",
       "      <td>False</td>\n",
       "      <td>False</td>\n",
       "      <td>False</td>\n",
       "    </tr>\n",
       "    <tr>\n",
       "      <th>1</th>\n",
       "      <td>False</td>\n",
       "      <td>False</td>\n",
       "      <td>False</td>\n",
       "      <td>False</td>\n",
       "      <td>False</td>\n",
       "      <td>False</td>\n",
       "      <td>False</td>\n",
       "      <td>False</td>\n",
       "      <td>False</td>\n",
       "      <td>False</td>\n",
       "      <td>False</td>\n",
       "    </tr>\n",
       "    <tr>\n",
       "      <th>2</th>\n",
       "      <td>False</td>\n",
       "      <td>False</td>\n",
       "      <td>False</td>\n",
       "      <td>False</td>\n",
       "      <td>False</td>\n",
       "      <td>False</td>\n",
       "      <td>False</td>\n",
       "      <td>False</td>\n",
       "      <td>False</td>\n",
       "      <td>False</td>\n",
       "      <td>False</td>\n",
       "    </tr>\n",
       "    <tr>\n",
       "      <th>3</th>\n",
       "      <td>False</td>\n",
       "      <td>False</td>\n",
       "      <td>False</td>\n",
       "      <td>False</td>\n",
       "      <td>False</td>\n",
       "      <td>False</td>\n",
       "      <td>False</td>\n",
       "      <td>False</td>\n",
       "      <td>False</td>\n",
       "      <td>False</td>\n",
       "      <td>False</td>\n",
       "    </tr>\n",
       "    <tr>\n",
       "      <th>4</th>\n",
       "      <td>False</td>\n",
       "      <td>False</td>\n",
       "      <td>False</td>\n",
       "      <td>False</td>\n",
       "      <td>False</td>\n",
       "      <td>False</td>\n",
       "      <td>False</td>\n",
       "      <td>False</td>\n",
       "      <td>False</td>\n",
       "      <td>False</td>\n",
       "      <td>False</td>\n",
       "    </tr>\n",
       "    <tr>\n",
       "      <th>...</th>\n",
       "      <td>...</td>\n",
       "      <td>...</td>\n",
       "      <td>...</td>\n",
       "      <td>...</td>\n",
       "      <td>...</td>\n",
       "      <td>...</td>\n",
       "      <td>...</td>\n",
       "      <td>...</td>\n",
       "      <td>...</td>\n",
       "      <td>...</td>\n",
       "      <td>...</td>\n",
       "    </tr>\n",
       "    <tr>\n",
       "      <th>10678</th>\n",
       "      <td>False</td>\n",
       "      <td>False</td>\n",
       "      <td>False</td>\n",
       "      <td>False</td>\n",
       "      <td>False</td>\n",
       "      <td>False</td>\n",
       "      <td>False</td>\n",
       "      <td>False</td>\n",
       "      <td>False</td>\n",
       "      <td>False</td>\n",
       "      <td>False</td>\n",
       "    </tr>\n",
       "    <tr>\n",
       "      <th>10679</th>\n",
       "      <td>False</td>\n",
       "      <td>False</td>\n",
       "      <td>False</td>\n",
       "      <td>False</td>\n",
       "      <td>False</td>\n",
       "      <td>False</td>\n",
       "      <td>False</td>\n",
       "      <td>False</td>\n",
       "      <td>False</td>\n",
       "      <td>False</td>\n",
       "      <td>False</td>\n",
       "    </tr>\n",
       "    <tr>\n",
       "      <th>10680</th>\n",
       "      <td>False</td>\n",
       "      <td>False</td>\n",
       "      <td>False</td>\n",
       "      <td>False</td>\n",
       "      <td>False</td>\n",
       "      <td>False</td>\n",
       "      <td>False</td>\n",
       "      <td>False</td>\n",
       "      <td>False</td>\n",
       "      <td>False</td>\n",
       "      <td>False</td>\n",
       "    </tr>\n",
       "    <tr>\n",
       "      <th>10681</th>\n",
       "      <td>False</td>\n",
       "      <td>False</td>\n",
       "      <td>False</td>\n",
       "      <td>False</td>\n",
       "      <td>False</td>\n",
       "      <td>False</td>\n",
       "      <td>False</td>\n",
       "      <td>False</td>\n",
       "      <td>False</td>\n",
       "      <td>False</td>\n",
       "      <td>False</td>\n",
       "    </tr>\n",
       "    <tr>\n",
       "      <th>10682</th>\n",
       "      <td>False</td>\n",
       "      <td>False</td>\n",
       "      <td>False</td>\n",
       "      <td>False</td>\n",
       "      <td>False</td>\n",
       "      <td>False</td>\n",
       "      <td>False</td>\n",
       "      <td>False</td>\n",
       "      <td>False</td>\n",
       "      <td>False</td>\n",
       "      <td>False</td>\n",
       "    </tr>\n",
       "  </tbody>\n",
       "</table>\n",
       "<p>10683 rows × 11 columns</p>\n",
       "</div>"
      ],
      "text/plain": [
       "       Airline  Date_of_Journey  Source  Destination  Route  Dep_Time  \\\n",
       "0        False            False   False        False  False     False   \n",
       "1        False            False   False        False  False     False   \n",
       "2        False            False   False        False  False     False   \n",
       "3        False            False   False        False  False     False   \n",
       "4        False            False   False        False  False     False   \n",
       "...        ...              ...     ...          ...    ...       ...   \n",
       "10678    False            False   False        False  False     False   \n",
       "10679    False            False   False        False  False     False   \n",
       "10680    False            False   False        False  False     False   \n",
       "10681    False            False   False        False  False     False   \n",
       "10682    False            False   False        False  False     False   \n",
       "\n",
       "       Arrival_Time  Duration  Total_Stops  Additional_Info  Price  \n",
       "0             False     False        False            False  False  \n",
       "1             False     False        False            False  False  \n",
       "2             False     False        False            False  False  \n",
       "3             False     False        False            False  False  \n",
       "4             False     False        False            False  False  \n",
       "...             ...       ...          ...              ...    ...  \n",
       "10678         False     False        False            False  False  \n",
       "10679         False     False        False            False  False  \n",
       "10680         False     False        False            False  False  \n",
       "10681         False     False        False            False  False  \n",
       "10682         False     False        False            False  False  \n",
       "\n",
       "[10683 rows x 11 columns]"
      ]
     },
     "execution_count": 656,
     "metadata": {},
     "output_type": "execute_result"
    }
   ],
   "source": [
    "train_data.isnull()"
   ]
  },
  {
   "cell_type": "code",
   "execution_count": 657,
   "id": "60b66149-c2f5-4bf4-ab57-6dc096394dd4",
   "metadata": {},
   "outputs": [
    {
     "data": {
      "text/plain": [
       "Airline            0\n",
       "Date_of_Journey    0\n",
       "Source             0\n",
       "Destination        0\n",
       "Route              1\n",
       "Dep_Time           0\n",
       "Arrival_Time       0\n",
       "Duration           0\n",
       "Total_Stops        1\n",
       "Additional_Info    0\n",
       "Price              0\n",
       "dtype: int64"
      ]
     },
     "execution_count": 657,
     "metadata": {},
     "output_type": "execute_result"
    }
   ],
   "source": [
    "#Missing values count\n",
    "train_data.isnull().sum()"
   ]
  },
  {
   "cell_type": "code",
   "execution_count": 658,
   "id": "f02c1b34-aa15-4360-a795-8344cc290e1a",
   "metadata": {},
   "outputs": [
    {
     "data": {
      "text/plain": [
       "0        False\n",
       "1        False\n",
       "2        False\n",
       "3        False\n",
       "4        False\n",
       "         ...  \n",
       "10678    False\n",
       "10679    False\n",
       "10680    False\n",
       "10681    False\n",
       "10682    False\n",
       "Name: Total_Stops, Length: 10683, dtype: bool"
      ]
     },
     "execution_count": 658,
     "metadata": {},
     "output_type": "execute_result"
    }
   ],
   "source": [
    "train_data['Total_Stops'].isnull()"
   ]
  },
  {
   "cell_type": "code",
   "execution_count": 659,
   "id": "8e70bf49-17dc-4fe9-a515-8bbe97c6258a",
   "metadata": {},
   "outputs": [
    {
     "data": {
      "text/html": [
       "<div>\n",
       "<style scoped>\n",
       "    .dataframe tbody tr th:only-of-type {\n",
       "        vertical-align: middle;\n",
       "    }\n",
       "\n",
       "    .dataframe tbody tr th {\n",
       "        vertical-align: top;\n",
       "    }\n",
       "\n",
       "    .dataframe thead th {\n",
       "        text-align: right;\n",
       "    }\n",
       "</style>\n",
       "<table border=\"1\" class=\"dataframe\">\n",
       "  <thead>\n",
       "    <tr style=\"text-align: right;\">\n",
       "      <th></th>\n",
       "      <th>Airline</th>\n",
       "      <th>Date_of_Journey</th>\n",
       "      <th>Source</th>\n",
       "      <th>Destination</th>\n",
       "      <th>Route</th>\n",
       "      <th>Dep_Time</th>\n",
       "      <th>Arrival_Time</th>\n",
       "      <th>Duration</th>\n",
       "      <th>Total_Stops</th>\n",
       "      <th>Additional_Info</th>\n",
       "      <th>Price</th>\n",
       "    </tr>\n",
       "  </thead>\n",
       "  <tbody>\n",
       "    <tr>\n",
       "      <th>9039</th>\n",
       "      <td>Air India</td>\n",
       "      <td>6/05/2019</td>\n",
       "      <td>Delhi</td>\n",
       "      <td>Cochin</td>\n",
       "      <td>NaN</td>\n",
       "      <td>09:45</td>\n",
       "      <td>09:25 07 May</td>\n",
       "      <td>23h 40m</td>\n",
       "      <td>NaN</td>\n",
       "      <td>No info</td>\n",
       "      <td>7480</td>\n",
       "    </tr>\n",
       "  </tbody>\n",
       "</table>\n",
       "</div>"
      ],
      "text/plain": [
       "        Airline Date_of_Journey Source Destination Route Dep_Time  \\\n",
       "9039  Air India       6/05/2019  Delhi      Cochin   NaN    09:45   \n",
       "\n",
       "      Arrival_Time Duration Total_Stops Additional_Info  Price  \n",
       "9039  09:25 07 May  23h 40m         NaN         No info   7480  "
      ]
     },
     "execution_count": 659,
     "metadata": {},
     "output_type": "execute_result"
    }
   ],
   "source": [
    "#Only row in which i have missing values\n",
    "train_data[train_data['Total_Stops'].isnull()]\n",
    "\n",
    "#NaN is non available value (missing values of data)"
   ]
  },
  {
   "cell_type": "code",
   "execution_count": 660,
   "id": "cad0e5c9-4b31-4cef-8c45-31afb40824d9",
   "metadata": {},
   "outputs": [
    {
     "data": {
      "text/html": [
       "<div>\n",
       "<style scoped>\n",
       "    .dataframe tbody tr th:only-of-type {\n",
       "        vertical-align: middle;\n",
       "    }\n",
       "\n",
       "    .dataframe tbody tr th {\n",
       "        vertical-align: top;\n",
       "    }\n",
       "\n",
       "    .dataframe thead th {\n",
       "        text-align: right;\n",
       "    }\n",
       "</style>\n",
       "<table border=\"1\" class=\"dataframe\">\n",
       "  <thead>\n",
       "    <tr style=\"text-align: right;\">\n",
       "      <th></th>\n",
       "      <th>Airline</th>\n",
       "      <th>Date_of_Journey</th>\n",
       "      <th>Source</th>\n",
       "      <th>Destination</th>\n",
       "      <th>Route</th>\n",
       "      <th>Dep_Time</th>\n",
       "      <th>Arrival_Time</th>\n",
       "      <th>Duration</th>\n",
       "      <th>Total_Stops</th>\n",
       "      <th>Additional_Info</th>\n",
       "      <th>Price</th>\n",
       "    </tr>\n",
       "  </thead>\n",
       "  <tbody>\n",
       "    <tr>\n",
       "      <th>0</th>\n",
       "      <td>IndiGo</td>\n",
       "      <td>24/03/2019</td>\n",
       "      <td>Banglore</td>\n",
       "      <td>New Delhi</td>\n",
       "      <td>BLR → DEL</td>\n",
       "      <td>22:20</td>\n",
       "      <td>01:10 22 Mar</td>\n",
       "      <td>2h 50m</td>\n",
       "      <td>non-stop</td>\n",
       "      <td>No info</td>\n",
       "      <td>3897</td>\n",
       "    </tr>\n",
       "    <tr>\n",
       "      <th>1</th>\n",
       "      <td>Air India</td>\n",
       "      <td>1/05/2019</td>\n",
       "      <td>Kolkata</td>\n",
       "      <td>Banglore</td>\n",
       "      <td>CCU → IXR → BBI → BLR</td>\n",
       "      <td>05:50</td>\n",
       "      <td>13:15</td>\n",
       "      <td>7h 25m</td>\n",
       "      <td>2 stops</td>\n",
       "      <td>No info</td>\n",
       "      <td>7662</td>\n",
       "    </tr>\n",
       "    <tr>\n",
       "      <th>2</th>\n",
       "      <td>Jet Airways</td>\n",
       "      <td>9/06/2019</td>\n",
       "      <td>Delhi</td>\n",
       "      <td>Cochin</td>\n",
       "      <td>DEL → LKO → BOM → COK</td>\n",
       "      <td>09:25</td>\n",
       "      <td>04:25 10 Jun</td>\n",
       "      <td>19h</td>\n",
       "      <td>2 stops</td>\n",
       "      <td>No info</td>\n",
       "      <td>13882</td>\n",
       "    </tr>\n",
       "    <tr>\n",
       "      <th>3</th>\n",
       "      <td>IndiGo</td>\n",
       "      <td>12/05/2019</td>\n",
       "      <td>Kolkata</td>\n",
       "      <td>Banglore</td>\n",
       "      <td>CCU → NAG → BLR</td>\n",
       "      <td>18:05</td>\n",
       "      <td>23:30</td>\n",
       "      <td>5h 25m</td>\n",
       "      <td>1 stop</td>\n",
       "      <td>No info</td>\n",
       "      <td>6218</td>\n",
       "    </tr>\n",
       "    <tr>\n",
       "      <th>4</th>\n",
       "      <td>IndiGo</td>\n",
       "      <td>01/03/2019</td>\n",
       "      <td>Banglore</td>\n",
       "      <td>New Delhi</td>\n",
       "      <td>BLR → NAG → DEL</td>\n",
       "      <td>16:50</td>\n",
       "      <td>21:35</td>\n",
       "      <td>4h 45m</td>\n",
       "      <td>1 stop</td>\n",
       "      <td>No info</td>\n",
       "      <td>13302</td>\n",
       "    </tr>\n",
       "    <tr>\n",
       "      <th>...</th>\n",
       "      <td>...</td>\n",
       "      <td>...</td>\n",
       "      <td>...</td>\n",
       "      <td>...</td>\n",
       "      <td>...</td>\n",
       "      <td>...</td>\n",
       "      <td>...</td>\n",
       "      <td>...</td>\n",
       "      <td>...</td>\n",
       "      <td>...</td>\n",
       "      <td>...</td>\n",
       "    </tr>\n",
       "    <tr>\n",
       "      <th>10678</th>\n",
       "      <td>Air Asia</td>\n",
       "      <td>9/04/2019</td>\n",
       "      <td>Kolkata</td>\n",
       "      <td>Banglore</td>\n",
       "      <td>CCU → BLR</td>\n",
       "      <td>19:55</td>\n",
       "      <td>22:25</td>\n",
       "      <td>2h 30m</td>\n",
       "      <td>non-stop</td>\n",
       "      <td>No info</td>\n",
       "      <td>4107</td>\n",
       "    </tr>\n",
       "    <tr>\n",
       "      <th>10679</th>\n",
       "      <td>Air India</td>\n",
       "      <td>27/04/2019</td>\n",
       "      <td>Kolkata</td>\n",
       "      <td>Banglore</td>\n",
       "      <td>CCU → BLR</td>\n",
       "      <td>20:45</td>\n",
       "      <td>23:20</td>\n",
       "      <td>2h 35m</td>\n",
       "      <td>non-stop</td>\n",
       "      <td>No info</td>\n",
       "      <td>4145</td>\n",
       "    </tr>\n",
       "    <tr>\n",
       "      <th>10680</th>\n",
       "      <td>Jet Airways</td>\n",
       "      <td>27/04/2019</td>\n",
       "      <td>Banglore</td>\n",
       "      <td>Delhi</td>\n",
       "      <td>BLR → DEL</td>\n",
       "      <td>08:20</td>\n",
       "      <td>11:20</td>\n",
       "      <td>3h</td>\n",
       "      <td>non-stop</td>\n",
       "      <td>No info</td>\n",
       "      <td>7229</td>\n",
       "    </tr>\n",
       "    <tr>\n",
       "      <th>10681</th>\n",
       "      <td>Vistara</td>\n",
       "      <td>01/03/2019</td>\n",
       "      <td>Banglore</td>\n",
       "      <td>New Delhi</td>\n",
       "      <td>BLR → DEL</td>\n",
       "      <td>11:30</td>\n",
       "      <td>14:10</td>\n",
       "      <td>2h 40m</td>\n",
       "      <td>non-stop</td>\n",
       "      <td>No info</td>\n",
       "      <td>12648</td>\n",
       "    </tr>\n",
       "    <tr>\n",
       "      <th>10682</th>\n",
       "      <td>Air India</td>\n",
       "      <td>9/05/2019</td>\n",
       "      <td>Delhi</td>\n",
       "      <td>Cochin</td>\n",
       "      <td>DEL → GOI → BOM → COK</td>\n",
       "      <td>10:55</td>\n",
       "      <td>19:15</td>\n",
       "      <td>8h 20m</td>\n",
       "      <td>2 stops</td>\n",
       "      <td>No info</td>\n",
       "      <td>11753</td>\n",
       "    </tr>\n",
       "  </tbody>\n",
       "</table>\n",
       "<p>10682 rows × 11 columns</p>\n",
       "</div>"
      ],
      "text/plain": [
       "           Airline Date_of_Journey    Source Destination  \\\n",
       "0           IndiGo      24/03/2019  Banglore   New Delhi   \n",
       "1        Air India       1/05/2019   Kolkata    Banglore   \n",
       "2      Jet Airways       9/06/2019     Delhi      Cochin   \n",
       "3           IndiGo      12/05/2019   Kolkata    Banglore   \n",
       "4           IndiGo      01/03/2019  Banglore   New Delhi   \n",
       "...            ...             ...       ...         ...   \n",
       "10678     Air Asia       9/04/2019   Kolkata    Banglore   \n",
       "10679    Air India      27/04/2019   Kolkata    Banglore   \n",
       "10680  Jet Airways      27/04/2019  Banglore       Delhi   \n",
       "10681      Vistara      01/03/2019  Banglore   New Delhi   \n",
       "10682    Air India       9/05/2019     Delhi      Cochin   \n",
       "\n",
       "                       Route Dep_Time  Arrival_Time Duration Total_Stops  \\\n",
       "0                  BLR → DEL    22:20  01:10 22 Mar   2h 50m    non-stop   \n",
       "1      CCU → IXR → BBI → BLR    05:50         13:15   7h 25m     2 stops   \n",
       "2      DEL → LKO → BOM → COK    09:25  04:25 10 Jun      19h     2 stops   \n",
       "3            CCU → NAG → BLR    18:05         23:30   5h 25m      1 stop   \n",
       "4            BLR → NAG → DEL    16:50         21:35   4h 45m      1 stop   \n",
       "...                      ...      ...           ...      ...         ...   \n",
       "10678              CCU → BLR    19:55         22:25   2h 30m    non-stop   \n",
       "10679              CCU → BLR    20:45         23:20   2h 35m    non-stop   \n",
       "10680              BLR → DEL    08:20         11:20       3h    non-stop   \n",
       "10681              BLR → DEL    11:30         14:10   2h 40m    non-stop   \n",
       "10682  DEL → GOI → BOM → COK    10:55         19:15   8h 20m     2 stops   \n",
       "\n",
       "      Additional_Info  Price  \n",
       "0             No info   3897  \n",
       "1             No info   7662  \n",
       "2             No info  13882  \n",
       "3             No info   6218  \n",
       "4             No info  13302  \n",
       "...               ...    ...  \n",
       "10678         No info   4107  \n",
       "10679         No info   4145  \n",
       "10680         No info   7229  \n",
       "10681         No info  12648  \n",
       "10682         No info  11753  \n",
       "\n",
       "[10682 rows x 11 columns]"
      ]
     },
     "execution_count": 660,
     "metadata": {},
     "output_type": "execute_result"
    }
   ],
   "source": [
    "#Remove missing values\n",
    "train_data.dropna()"
   ]
  },
  {
   "cell_type": "code",
   "execution_count": 661,
   "id": "762b9a29-8970-4e4a-85c4-346b15327505",
   "metadata": {},
   "outputs": [],
   "source": [
    "train_data.dropna(inplace=True)"
   ]
  },
  {
   "cell_type": "code",
   "execution_count": 662,
   "id": "82ff4112-dd34-4429-8dfe-d4df2de9ca67",
   "metadata": {},
   "outputs": [
    {
     "data": {
      "text/plain": [
       "Airline            0\n",
       "Date_of_Journey    0\n",
       "Source             0\n",
       "Destination        0\n",
       "Route              0\n",
       "Dep_Time           0\n",
       "Arrival_Time       0\n",
       "Duration           0\n",
       "Total_Stops        0\n",
       "Additional_Info    0\n",
       "Price              0\n",
       "dtype: int64"
      ]
     },
     "execution_count": 662,
     "metadata": {},
     "output_type": "execute_result"
    }
   ],
   "source": [
    "#Now we do not have any missing values\n",
    "train_data.isnull().sum()"
   ]
  },
  {
   "cell_type": "code",
   "execution_count": 663,
   "id": "977114dc-d22e-45cd-b14a-a78a4f95455f",
   "metadata": {},
   "outputs": [
    {
     "data": {
      "text/plain": [
       "Airline            object\n",
       "Date_of_Journey    object\n",
       "Source             object\n",
       "Destination        object\n",
       "Route              object\n",
       "Dep_Time           object\n",
       "Arrival_Time       object\n",
       "Duration           object\n",
       "Total_Stops        object\n",
       "Additional_Info    object\n",
       "Price               int64\n",
       "dtype: object"
      ]
     },
     "execution_count": 663,
     "metadata": {},
     "output_type": "execute_result"
    }
   ],
   "source": [
    "train_data.dtypes"
   ]
  },
  {
   "cell_type": "code",
   "execution_count": 664,
   "id": "b87eeb42-b9b0-4b3e-947b-d3c0e8136288",
   "metadata": {},
   "outputs": [
    {
     "name": "stdout",
     "output_type": "stream",
     "text": [
      "<class 'pandas.core.frame.DataFrame'>\n",
      "Index: 10682 entries, 0 to 10682\n",
      "Data columns (total 11 columns):\n",
      " #   Column           Non-Null Count  Dtype \n",
      "---  ------           --------------  ----- \n",
      " 0   Airline          10682 non-null  object\n",
      " 1   Date_of_Journey  10682 non-null  object\n",
      " 2   Source           10682 non-null  object\n",
      " 3   Destination      10682 non-null  object\n",
      " 4   Route            10682 non-null  object\n",
      " 5   Dep_Time         10682 non-null  object\n",
      " 6   Arrival_Time     10682 non-null  object\n",
      " 7   Duration         10682 non-null  object\n",
      " 8   Total_Stops      10682 non-null  object\n",
      " 9   Additional_Info  10682 non-null  object\n",
      " 10  Price            10682 non-null  int64 \n",
      "dtypes: int64(1), object(10)\n",
      "memory usage: 7.2 MB\n"
     ]
    }
   ],
   "source": [
    "\n",
    "train_data.info(memory_usage=\"deep\")"
   ]
  },
  {
   "cell_type": "markdown",
   "id": "48e31156-fff3-4b89-857d-8956a1090205",
   "metadata": {},
   "source": [
    "#Data Preparation "
   ]
  },
  {
   "cell_type": "code",
   "execution_count": 665,
   "id": "973aac8c-60f6-4a17-a1de-0cf6a258314c",
   "metadata": {},
   "outputs": [
    {
     "data": {
      "text/html": [
       "<div>\n",
       "<style scoped>\n",
       "    .dataframe tbody tr th:only-of-type {\n",
       "        vertical-align: middle;\n",
       "    }\n",
       "\n",
       "    .dataframe tbody tr th {\n",
       "        vertical-align: top;\n",
       "    }\n",
       "\n",
       "    .dataframe thead th {\n",
       "        text-align: right;\n",
       "    }\n",
       "</style>\n",
       "<table border=\"1\" class=\"dataframe\">\n",
       "  <thead>\n",
       "    <tr style=\"text-align: right;\">\n",
       "      <th></th>\n",
       "      <th>Airline</th>\n",
       "      <th>Date_of_Journey</th>\n",
       "      <th>Source</th>\n",
       "      <th>Destination</th>\n",
       "      <th>Route</th>\n",
       "      <th>Dep_Time</th>\n",
       "      <th>Arrival_Time</th>\n",
       "      <th>Duration</th>\n",
       "      <th>Total_Stops</th>\n",
       "      <th>Additional_Info</th>\n",
       "      <th>Price</th>\n",
       "    </tr>\n",
       "  </thead>\n",
       "  <tbody>\n",
       "    <tr>\n",
       "      <th>0</th>\n",
       "      <td>IndiGo</td>\n",
       "      <td>24/03/2019</td>\n",
       "      <td>Banglore</td>\n",
       "      <td>New Delhi</td>\n",
       "      <td>BLR → DEL</td>\n",
       "      <td>22:20</td>\n",
       "      <td>01:10 22 Mar</td>\n",
       "      <td>2h 50m</td>\n",
       "      <td>non-stop</td>\n",
       "      <td>No info</td>\n",
       "      <td>3897</td>\n",
       "    </tr>\n",
       "    <tr>\n",
       "      <th>1</th>\n",
       "      <td>Air India</td>\n",
       "      <td>1/05/2019</td>\n",
       "      <td>Kolkata</td>\n",
       "      <td>Banglore</td>\n",
       "      <td>CCU → IXR → BBI → BLR</td>\n",
       "      <td>05:50</td>\n",
       "      <td>13:15</td>\n",
       "      <td>7h 25m</td>\n",
       "      <td>2 stops</td>\n",
       "      <td>No info</td>\n",
       "      <td>7662</td>\n",
       "    </tr>\n",
       "    <tr>\n",
       "      <th>2</th>\n",
       "      <td>Jet Airways</td>\n",
       "      <td>9/06/2019</td>\n",
       "      <td>Delhi</td>\n",
       "      <td>Cochin</td>\n",
       "      <td>DEL → LKO → BOM → COK</td>\n",
       "      <td>09:25</td>\n",
       "      <td>04:25 10 Jun</td>\n",
       "      <td>19h</td>\n",
       "      <td>2 stops</td>\n",
       "      <td>No info</td>\n",
       "      <td>13882</td>\n",
       "    </tr>\n",
       "    <tr>\n",
       "      <th>3</th>\n",
       "      <td>IndiGo</td>\n",
       "      <td>12/05/2019</td>\n",
       "      <td>Kolkata</td>\n",
       "      <td>Banglore</td>\n",
       "      <td>CCU → NAG → BLR</td>\n",
       "      <td>18:05</td>\n",
       "      <td>23:30</td>\n",
       "      <td>5h 25m</td>\n",
       "      <td>1 stop</td>\n",
       "      <td>No info</td>\n",
       "      <td>6218</td>\n",
       "    </tr>\n",
       "  </tbody>\n",
       "</table>\n",
       "</div>"
      ],
      "text/plain": [
       "       Airline Date_of_Journey    Source Destination                  Route  \\\n",
       "0       IndiGo      24/03/2019  Banglore   New Delhi              BLR → DEL   \n",
       "1    Air India       1/05/2019   Kolkata    Banglore  CCU → IXR → BBI → BLR   \n",
       "2  Jet Airways       9/06/2019     Delhi      Cochin  DEL → LKO → BOM → COK   \n",
       "3       IndiGo      12/05/2019   Kolkata    Banglore        CCU → NAG → BLR   \n",
       "\n",
       "  Dep_Time  Arrival_Time Duration Total_Stops Additional_Info  Price  \n",
       "0    22:20  01:10 22 Mar   2h 50m    non-stop         No info   3897  \n",
       "1    05:50         13:15   7h 25m     2 stops         No info   7662  \n",
       "2    09:25  04:25 10 Jun      19h     2 stops         No info  13882  \n",
       "3    18:05         23:30   5h 25m      1 stop         No info   6218  "
      ]
     },
     "execution_count": 665,
     "metadata": {},
     "output_type": "execute_result"
    }
   ],
   "source": [
    "#create copy of dataset\n",
    "data = train_data.copy()\n",
    "data.head(4)"
   ]
  },
  {
   "cell_type": "code",
   "execution_count": 666,
   "id": "536199f2-e52e-4a3a-bb31-8cbcd0e63678",
   "metadata": {},
   "outputs": [
    {
     "data": {
      "text/plain": [
       "Index(['Airline', 'Date_of_Journey', 'Source', 'Destination', 'Route',\n",
       "       'Dep_Time', 'Arrival_Time', 'Duration', 'Total_Stops',\n",
       "       'Additional_Info', 'Price'],\n",
       "      dtype='object')"
      ]
     },
     "execution_count": 666,
     "metadata": {},
     "output_type": "execute_result"
    }
   ],
   "source": [
    "data.columns"
   ]
  },
  {
   "cell_type": "code",
   "execution_count": 667,
   "id": "e5993331-2f4d-4f7a-ab5a-db571cab4060",
   "metadata": {},
   "outputs": [
    {
     "data": {
      "text/plain": [
       "Airline            object\n",
       "Date_of_Journey    object\n",
       "Source             object\n",
       "Destination        object\n",
       "Route              object\n",
       "Dep_Time           object\n",
       "Arrival_Time       object\n",
       "Duration           object\n",
       "Total_Stops        object\n",
       "Additional_Info    object\n",
       "Price               int64\n",
       "dtype: object"
      ]
     },
     "execution_count": 667,
     "metadata": {},
     "output_type": "execute_result"
    }
   ],
   "source": [
    "#DateOfJourney, DepTime and ArrivalTime should be Time Stamp values datatype\n",
    "data.dtypes"
   ]
  },
  {
   "cell_type": "code",
   "execution_count": 668,
   "id": "f2606efb-f609-4335-a16f-c83a10e08573",
   "metadata": {},
   "outputs": [],
   "source": [
    "#create a function to change dtypes\n",
    "def change_into_Datetime(col):\n",
    "    data[col] = pd.to_datetime(data[col])"
   ]
  },
  {
   "cell_type": "code",
   "execution_count": 669,
   "id": "f3b0e38b-e686-4435-aa7c-0cd74a8b581c",
   "metadata": {},
   "outputs": [],
   "source": [
    "#ignore warnings\n",
    "import warnings\n",
    "from warnings import filterwarnings\n",
    "filterwarnings(\"ignore\")"
   ]
  },
  {
   "cell_type": "code",
   "execution_count": 670,
   "id": "145c59b6-82e2-4b14-a45c-5b4957d6d0d3",
   "metadata": {},
   "outputs": [
    {
     "data": {
      "text/plain": [
       "Index(['Airline', 'Date_of_Journey', 'Source', 'Destination', 'Route',\n",
       "       'Dep_Time', 'Arrival_Time', 'Duration', 'Total_Stops',\n",
       "       'Additional_Info', 'Price'],\n",
       "      dtype='object')"
      ]
     },
     "execution_count": 670,
     "metadata": {},
     "output_type": "execute_result"
    }
   ],
   "source": [
    "data.columns"
   ]
  },
  {
   "cell_type": "code",
   "execution_count": 671,
   "id": "4e53a523-180f-4cc1-8f87-1681d0fabaed",
   "metadata": {},
   "outputs": [],
   "source": [
    "#Call above function to change dtype of the columns list\n",
    "for feature in['Dep_Time', 'Arrival_Time','Date_of_Journey']:\n",
    "    change_into_Datetime(feature)"
   ]
  },
  {
   "cell_type": "code",
   "execution_count": 672,
   "id": "a5617873-dde3-464a-80ed-509006280bf6",
   "metadata": {},
   "outputs": [
    {
     "data": {
      "text/plain": [
       "Airline                    object\n",
       "Date_of_Journey    datetime64[ns]\n",
       "Source                     object\n",
       "Destination                object\n",
       "Route                      object\n",
       "Dep_Time           datetime64[ns]\n",
       "Arrival_Time       datetime64[ns]\n",
       "Duration                   object\n",
       "Total_Stops                object\n",
       "Additional_Info            object\n",
       "Price                       int64\n",
       "dtype: object"
      ]
     },
     "execution_count": 672,
     "metadata": {},
     "output_type": "execute_result"
    }
   ],
   "source": [
    "#ns= nano setting\n",
    "data.dtypes"
   ]
  },
  {
   "cell_type": "code",
   "execution_count": 673,
   "id": "6ebff21f-b187-45b9-ad44-7b7b04c0c75e",
   "metadata": {},
   "outputs": [
    {
     "data": {
      "text/plain": [
       "0        2019\n",
       "1        2019\n",
       "2        2019\n",
       "3        2019\n",
       "4        2019\n",
       "         ... \n",
       "10678    2019\n",
       "10679    2019\n",
       "10680    2019\n",
       "10681    2019\n",
       "10682    2019\n",
       "Name: Date_of_Journey, Length: 10682, dtype: int32"
      ]
     },
     "execution_count": 673,
     "metadata": {},
     "output_type": "execute_result"
    }
   ],
   "source": [
    "# dt is used to find date time it is pandas accessor\n",
    "data['Date_of_Journey'].dt.year"
   ]
  },
  {
   "cell_type": "code",
   "execution_count": 674,
   "id": "607b1f7f-2702-49f5-9d78-90a1adaf43d0",
   "metadata": {},
   "outputs": [
    {
     "data": {
      "text/plain": [
       "0        24\n",
       "1         1\n",
       "2         9\n",
       "3        12\n",
       "4         1\n",
       "         ..\n",
       "10678     9\n",
       "10679    27\n",
       "10680    27\n",
       "10681     1\n",
       "10682     9\n",
       "Name: Date_of_Journey, Length: 10682, dtype: int32"
      ]
     },
     "execution_count": 674,
     "metadata": {},
     "output_type": "execute_result"
    }
   ],
   "source": [
    "data['Date_of_Journey'].dt.day"
   ]
  },
  {
   "cell_type": "code",
   "execution_count": 675,
   "id": "55d6722a-a39c-4a27-abe7-75d533a99466",
   "metadata": {},
   "outputs": [
    {
     "data": {
      "text/plain": [
       "0        3\n",
       "1        5\n",
       "2        6\n",
       "3        5\n",
       "4        3\n",
       "        ..\n",
       "10678    4\n",
       "10679    4\n",
       "10680    4\n",
       "10681    3\n",
       "10682    5\n",
       "Name: Date_of_Journey, Length: 10682, dtype: int32"
      ]
     },
     "execution_count": 675,
     "metadata": {},
     "output_type": "execute_result"
    }
   ],
   "source": [
    "data['Date_of_Journey'].dt.month"
   ]
  },
  {
   "cell_type": "code",
   "execution_count": 676,
   "id": "c6e1e400-491f-4b83-9f6d-b4b12b2b77cd",
   "metadata": {},
   "outputs": [],
   "source": [
    "# We added new feature of journey_day, journey_month and journey_year\n",
    "data[\"Journey_day\"] = data['Date_of_Journey'].dt.day"
   ]
  },
  {
   "cell_type": "code",
   "execution_count": 677,
   "id": "3b2d0b08-73a4-47ea-8c4f-8d24f63dce69",
   "metadata": {},
   "outputs": [],
   "source": [
    "data[\"Journey_month\"] = data['Date_of_Journey'].dt.month"
   ]
  },
  {
   "cell_type": "code",
   "execution_count": 678,
   "id": "81a9d351-3158-4fb2-93e9-36c444cae8d7",
   "metadata": {},
   "outputs": [],
   "source": [
    "data[\"Journey_year\"] = data['Date_of_Journey'].dt.year"
   ]
  },
  {
   "cell_type": "code",
   "execution_count": 679,
   "id": "546f2f0e-0a6c-4dd8-bb48-37e22b2bc3c5",
   "metadata": {},
   "outputs": [
    {
     "data": {
      "text/html": [
       "<div>\n",
       "<style scoped>\n",
       "    .dataframe tbody tr th:only-of-type {\n",
       "        vertical-align: middle;\n",
       "    }\n",
       "\n",
       "    .dataframe tbody tr th {\n",
       "        vertical-align: top;\n",
       "    }\n",
       "\n",
       "    .dataframe thead th {\n",
       "        text-align: right;\n",
       "    }\n",
       "</style>\n",
       "<table border=\"1\" class=\"dataframe\">\n",
       "  <thead>\n",
       "    <tr style=\"text-align: right;\">\n",
       "      <th></th>\n",
       "      <th>Airline</th>\n",
       "      <th>Date_of_Journey</th>\n",
       "      <th>Source</th>\n",
       "      <th>Destination</th>\n",
       "      <th>Route</th>\n",
       "      <th>Dep_Time</th>\n",
       "      <th>Arrival_Time</th>\n",
       "      <th>Duration</th>\n",
       "      <th>Total_Stops</th>\n",
       "      <th>Additional_Info</th>\n",
       "      <th>Price</th>\n",
       "      <th>Journey_day</th>\n",
       "      <th>Journey_month</th>\n",
       "      <th>Journey_year</th>\n",
       "    </tr>\n",
       "  </thead>\n",
       "  <tbody>\n",
       "    <tr>\n",
       "      <th>0</th>\n",
       "      <td>IndiGo</td>\n",
       "      <td>2019-03-24</td>\n",
       "      <td>Banglore</td>\n",
       "      <td>New Delhi</td>\n",
       "      <td>BLR → DEL</td>\n",
       "      <td>2024-06-21 22:20:00</td>\n",
       "      <td>2024-03-22 01:10:00</td>\n",
       "      <td>2h 50m</td>\n",
       "      <td>non-stop</td>\n",
       "      <td>No info</td>\n",
       "      <td>3897</td>\n",
       "      <td>24</td>\n",
       "      <td>3</td>\n",
       "      <td>2019</td>\n",
       "    </tr>\n",
       "    <tr>\n",
       "      <th>1</th>\n",
       "      <td>Air India</td>\n",
       "      <td>2019-05-01</td>\n",
       "      <td>Kolkata</td>\n",
       "      <td>Banglore</td>\n",
       "      <td>CCU → IXR → BBI → BLR</td>\n",
       "      <td>2024-06-21 05:50:00</td>\n",
       "      <td>2024-06-21 13:15:00</td>\n",
       "      <td>7h 25m</td>\n",
       "      <td>2 stops</td>\n",
       "      <td>No info</td>\n",
       "      <td>7662</td>\n",
       "      <td>1</td>\n",
       "      <td>5</td>\n",
       "      <td>2019</td>\n",
       "    </tr>\n",
       "    <tr>\n",
       "      <th>2</th>\n",
       "      <td>Jet Airways</td>\n",
       "      <td>2019-06-09</td>\n",
       "      <td>Delhi</td>\n",
       "      <td>Cochin</td>\n",
       "      <td>DEL → LKO → BOM → COK</td>\n",
       "      <td>2024-06-21 09:25:00</td>\n",
       "      <td>2024-06-10 04:25:00</td>\n",
       "      <td>19h</td>\n",
       "      <td>2 stops</td>\n",
       "      <td>No info</td>\n",
       "      <td>13882</td>\n",
       "      <td>9</td>\n",
       "      <td>6</td>\n",
       "      <td>2019</td>\n",
       "    </tr>\n",
       "  </tbody>\n",
       "</table>\n",
       "</div>"
      ],
      "text/plain": [
       "       Airline Date_of_Journey    Source Destination                  Route  \\\n",
       "0       IndiGo      2019-03-24  Banglore   New Delhi              BLR → DEL   \n",
       "1    Air India      2019-05-01   Kolkata    Banglore  CCU → IXR → BBI → BLR   \n",
       "2  Jet Airways      2019-06-09     Delhi      Cochin  DEL → LKO → BOM → COK   \n",
       "\n",
       "             Dep_Time        Arrival_Time Duration Total_Stops  \\\n",
       "0 2024-06-21 22:20:00 2024-03-22 01:10:00   2h 50m    non-stop   \n",
       "1 2024-06-21 05:50:00 2024-06-21 13:15:00   7h 25m     2 stops   \n",
       "2 2024-06-21 09:25:00 2024-06-10 04:25:00      19h     2 stops   \n",
       "\n",
       "  Additional_Info  Price  Journey_day  Journey_month  Journey_year  \n",
       "0         No info   3897           24              3          2019  \n",
       "1         No info   7662            1              5          2019  \n",
       "2         No info  13882            9              6          2019  "
      ]
     },
     "execution_count": 679,
     "metadata": {},
     "output_type": "execute_result"
    }
   ],
   "source": [
    "#have a look at new created features\n",
    "data.head(3)"
   ]
  },
  {
   "cell_type": "markdown",
   "id": "4f58c2f4-ec54-4914-8b42-1c8b4405c9b4",
   "metadata": {},
   "source": [
    "#Date Analysis"
   ]
  },
  {
   "cell_type": "code",
   "execution_count": null,
   "id": "914b82f4-496f-49c4-9064-e7281bff4027",
   "metadata": {},
   "outputs": [],
   "source": []
  },
  {
   "cell_type": "code",
   "execution_count": 680,
   "id": "9c1a6e57-2132-42fa-a924-b95ff3c0442c",
   "metadata": {},
   "outputs": [],
   "source": [
    "#we need two more features as departure time hour, departure time minute and arrival time hour and arrival time minutes\n",
    "#LEts define a function"
   ]
  },
  {
   "cell_type": "code",
   "execution_count": 681,
   "id": "35d95958-9f33-42e2-9aef-640547b305af",
   "metadata": {},
   "outputs": [
    {
     "data": {
      "text/html": [
       "<div>\n",
       "<style scoped>\n",
       "    .dataframe tbody tr th:only-of-type {\n",
       "        vertical-align: middle;\n",
       "    }\n",
       "\n",
       "    .dataframe tbody tr th {\n",
       "        vertical-align: top;\n",
       "    }\n",
       "\n",
       "    .dataframe thead th {\n",
       "        text-align: right;\n",
       "    }\n",
       "</style>\n",
       "<table border=\"1\" class=\"dataframe\">\n",
       "  <thead>\n",
       "    <tr style=\"text-align: right;\">\n",
       "      <th></th>\n",
       "      <th>Airline</th>\n",
       "      <th>Date_of_Journey</th>\n",
       "      <th>Source</th>\n",
       "      <th>Destination</th>\n",
       "      <th>Route</th>\n",
       "      <th>Dep_Time</th>\n",
       "      <th>Arrival_Time</th>\n",
       "      <th>Duration</th>\n",
       "      <th>Total_Stops</th>\n",
       "      <th>Additional_Info</th>\n",
       "      <th>Price</th>\n",
       "      <th>Journey_day</th>\n",
       "      <th>Journey_month</th>\n",
       "      <th>Journey_year</th>\n",
       "      <th>Dep_Time_hour</th>\n",
       "      <th>Dep_Time_min</th>\n",
       "      <th>Arrival_Time_hour</th>\n",
       "      <th>Arrival_Time_min</th>\n",
       "    </tr>\n",
       "  </thead>\n",
       "  <tbody>\n",
       "    <tr>\n",
       "      <th>0</th>\n",
       "      <td>IndiGo</td>\n",
       "      <td>2019-03-24</td>\n",
       "      <td>Banglore</td>\n",
       "      <td>New Delhi</td>\n",
       "      <td>BLR → DEL</td>\n",
       "      <td>2024-06-21 22:20:00</td>\n",
       "      <td>2024-03-22 01:10:00</td>\n",
       "      <td>2h 50m</td>\n",
       "      <td>non-stop</td>\n",
       "      <td>No info</td>\n",
       "      <td>3897</td>\n",
       "      <td>24</td>\n",
       "      <td>3</td>\n",
       "      <td>2019</td>\n",
       "      <td>22</td>\n",
       "      <td>20</td>\n",
       "      <td>1</td>\n",
       "      <td>10</td>\n",
       "    </tr>\n",
       "    <tr>\n",
       "      <th>1</th>\n",
       "      <td>Air India</td>\n",
       "      <td>2019-05-01</td>\n",
       "      <td>Kolkata</td>\n",
       "      <td>Banglore</td>\n",
       "      <td>CCU → IXR → BBI → BLR</td>\n",
       "      <td>2024-06-21 05:50:00</td>\n",
       "      <td>2024-06-21 13:15:00</td>\n",
       "      <td>7h 25m</td>\n",
       "      <td>2 stops</td>\n",
       "      <td>No info</td>\n",
       "      <td>7662</td>\n",
       "      <td>1</td>\n",
       "      <td>5</td>\n",
       "      <td>2019</td>\n",
       "      <td>5</td>\n",
       "      <td>50</td>\n",
       "      <td>13</td>\n",
       "      <td>15</td>\n",
       "    </tr>\n",
       "    <tr>\n",
       "      <th>2</th>\n",
       "      <td>Jet Airways</td>\n",
       "      <td>2019-06-09</td>\n",
       "      <td>Delhi</td>\n",
       "      <td>Cochin</td>\n",
       "      <td>DEL → LKO → BOM → COK</td>\n",
       "      <td>2024-06-21 09:25:00</td>\n",
       "      <td>2024-06-10 04:25:00</td>\n",
       "      <td>19h</td>\n",
       "      <td>2 stops</td>\n",
       "      <td>No info</td>\n",
       "      <td>13882</td>\n",
       "      <td>9</td>\n",
       "      <td>6</td>\n",
       "      <td>2019</td>\n",
       "      <td>9</td>\n",
       "      <td>25</td>\n",
       "      <td>4</td>\n",
       "      <td>25</td>\n",
       "    </tr>\n",
       "  </tbody>\n",
       "</table>\n",
       "</div>"
      ],
      "text/plain": [
       "       Airline Date_of_Journey    Source Destination                  Route  \\\n",
       "0       IndiGo      2019-03-24  Banglore   New Delhi              BLR → DEL   \n",
       "1    Air India      2019-05-01   Kolkata    Banglore  CCU → IXR → BBI → BLR   \n",
       "2  Jet Airways      2019-06-09     Delhi      Cochin  DEL → LKO → BOM → COK   \n",
       "\n",
       "             Dep_Time        Arrival_Time Duration Total_Stops  \\\n",
       "0 2024-06-21 22:20:00 2024-03-22 01:10:00   2h 50m    non-stop   \n",
       "1 2024-06-21 05:50:00 2024-06-21 13:15:00   7h 25m     2 stops   \n",
       "2 2024-06-21 09:25:00 2024-06-10 04:25:00      19h     2 stops   \n",
       "\n",
       "  Additional_Info  Price  Journey_day  Journey_month  Journey_year  \\\n",
       "0         No info   3897           24              3          2019   \n",
       "1         No info   7662            1              5          2019   \n",
       "2         No info  13882            9              6          2019   \n",
       "\n",
       "   Dep_Time_hour  Dep_Time_min  Arrival_Time_hour  Arrival_Time_min  \n",
       "0             22            20                  1                10  \n",
       "1              5            50                 13                15  \n",
       "2              9            25                  4                25  "
      ]
     },
     "execution_count": 681,
     "metadata": {},
     "output_type": "execute_result"
    }
   ],
   "source": [
    "#Defining a functi    \n",
    "def extract_hour_min(df, col):\n",
    "    df[col + \"_hour\"] = df[col].dt.hour\n",
    "    df[col + \"_min\"] = df[col].dt.minute\n",
    "    return df.head(3)\n",
    "\n",
    "\n",
    "extract_hour_min(data, 'Dep_Time')\n",
    "extract_hour_min(data, \"Arrival_Time\")\n"
   ]
  },
  {
   "cell_type": "code",
   "execution_count": 682,
   "id": "5dff0c45-12ae-483c-b672-ef4170ee57d2",
   "metadata": {},
   "outputs": [
    {
     "data": {
      "text/plain": [
       "Index(['Airline', 'Date_of_Journey', 'Source', 'Destination', 'Route',\n",
       "       'Dep_Time', 'Arrival_Time', 'Duration', 'Total_Stops',\n",
       "       'Additional_Info', 'Price', 'Journey_day', 'Journey_month',\n",
       "       'Journey_year', 'Dep_Time_hour', 'Dep_Time_min', 'Arrival_Time_hour',\n",
       "       'Arrival_Time_min'],\n",
       "      dtype='object')"
      ]
     },
     "execution_count": 682,
     "metadata": {},
     "output_type": "execute_result"
    }
   ],
   "source": [
    "data.columns"
   ]
  },
  {
   "cell_type": "code",
   "execution_count": 683,
   "id": "ac24dcb6-62e7-4174-bee1-056f4d280b42",
   "metadata": {},
   "outputs": [],
   "source": [
    "cols_to_drop = ['Dep_Time', 'Arrival_Time']\n",
    "data.drop(cols_to_drop, axis = 1 , inplace=True)"
   ]
  },
  {
   "cell_type": "code",
   "execution_count": 684,
   "id": "bc40a4de-71ae-4d1f-ac94-9f5cc49dbddc",
   "metadata": {},
   "outputs": [
    {
     "data": {
      "text/html": [
       "<div>\n",
       "<style scoped>\n",
       "    .dataframe tbody tr th:only-of-type {\n",
       "        vertical-align: middle;\n",
       "    }\n",
       "\n",
       "    .dataframe tbody tr th {\n",
       "        vertical-align: top;\n",
       "    }\n",
       "\n",
       "    .dataframe thead th {\n",
       "        text-align: right;\n",
       "    }\n",
       "</style>\n",
       "<table border=\"1\" class=\"dataframe\">\n",
       "  <thead>\n",
       "    <tr style=\"text-align: right;\">\n",
       "      <th></th>\n",
       "      <th>Airline</th>\n",
       "      <th>Date_of_Journey</th>\n",
       "      <th>Source</th>\n",
       "      <th>Destination</th>\n",
       "      <th>Route</th>\n",
       "      <th>Duration</th>\n",
       "      <th>Total_Stops</th>\n",
       "      <th>Additional_Info</th>\n",
       "      <th>Price</th>\n",
       "      <th>Journey_day</th>\n",
       "      <th>Journey_month</th>\n",
       "      <th>Journey_year</th>\n",
       "      <th>Dep_Time_hour</th>\n",
       "      <th>Dep_Time_min</th>\n",
       "      <th>Arrival_Time_hour</th>\n",
       "      <th>Arrival_Time_min</th>\n",
       "    </tr>\n",
       "  </thead>\n",
       "  <tbody>\n",
       "    <tr>\n",
       "      <th>0</th>\n",
       "      <td>IndiGo</td>\n",
       "      <td>2019-03-24</td>\n",
       "      <td>Banglore</td>\n",
       "      <td>New Delhi</td>\n",
       "      <td>BLR → DEL</td>\n",
       "      <td>2h 50m</td>\n",
       "      <td>non-stop</td>\n",
       "      <td>No info</td>\n",
       "      <td>3897</td>\n",
       "      <td>24</td>\n",
       "      <td>3</td>\n",
       "      <td>2019</td>\n",
       "      <td>22</td>\n",
       "      <td>20</td>\n",
       "      <td>1</td>\n",
       "      <td>10</td>\n",
       "    </tr>\n",
       "    <tr>\n",
       "      <th>1</th>\n",
       "      <td>Air India</td>\n",
       "      <td>2019-05-01</td>\n",
       "      <td>Kolkata</td>\n",
       "      <td>Banglore</td>\n",
       "      <td>CCU → IXR → BBI → BLR</td>\n",
       "      <td>7h 25m</td>\n",
       "      <td>2 stops</td>\n",
       "      <td>No info</td>\n",
       "      <td>7662</td>\n",
       "      <td>1</td>\n",
       "      <td>5</td>\n",
       "      <td>2019</td>\n",
       "      <td>5</td>\n",
       "      <td>50</td>\n",
       "      <td>13</td>\n",
       "      <td>15</td>\n",
       "    </tr>\n",
       "    <tr>\n",
       "      <th>2</th>\n",
       "      <td>Jet Airways</td>\n",
       "      <td>2019-06-09</td>\n",
       "      <td>Delhi</td>\n",
       "      <td>Cochin</td>\n",
       "      <td>DEL → LKO → BOM → COK</td>\n",
       "      <td>19h</td>\n",
       "      <td>2 stops</td>\n",
       "      <td>No info</td>\n",
       "      <td>13882</td>\n",
       "      <td>9</td>\n",
       "      <td>6</td>\n",
       "      <td>2019</td>\n",
       "      <td>9</td>\n",
       "      <td>25</td>\n",
       "      <td>4</td>\n",
       "      <td>25</td>\n",
       "    </tr>\n",
       "  </tbody>\n",
       "</table>\n",
       "</div>"
      ],
      "text/plain": [
       "       Airline Date_of_Journey    Source Destination                  Route  \\\n",
       "0       IndiGo      2019-03-24  Banglore   New Delhi              BLR → DEL   \n",
       "1    Air India      2019-05-01   Kolkata    Banglore  CCU → IXR → BBI → BLR   \n",
       "2  Jet Airways      2019-06-09     Delhi      Cochin  DEL → LKO → BOM → COK   \n",
       "\n",
       "  Duration Total_Stops Additional_Info  Price  Journey_day  Journey_month  \\\n",
       "0   2h 50m    non-stop         No info   3897           24              3   \n",
       "1   7h 25m     2 stops         No info   7662            1              5   \n",
       "2      19h     2 stops         No info  13882            9              6   \n",
       "\n",
       "   Journey_year  Dep_Time_hour  Dep_Time_min  Arrival_Time_hour  \\\n",
       "0          2019             22            20                  1   \n",
       "1          2019              5            50                 13   \n",
       "2          2019              9            25                  4   \n",
       "\n",
       "   Arrival_Time_min  \n",
       "0                10  \n",
       "1                15  \n",
       "2                25  "
      ]
     },
     "execution_count": 684,
     "metadata": {},
     "output_type": "execute_result"
    }
   ],
   "source": [
    "data.head(3)"
   ]
  },
  {
   "cell_type": "code",
   "execution_count": 685,
   "id": "10c765fe-8104-448a-bed1-7d2a2f851a04",
   "metadata": {},
   "outputs": [
    {
     "data": {
      "text/plain": [
       "(10682, 16)"
      ]
     },
     "execution_count": 685,
     "metadata": {},
     "output_type": "execute_result"
    }
   ],
   "source": [
    "data.shape"
   ]
  },
  {
   "cell_type": "markdown",
   "id": "de7e42e6-ad4e-4b12-b93f-b53d9eae7263",
   "metadata": {},
   "source": [
    "# Data analysis"
   ]
  },
  {
   "cell_type": "code",
   "execution_count": 686,
   "id": "e7af7908-4baa-402b-a0be-fc6d5173d567",
   "metadata": {},
   "outputs": [],
   "source": [
    " # Lets analyse when will most flights take off... \n",
    " # We can extract when will most flight take off with the help of given feature with the help of if else loop simply"
   ]
  },
  {
   "cell_type": "code",
   "execution_count": 687,
   "id": "19d82892-e662-4a7f-a9ce-ddba5338b256",
   "metadata": {},
   "outputs": [],
   "source": [
    "# we will create a function that will end up giving us values like morning, evening and night"
   ]
  },
  {
   "cell_type": "code",
   "execution_count": 688,
   "id": "8c31f0ef-9303-45b3-ba14-c46e42ba5b99",
   "metadata": {},
   "outputs": [
    {
     "data": {
      "text/plain": [
       "Index(['Airline', 'Date_of_Journey', 'Source', 'Destination', 'Route',\n",
       "       'Duration', 'Total_Stops', 'Additional_Info', 'Price', 'Journey_day',\n",
       "       'Journey_month', 'Journey_year', 'Dep_Time_hour', 'Dep_Time_min',\n",
       "       'Arrival_Time_hour', 'Arrival_Time_min'],\n",
       "      dtype='object')"
      ]
     },
     "execution_count": 688,
     "metadata": {},
     "output_type": "execute_result"
    }
   ],
   "source": [
    "data.columns"
   ]
  },
  {
   "cell_type": "code",
   "execution_count": 689,
   "id": "a30b19da-5541-479c-821d-770e49c60ceb",
   "metadata": {},
   "outputs": [],
   "source": [
    "def flight_dep_time(x):\n",
    "\n",
    "    if (x>4) and (x<=8):\n",
    "        return \"Early Morning\"\n",
    "    elif (x>8) and (x<=12):\n",
    "        return \"Morning\"\n",
    "    elif (x>12) and (x<=16):\n",
    "        return \"Afternoon\"\n",
    "    elif (x>16) and (x<=20):\n",
    "        return \"Evening\"\n",
    "    elif (x>20) and (x<=24):\n",
    "        return \"Night\"\n",
    "    else:\n",
    "        return \"Late Night\""
   ]
  },
  {
   "cell_type": "code",
   "execution_count": 690,
   "id": "4bb54747-9306-464b-b6a8-b696595a56f0",
   "metadata": {},
   "outputs": [
    {
     "data": {
      "text/plain": [
       "0                Night\n",
       "1        Early Morning\n",
       "2              Morning\n",
       "3              Evening\n",
       "4            Afternoon\n",
       "             ...      \n",
       "10678          Evening\n",
       "10679          Evening\n",
       "10680    Early Morning\n",
       "10681          Morning\n",
       "10682          Morning\n",
       "Name: Dep_Time_hour, Length: 10682, dtype: object"
      ]
     },
     "execution_count": 690,
     "metadata": {},
     "output_type": "execute_result"
    }
   ],
   "source": [
    "# we will get various shifts of departure of flights\n",
    "data['Dep_Time_hour'].apply(flight_dep_time)"
   ]
  },
  {
   "cell_type": "code",
   "execution_count": 691,
   "id": "f2316ee1-9b72-45df-a68c-a3eeabea9843",
   "metadata": {},
   "outputs": [
    {
     "data": {
      "text/plain": [
       "Dep_Time_hour\n",
       "Early Morning    2880\n",
       "Evening          2357\n",
       "Morning          2209\n",
       "Afternoon        1731\n",
       "Night            1040\n",
       "Late Night        465\n",
       "Name: count, dtype: int64"
      ]
     },
     "execution_count": 691,
     "metadata": {},
     "output_type": "execute_result"
    }
   ],
   "source": [
    "# Create a bar graph/ chart we need frequency table\n",
    "data['Dep_Time_hour'].apply(flight_dep_time).value_counts()"
   ]
  },
  {
   "cell_type": "code",
   "execution_count": 692,
   "id": "f2441a62-9dbd-4886-86e0-cf1d84789411",
   "metadata": {},
   "outputs": [
    {
     "data": {
      "text/plain": [
       "<Axes: xlabel='Dep_Time_hour'>"
      ]
     },
     "execution_count": 692,
     "metadata": {},
     "output_type": "execute_result"
    },
    {
     "data": {
      "image/png": "[encoded data removed]",
      "text/plain": [
       "<Figure size 640x480 with 1 Axes>"
      ]
     },
     "metadata": {},
     "output_type": "display_data"
    }
   ],
   "source": [
    "data['Dep_Time_hour'].apply(flight_dep_time).value_counts().plot(kind = 'bar', color = \"red\")"
   ]
  },
  {
   "cell_type": "code",
   "execution_count": 693,
   "id": "f489c3b1-93c1-4bb3-ac17-1355ef502089",
   "metadata": {},
   "outputs": [
    {
     "name": "stdout",
     "output_type": "stream",
     "text": [
      "Requirement already satisfied: cufflinks in c:\\users\\hp\\appdata\\local\\programs\\python\\python311\\lib\\site-packages (0.17.4)\n",
      "Requirement already satisfied: numpy>=1.9.2 in c:\\users\\hp\\appdata\\local\\programs\\python\\python311\\lib\\site-packages (from cufflinks) (1.26.1)\n",
      "Requirement already satisfied: pandas>=0.19.2 in c:\\users\\hp\\appdata\\local\\programs\\python\\python311\\lib\\site-packages (from cufflinks) (2.1.2)\n",
      "Requirement already satisfied: plotly>=4.1.1 in c:\\users\\hp\\appdata\\local\\programs\\python\\python311\\lib\\site-packages (from cufflinks) (5.22.0)\n",
      "Requirement already satisfied: six>=1.9.0 in c:\\users\\hp\\appdata\\local\\programs\\python\\python311\\lib\\site-packages (from cufflinks) (1.16.0)\n",
      "Requirement already satisfied: colorlover>=0.2.1 in c:\\users\\hp\\appdata\\local\\programs\\python\\python311\\lib\\site-packages (from cufflinks) (0.3.0)\n",
      "Requirement already satisfied: setuptools>=34.4.1 in c:\\users\\hp\\appdata\\local\\programs\\python\\python311\\lib\\site-packages (from cufflinks) (65.5.0)\n",
      "Requirement already satisfied: ipython>=5.3.0 in c:\\users\\hp\\appdata\\local\\programs\\python\\python311\\lib\\site-packages (from cufflinks) (8.17.2)\n",
      "Requirement already satisfied: ipywidgets>=7.0.0 in c:\\users\\hp\\appdata\\local\\programs\\python\\python311\\lib\\site-packages (from cufflinks) (8.1.1)\n",
      "Requirement already satisfied: decorator in c:\\users\\hp\\appdata\\local\\programs\\python\\python311\\lib\\site-packages (from ipython>=5.3.0->cufflinks) (5.1.1)\n",
      "Requirement already satisfied: jedi>=0.16 in c:\\users\\hp\\appdata\\local\\programs\\python\\python311\\lib\\site-packages (from ipython>=5.3.0->cufflinks) (0.19.1)\n",
      "Requirement already satisfied: matplotlib-inline in c:\\users\\hp\\appdata\\local\\programs\\python\\python311\\lib\\site-packages (from ipython>=5.3.0->cufflinks) (0.1.6)\n",
      "Requirement already satisfied: prompt-toolkit!=3.0.37,<3.1.0,>=3.0.30 in c:\\users\\hp\\appdata\\local\\programs\\python\\python311\\lib\\site-packages (from ipython>=5.3.0->cufflinks) (3.0.39)\n",
      "Requirement already satisfied: pygments>=2.4.0 in c:\\users\\hp\\appdata\\local\\programs\\python\\python311\\lib\\site-packages (from ipython>=5.3.0->cufflinks) (2.16.1)\n",
      "Requirement already satisfied: stack-data in c:\\users\\hp\\appdata\\local\\programs\\python\\python311\\lib\\site-packages (from ipython>=5.3.0->cufflinks) (0.6.3)\n",
      "Requirement already satisfied: traitlets>=5 in c:\\users\\hp\\appdata\\local\\programs\\python\\python311\\lib\\site-packages (from ipython>=5.3.0->cufflinks) (5.13.0)\n",
      "Requirement already satisfied: colorama in c:\\users\\hp\\appdata\\local\\programs\\python\\python311\\lib\\site-packages (from ipython>=5.3.0->cufflinks) (0.4.6)\n",
      "Requirement already satisfied: comm>=0.1.3 in c:\\users\\hp\\appdata\\local\\programs\\python\\python311\\lib\\site-packages (from ipywidgets>=7.0.0->cufflinks) (0.1.4)\n",
      "Requirement already satisfied: widgetsnbextension~=4.0.9 in c:\\users\\hp\\appdata\\local\\programs\\python\\python311\\lib\\site-packages (from ipywidgets>=7.0.0->cufflinks) (4.0.9)\n",
      "Requirement already satisfied: jupyterlab-widgets~=3.0.9 in c:\\users\\hp\\appdata\\local\\programs\\python\\python311\\lib\\site-packages (from ipywidgets>=7.0.0->cufflinks) (3.0.9)\n",
      "Requirement already satisfied: python-dateutil>=2.8.2 in c:\\users\\hp\\appdata\\local\\programs\\python\\python311\\lib\\site-packages (from pandas>=0.19.2->cufflinks) (2.8.2)\n",
      "Requirement already satisfied: pytz>=2020.1 in c:\\users\\hp\\appdata\\local\\programs\\python\\python311\\lib\\site-packages (from pandas>=0.19.2->cufflinks) (2023.3.post1)\n",
      "Requirement already satisfied: tzdata>=2022.1 in c:\\users\\hp\\appdata\\local\\programs\\python\\python311\\lib\\site-packages (from pandas>=0.19.2->cufflinks) (2023.3)\n",
      "Requirement already satisfied: tenacity>=6.2.0 in c:\\users\\hp\\appdata\\local\\programs\\python\\python311\\lib\\site-packages (from plotly>=4.1.1->cufflinks) (8.3.0)\n",
      "Requirement already satisfied: packaging in c:\\users\\hp\\appdata\\local\\programs\\python\\python311\\lib\\site-packages (from plotly>=4.1.1->cufflinks) (23.2)\n",
      "Requirement already satisfied: parso<0.9.0,>=0.8.3 in c:\\users\\hp\\appdata\\local\\programs\\python\\python311\\lib\\site-packages (from jedi>=0.16->ipython>=5.3.0->cufflinks) (0.8.3)\n",
      "Requirement already satisfied: wcwidth in c:\\users\\hp\\appdata\\local\\programs\\python\\python311\\lib\\site-packages (from prompt-toolkit!=3.0.37,<3.1.0,>=3.0.30->ipython>=5.3.0->cufflinks) (0.2.9)\n",
      "Requirement already satisfied: executing>=1.2.0 in c:\\users\\hp\\appdata\\local\\programs\\python\\python311\\lib\\site-packages (from stack-data->ipython>=5.3.0->cufflinks) (2.0.1)\n",
      "Requirement already satisfied: asttokens>=2.1.0 in c:\\users\\hp\\appdata\\local\\programs\\python\\python311\\lib\\site-packages (from stack-data->ipython>=5.3.0->cufflinks) (2.4.1)\n",
      "Requirement already satisfied: pure-eval in c:\\users\\hp\\appdata\\local\\programs\\python\\python311\\lib\\site-packages (from stack-data->ipython>=5.3.0->cufflinks) (0.2.2)\n"
     ]
    }
   ],
   "source": [
    "!pip install cufflinks\n"
   ]
  },
  {
   "cell_type": "code",
   "execution_count": 694,
   "id": "986df5a2-4e4d-4702-8478-b01602c212a4",
   "metadata": {},
   "outputs": [
    {
     "data": {
      "text/html": [
       "        <script type=\"text/javascript\">\n",
       "        window.PlotlyConfig = {MathJaxConfig: 'local'};\n",
       "        if (window.MathJax && window.MathJax.Hub && window.MathJax.Hub.Config) {window.MathJax.Hub.Config({SVG: {font: \"STIX-Web\"}});}\n",
       "        if (typeof require !== 'undefined') {\n",
       "        require.undef(\"plotly\");\n",
       "        requirejs.config({\n",
       "            paths: {\n",
       "                'plotly': ['https://cdn.plot.ly/plotly-2.32.0.min']\n",
       "            }\n",
       "        });\n",
       "        require(['plotly'], function(Plotly) {\n",
       "            window._Plotly = Plotly;\n",
       "        });\n",
       "        }\n",
       "        </script>\n",
       "        "
      ]
     },
     "metadata": {},
     "output_type": "display_data"
    },
    {
     "data": {
      "text/html": [
       "        <script type=\"text/javascript\">\n",
       "        window.PlotlyConfig = {MathJaxConfig: 'local'};\n",
       "        if (window.MathJax && window.MathJax.Hub && window.MathJax.Hub.Config) {window.MathJax.Hub.Config({SVG: {font: \"STIX-Web\"}});}\n",
       "        if (typeof require !== 'undefined') {\n",
       "        require.undef(\"plotly\");\n",
       "        requirejs.config({\n",
       "            paths: {\n",
       "                'plotly': ['https://cdn.plot.ly/plotly-2.32.0.min']\n",
       "            }\n",
       "        });\n",
       "        require(['plotly'], function(Plotly) {\n",
       "            window._Plotly = Plotly;\n",
       "        });\n",
       "        }\n",
       "        </script>\n",
       "        "
      ]
     },
     "metadata": {},
     "output_type": "display_data"
    }
   ],
   "source": [
    "import plotly\n",
    "import cufflinks as cf\n",
    "from cufflinks.offline import go_offline\n",
    "from plotly.offline import plot,iplot,init_notebook_mode\n",
    "\n",
    "init_notebook_mode(connected = True)\n",
    "cf.go_offline()"
   ]
  },
  {
   "cell_type": "code",
   "execution_count": 695,
   "id": "a96cfd28-04d3-4f42-b692-e75d1dac5cf1",
   "metadata": {},
   "outputs": [
    {
     "data": {
      "application/vnd.plotly.v1+json": {
       "config": {
        "linkText": "Export to plot.ly",
        "plotlyServerURL": "https://plot.ly",
        "showLink": true
       },
       "data": [
        {
         "marker": {
          "color": "rgba(255, 153, 51, 0.6)",
          "line": {
           "color": "rgba(255, 153, 51, 1.0)",
           "width": 1
          }
         },
         "name": "count",
         "orientation": "v",
         "text": "",
         "type": "bar",
         "x": [
          "Early Morning",
          "Evening",
          "Morning",
          "Afternoon",
          "Night",
          "Late Night"
         ],
         "y": [
          2880,
          2357,
          2209,
          1731,
          1040,
          465
         ]
        }
       ],
       "layout": {
        "autosize": true,
        "legend": {
         "bgcolor": "#F5F6F9",
         "font": {
          "color": "#4D5663"
         }
        },
        "paper_bgcolor": "#F5F6F9",
        "plot_bgcolor": "#F5F6F9",
        "template": {
         "data": {
          "bar": [
           {
            "error_x": {
             "color": "#2a3f5f"
            },
            "error_y": {
             "color": "#2a3f5f"
            },
            "marker": {
             "line": {
              "color": "#E5ECF6",
              "width": 0.5
             },
             "pattern": {
              "fillmode": "overlay",
              "size": 10,
              "solidity": 0.2
             }
            },
            "type": "bar"
           }
          ],
          "barpolar": [
           {
            "marker": {
             "line": {
              "color": "#E5ECF6",
              "width": 0.5
             },
             "pattern": {
              "fillmode": "overlay",
              "size": 10,
              "solidity": 0.2
             }
            },
            "type": "barpolar"
           }
          ],
          "carpet": [
           {
            "aaxis": {
             "endlinecolor": "#2a3f5f",
             "gridcolor": "white",
             "linecolor": "white",
             "minorgridcolor": "white",
             "startlinecolor": "#2a3f5f"
            },
            "baxis": {
             "endlinecolor": "#2a3f5f",
             "gridcolor": "white",
             "linecolor": "white",
             "minorgridcolor": "white",
             "startlinecolor": "#2a3f5f"
            },
            "type": "carpet"
           }
          ],
          "choropleth": [
           {
            "colorbar": {
             "outlinewidth": 0,
             "ticks": ""
            },
            "type": "choropleth"
           }
          ],
          "contour": [
           {
            "colorbar": {
             "outlinewidth": 0,
             "ticks": ""
            },
            "colorscale": [
             [
              0,
              "#0d0887"
             ],
             [
              0.1111111111111111,
              "#46039f"
             ],
             [
              0.2222222222222222,
              "#7201a8"
             ],
             [
              0.3333333333333333,
              "#9c179e"
             ],
             [
              0.4444444444444444,
              "#bd3786"
             ],
             [
              0.5555555555555556,
              "#d8576b"
             ],
             [
              0.6666666666666666,
              "#ed7953"
             ],
             [
              0.7777777777777778,
              "#fb9f3a"
             ],
             [
              0.8888888888888888,
              "#fdca26"
             ],
             [
              1,
              "#f0f921"
             ]
            ],
            "type": "contour"
           }
          ],
          "contourcarpet": [
           {
            "colorbar": {
             "outlinewidth": 0,
             "ticks": ""
            },
            "type": "contourcarpet"
           }
          ],
          "heatmap": [
           {
            "colorbar": {
             "outlinewidth": 0,
             "ticks": ""
            },
            "colorscale": [
             [
              0,
              "#0d0887"
             ],
             [
              0.1111111111111111,
              "#46039f"
             ],
             [
              0.2222222222222222,
              "#7201a8"
             ],
             [
              0.3333333333333333,
              "#9c179e"
             ],
             [
              0.4444444444444444,
              "#bd3786"
             ],
             [
              0.5555555555555556,
              "#d8576b"
             ],
             [
              0.6666666666666666,
              "#ed7953"
             ],
             [
              0.7777777777777778,
              "#fb9f3a"
             ],
             [
              0.8888888888888888,
              "#fdca26"
             ],
             [
              1,
              "#f0f921"
             ]
            ],
            "type": "heatmap"
           }
          ],
          "heatmapgl": [
           {
            "colorbar": {
             "outlinewidth": 0,
             "ticks": ""
            },
            "colorscale": [
             [
              0,
              "#0d0887"
             ],
             [
              0.1111111111111111,
              "#46039f"
             ],
             [
              0.2222222222222222,
              "#7201a8"
             ],
             [
              0.3333333333333333,
              "#9c179e"
             ],
             [
              0.4444444444444444,
              "#bd3786"
             ],
             [
              0.5555555555555556,
              "#d8576b"
             ],
             [
              0.6666666666666666,
              "#ed7953"
             ],
             [
              0.7777777777777778,
              "#fb9f3a"
             ],
             [
              0.8888888888888888,
              "#fdca26"
             ],
             [
              1,
              "#f0f921"
             ]
            ],
            "type": "heatmapgl"
           }
          ],
          "histogram": [
           {
            "marker": {
             "pattern": {
              "fillmode": "overlay",
              "size": 10,
              "solidity": 0.2
             }
            },
            "type": "histogram"
           }
          ],
          "histogram2d": [
           {
            "colorbar": {
             "outlinewidth": 0,
             "ticks": ""
            },
            "colorscale": [
             [
              0,
              "#0d0887"
             ],
             [
              0.1111111111111111,
              "#46039f"
             ],
             [
              0.2222222222222222,
              "#7201a8"
             ],
             [
              0.3333333333333333,
              "#9c179e"
             ],
             [
              0.4444444444444444,
              "#bd3786"
             ],
             [
              0.5555555555555556,
              "#d8576b"
             ],
             [
              0.6666666666666666,
              "#ed7953"
             ],
             [
              0.7777777777777778,
              "#fb9f3a"
             ],
             [
              0.8888888888888888,
              "#fdca26"
             ],
             [
              1,
              "#f0f921"
             ]
            ],
            "type": "histogram2d"
           }
          ],
          "histogram2dcontour": [
           {
            "colorbar": {
             "outlinewidth": 0,
             "ticks": ""
            },
            "colorscale": [
             [
              0,
              "#0d0887"
             ],
             [
              0.1111111111111111,
              "#46039f"
             ],
             [
              0.2222222222222222,
              "#7201a8"
             ],
             [
              0.3333333333333333,
              "#9c179e"
             ],
             [
              0.4444444444444444,
              "#bd3786"
             ],
             [
              0.5555555555555556,
              "#d8576b"
             ],
             [
              0.6666666666666666,
              "#ed7953"
             ],
             [
              0.7777777777777778,
              "#fb9f3a"
             ],
             [
              0.8888888888888888,
              "#fdca26"
             ],
             [
              1,
              "#f0f921"
             ]
            ],
            "type": "histogram2dcontour"
           }
          ],
          "mesh3d": [
           {
            "colorbar": {
             "outlinewidth": 0,
             "ticks": ""
            },
            "type": "mesh3d"
           }
          ],
          "parcoords": [
           {
            "line": {
             "colorbar": {
              "outlinewidth": 0,
              "ticks": ""
             }
            },
            "type": "parcoords"
           }
          ],
          "pie": [
           {
            "automargin": true,
            "type": "pie"
           }
          ],
          "scatter": [
           {
            "fillpattern": {
             "fillmode": "overlay",
             "size": 10,
             "solidity": 0.2
            },
            "type": "scatter"
           }
          ],
          "scatter3d": [
           {
            "line": {
             "colorbar": {
              "outlinewidth": 0,
              "ticks": ""
             }
            },
            "marker": {
             "colorbar": {
              "outlinewidth": 0,
              "ticks": ""
             }
            },
            "type": "scatter3d"
           }
          ],
          "scattercarpet": [
           {
            "marker": {
             "colorbar": {
              "outlinewidth": 0,
              "ticks": ""
             }
            },
            "type": "scattercarpet"
           }
          ],
          "scattergeo": [
           {
            "marker": {
             "colorbar": {
              "outlinewidth": 0,
              "ticks": ""
             }
            },
            "type": "scattergeo"
           }
          ],
          "scattergl": [
           {
            "marker": {
             "colorbar": {
              "outlinewidth": 0,
              "ticks": ""
             }
            },
            "type": "scattergl"
           }
          ],
          "scattermapbox": [
           {
            "marker": {
             "colorbar": {
              "outlinewidth": 0,
              "ticks": ""
             }
            },
            "type": "scattermapbox"
           }
          ],
          "scatterpolar": [
           {
            "marker": {
             "colorbar": {
              "outlinewidth": 0,
              "ticks": ""
             }
            },
            "type": "scatterpolar"
           }
          ],
          "scatterpolargl": [
           {
            "marker": {
             "colorbar": {
              "outlinewidth": 0,
              "ticks": ""
             }
            },
            "type": "scatterpolargl"
           }
          ],
          "scatterternary": [
           {
            "marker": {
             "colorbar": {
              "outlinewidth": 0,
              "ticks": ""
             }
            },
            "type": "scatterternary"
           }
          ],
          "surface": [
           {
            "colorbar": {
             "outlinewidth": 0,
             "ticks": ""
            },
            "colorscale": [
             [
              0,
              "#0d0887"
             ],
             [
              0.1111111111111111,
              "#46039f"
             ],
             [
              0.2222222222222222,
              "#7201a8"
             ],
             [
              0.3333333333333333,
              "#9c179e"
             ],
             [
              0.4444444444444444,
              "#bd3786"
             ],
             [
              0.5555555555555556,
              "#d8576b"
             ],
             [
              0.6666666666666666,
              "#ed7953"
             ],
             [
              0.7777777777777778,
              "#fb9f3a"
             ],
             [
              0.8888888888888888,
              "#fdca26"
             ],
             [
              1,
              "#f0f921"
             ]
            ],
            "type": "surface"
           }
          ],
          "table": [
           {
            "cells": {
             "fill": {
              "color": "#EBF0F8"
             },
             "line": {
              "color": "white"
             }
            },
            "header": {
             "fill": {
              "color": "#C8D4E3"
             },
             "line": {
              "color": "white"
             }
            },
            "type": "table"
           }
          ]
         },
         "layout": {
          "annotationdefaults": {
           "arrowcolor": "#2a3f5f",
           "arrowhead": 0,
           "arrowwidth": 1
          },
          "autotypenumbers": "strict",
          "coloraxis": {
           "colorbar": {
            "outlinewidth": 0,
            "ticks": ""
           }
          },
          "colorscale": {
           "diverging": [
            [
             0,
             "#8e0152"
            ],
            [
             0.1,
             "#c51b7d"
            ],
            [
             0.2,
             "#de77ae"
            ],
            [
             0.3,
             "#f1b6da"
            ],
            [
             0.4,
             "#fde0ef"
            ],
            [
             0.5,
             "#f7f7f7"
            ],
            [
             0.6,
             "#e6f5d0"
            ],
            [
             0.7,
             "#b8e186"
            ],
            [
             0.8,
             "#7fbc41"
            ],
            [
             0.9,
             "#4d9221"
            ],
            [
             1,
             "#276419"
            ]
           ],
           "sequential": [
            [
             0,
             "#0d0887"
            ],
            [
             0.1111111111111111,
             "#46039f"
            ],
            [
             0.2222222222222222,
             "#7201a8"
            ],
            [
             0.3333333333333333,
             "#9c179e"
            ],
            [
             0.4444444444444444,
             "#bd3786"
            ],
            [
             0.5555555555555556,
             "#d8576b"
            ],
            [
             0.6666666666666666,
             "#ed7953"
            ],
            [
             0.7777777777777778,
             "#fb9f3a"
            ],
            [
             0.8888888888888888,
             "#fdca26"
            ],
            [
             1,
             "#f0f921"
            ]
           ],
           "sequentialminus": [
            [
             0,
             "#0d0887"
            ],
            [
             0.1111111111111111,
             "#46039f"
            ],
            [
             0.2222222222222222,
             "#7201a8"
            ],
            [
             0.3333333333333333,
             "#9c179e"
            ],
            [
             0.4444444444444444,
             "#bd3786"
            ],
            [
             0.5555555555555556,
             "#d8576b"
            ],
            [
             0.6666666666666666,
             "#ed7953"
            ],
            [
             0.7777777777777778,
             "#fb9f3a"
            ],
            [
             0.8888888888888888,
             "#fdca26"
            ],
            [
             1,
             "#f0f921"
            ]
           ]
          },
          "colorway": [
           "#636efa",
           "#EF553B",
           "#00cc96",
           "#ab63fa",
           "#FFA15A",
           "#19d3f3",
           "#FF6692",
           "#B6E880",
           "#FF97FF",
           "#FECB52"
          ],
          "font": {
           "color": "#2a3f5f"
          },
          "geo": {
           "bgcolor": "white",
           "lakecolor": "white",
           "landcolor": "#E5ECF6",
           "showlakes": true,
           "showland": true,
           "subunitcolor": "white"
          },
          "hoverlabel": {
           "align": "left"
          },
          "hovermode": "closest",
          "mapbox": {
           "style": "light"
          },
          "paper_bgcolor": "white",
          "plot_bgcolor": "#E5ECF6",
          "polar": {
           "angularaxis": {
            "gridcolor": "white",
            "linecolor": "white",
            "ticks": ""
           },
           "bgcolor": "#E5ECF6",
           "radialaxis": {
            "gridcolor": "white",
            "linecolor": "white",
            "ticks": ""
           }
          },
          "scene": {
           "xaxis": {
            "backgroundcolor": "#E5ECF6",
            "gridcolor": "white",
            "gridwidth": 2,
            "linecolor": "white",
            "showbackground": true,
            "ticks": "",
            "zerolinecolor": "white"
           },
           "yaxis": {
            "backgroundcolor": "#E5ECF6",
            "gridcolor": "white",
            "gridwidth": 2,
            "linecolor": "white",
            "showbackground": true,
            "ticks": "",
            "zerolinecolor": "white"
           },
           "zaxis": {
            "backgroundcolor": "#E5ECF6",
            "gridcolor": "white",
            "gridwidth": 2,
            "linecolor": "white",
            "showbackground": true,
            "ticks": "",
            "zerolinecolor": "white"
           }
          },
          "shapedefaults": {
           "line": {
            "color": "#2a3f5f"
           }
          },
          "ternary": {
           "aaxis": {
            "gridcolor": "white",
            "linecolor": "white",
            "ticks": ""
           },
           "baxis": {
            "gridcolor": "white",
            "linecolor": "white",
            "ticks": ""
           },
           "bgcolor": "#E5ECF6",
           "caxis": {
            "gridcolor": "white",
            "linecolor": "white",
            "ticks": ""
           }
          },
          "title": {
           "x": 0.05
          },
          "xaxis": {
           "automargin": true,
           "gridcolor": "white",
           "linecolor": "white",
           "ticks": "",
           "title": {
            "standoff": 15
           },
           "zerolinecolor": "white",
           "zerolinewidth": 2
          },
          "yaxis": {
           "automargin": true,
           "gridcolor": "white",
           "linecolor": "white",
           "ticks": "",
           "title": {
            "standoff": 15
           },
           "zerolinecolor": "white",
           "zerolinewidth": 2
          }
         }
        },
        "title": {
         "font": {
          "color": "#4D5663"
         },
         "x": 0.5
        },
        "xaxis": {
         "autorange": true,
         "gridcolor": "#E1E5ED",
         "range": [
          -0.5,
          5.5
         ],
         "showgrid": true,
         "tickfont": {
          "color": "#4D5663"
         },
         "title": {
          "font": {
           "color": "#4D5663"
          },
          "text": ""
         },
         "type": "category",
         "zerolinecolor": "#E1E5ED"
        },
        "yaxis": {
         "autorange": true,
         "gridcolor": "#E1E5ED",
         "range": [
          0,
          3031.578947368421
         ],
         "showgrid": true,
         "tickfont": {
          "color": "#4D5663"
         },
         "title": {
          "font": {
           "color": "#4D5663"
          },
          "text": ""
         },
         "type": "linear",
         "zerolinecolor": "#E1E5ED"
        }
       }
      },
      "image/png": "[encoded data removed]",
      "text/html": [
       "<div>                            <div id=\"6ee05c0f-37aa-4473-96b1-fca4bcdda8b2\" class=\"plotly-graph-div\" style=\"height:525px; width:100%;\"></div>            <script type=\"text/javascript\">                require([\"plotly\"], function(Plotly) {                    window.PLOTLYENV=window.PLOTLYENV || {};\n",
       "                    window.PLOTLYENV.BASE_URL='https://plot.ly';                                    if (document.getElementById(\"6ee05c0f-37aa-4473-96b1-fca4bcdda8b2\")) {                    Plotly.newPlot(                        \"6ee05c0f-37aa-4473-96b1-fca4bcdda8b2\",                        [{\"marker\":{\"color\":\"rgba(255, 153, 51, 0.6)\",\"line\":{\"color\":\"rgba(255, 153, 51, 1.0)\",\"width\":1}},\"name\":\"count\",\"orientation\":\"v\",\"text\":\"\",\"x\":[\"Early Morning\",\"Evening\",\"Morning\",\"Afternoon\",\"Night\",\"Late Night\"],\"y\":[2880,2357,2209,1731,1040,465],\"type\":\"bar\"}],                        {\"legend\":{\"bgcolor\":\"#F5F6F9\",\"font\":{\"color\":\"#4D5663\"}},\"paper_bgcolor\":\"#F5F6F9\",\"plot_bgcolor\":\"#F5F6F9\",\"template\":{\"data\":{\"barpolar\":[{\"marker\":{\"line\":{\"color\":\"#E5ECF6\",\"width\":0.5},\"pattern\":{\"fillmode\":\"overlay\",\"size\":10,\"solidity\":0.2}},\"type\":\"barpolar\"}],\"bar\":[{\"error_x\":{\"color\":\"#2a3f5f\"},\"error_y\":{\"color\":\"#2a3f5f\"},\"marker\":{\"line\":{\"color\":\"#E5ECF6\",\"width\":0.5},\"pattern\":{\"fillmode\":\"overlay\",\"size\":10,\"solidity\":0.2}},\"type\":\"bar\"}],\"carpet\":[{\"aaxis\":{\"endlinecolor\":\"#2a3f5f\",\"gridcolor\":\"white\",\"linecolor\":\"white\",\"minorgridcolor\":\"white\",\"startlinecolor\":\"#2a3f5f\"},\"baxis\":{\"endlinecolor\":\"#2a3f5f\",\"gridcolor\":\"white\",\"linecolor\":\"white\",\"minorgridcolor\":\"white\",\"startlinecolor\":\"#2a3f5f\"},\"type\":\"carpet\"}],\"choropleth\":[{\"colorbar\":{\"outlinewidth\":0,\"ticks\":\"\"},\"type\":\"choropleth\"}],\"contourcarpet\":[{\"colorbar\":{\"outlinewidth\":0,\"ticks\":\"\"},\"type\":\"contourcarpet\"}],\"contour\":[{\"colorbar\":{\"outlinewidth\":0,\"ticks\":\"\"},\"colorscale\":[[0.0,\"#0d0887\"],[0.1111111111111111,\"#46039f\"],[0.2222222222222222,\"#7201a8\"],[0.3333333333333333,\"#9c179e\"],[0.4444444444444444,\"#bd3786\"],[0.5555555555555556,\"#d8576b\"],[0.6666666666666666,\"#ed7953\"],[0.7777777777777778,\"#fb9f3a\"],[0.8888888888888888,\"#fdca26\"],[1.0,\"#f0f921\"]],\"type\":\"contour\"}],\"heatmapgl\":[{\"colorbar\":{\"outlinewidth\":0,\"ticks\":\"\"},\"colorscale\":[[0.0,\"#0d0887\"],[0.1111111111111111,\"#46039f\"],[0.2222222222222222,\"#7201a8\"],[0.3333333333333333,\"#9c179e\"],[0.4444444444444444,\"#bd3786\"],[0.5555555555555556,\"#d8576b\"],[0.6666666666666666,\"#ed7953\"],[0.7777777777777778,\"#fb9f3a\"],[0.8888888888888888,\"#fdca26\"],[1.0,\"#f0f921\"]],\"type\":\"heatmapgl\"}],\"heatmap\":[{\"colorbar\":{\"outlinewidth\":0,\"ticks\":\"\"},\"colorscale\":[[0.0,\"#0d0887\"],[0.1111111111111111,\"#46039f\"],[0.2222222222222222,\"#7201a8\"],[0.3333333333333333,\"#9c179e\"],[0.4444444444444444,\"#bd3786\"],[0.5555555555555556,\"#d8576b\"],[0.6666666666666666,\"#ed7953\"],[0.7777777777777778,\"#fb9f3a\"],[0.8888888888888888,\"#fdca26\"],[1.0,\"#f0f921\"]],\"type\":\"heatmap\"}],\"histogram2dcontour\":[{\"colorbar\":{\"outlinewidth\":0,\"ticks\":\"\"},\"colorscale\":[[0.0,\"#0d0887\"],[0.1111111111111111,\"#46039f\"],[0.2222222222222222,\"#7201a8\"],[0.3333333333333333,\"#9c179e\"],[0.4444444444444444,\"#bd3786\"],[0.5555555555555556,\"#d8576b\"],[0.6666666666666666,\"#ed7953\"],[0.7777777777777778,\"#fb9f3a\"],[0.8888888888888888,\"#fdca26\"],[1.0,\"#f0f921\"]],\"type\":\"histogram2dcontour\"}],\"histogram2d\":[{\"colorbar\":{\"outlinewidth\":0,\"ticks\":\"\"},\"colorscale\":[[0.0,\"#0d0887\"],[0.1111111111111111,\"#46039f\"],[0.2222222222222222,\"#7201a8\"],[0.3333333333333333,\"#9c179e\"],[0.4444444444444444,\"#bd3786\"],[0.5555555555555556,\"#d8576b\"],[0.6666666666666666,\"#ed7953\"],[0.7777777777777778,\"#fb9f3a\"],[0.8888888888888888,\"#fdca26\"],[1.0,\"#f0f921\"]],\"type\":\"histogram2d\"}],\"histogram\":[{\"marker\":{\"pattern\":{\"fillmode\":\"overlay\",\"size\":10,\"solidity\":0.2}},\"type\":\"histogram\"}],\"mesh3d\":[{\"colorbar\":{\"outlinewidth\":0,\"ticks\":\"\"},\"type\":\"mesh3d\"}],\"parcoords\":[{\"line\":{\"colorbar\":{\"outlinewidth\":0,\"ticks\":\"\"}},\"type\":\"parcoords\"}],\"pie\":[{\"automargin\":true,\"type\":\"pie\"}],\"scatter3d\":[{\"line\":{\"colorbar\":{\"outlinewidth\":0,\"ticks\":\"\"}},\"marker\":{\"colorbar\":{\"outlinewidth\":0,\"ticks\":\"\"}},\"type\":\"scatter3d\"}],\"scattercarpet\":[{\"marker\":{\"colorbar\":{\"outlinewidth\":0,\"ticks\":\"\"}},\"type\":\"scattercarpet\"}],\"scattergeo\":[{\"marker\":{\"colorbar\":{\"outlinewidth\":0,\"ticks\":\"\"}},\"type\":\"scattergeo\"}],\"scattergl\":[{\"marker\":{\"colorbar\":{\"outlinewidth\":0,\"ticks\":\"\"}},\"type\":\"scattergl\"}],\"scattermapbox\":[{\"marker\":{\"colorbar\":{\"outlinewidth\":0,\"ticks\":\"\"}},\"type\":\"scattermapbox\"}],\"scatterpolargl\":[{\"marker\":{\"colorbar\":{\"outlinewidth\":0,\"ticks\":\"\"}},\"type\":\"scatterpolargl\"}],\"scatterpolar\":[{\"marker\":{\"colorbar\":{\"outlinewidth\":0,\"ticks\":\"\"}},\"type\":\"scatterpolar\"}],\"scatter\":[{\"fillpattern\":{\"fillmode\":\"overlay\",\"size\":10,\"solidity\":0.2},\"type\":\"scatter\"}],\"scatterternary\":[{\"marker\":{\"colorbar\":{\"outlinewidth\":0,\"ticks\":\"\"}},\"type\":\"scatterternary\"}],\"surface\":[{\"colorbar\":{\"outlinewidth\":0,\"ticks\":\"\"},\"colorscale\":[[0.0,\"#0d0887\"],[0.1111111111111111,\"#46039f\"],[0.2222222222222222,\"#7201a8\"],[0.3333333333333333,\"#9c179e\"],[0.4444444444444444,\"#bd3786\"],[0.5555555555555556,\"#d8576b\"],[0.6666666666666666,\"#ed7953\"],[0.7777777777777778,\"#fb9f3a\"],[0.8888888888888888,\"#fdca26\"],[1.0,\"#f0f921\"]],\"type\":\"surface\"}],\"table\":[{\"cells\":{\"fill\":{\"color\":\"#EBF0F8\"},\"line\":{\"color\":\"white\"}},\"header\":{\"fill\":{\"color\":\"#C8D4E3\"},\"line\":{\"color\":\"white\"}},\"type\":\"table\"}]},\"layout\":{\"annotationdefaults\":{\"arrowcolor\":\"#2a3f5f\",\"arrowhead\":0,\"arrowwidth\":1},\"autotypenumbers\":\"strict\",\"coloraxis\":{\"colorbar\":{\"outlinewidth\":0,\"ticks\":\"\"}},\"colorscale\":{\"diverging\":[[0,\"#8e0152\"],[0.1,\"#c51b7d\"],[0.2,\"#de77ae\"],[0.3,\"#f1b6da\"],[0.4,\"#fde0ef\"],[0.5,\"#f7f7f7\"],[0.6,\"#e6f5d0\"],[0.7,\"#b8e186\"],[0.8,\"#7fbc41\"],[0.9,\"#4d9221\"],[1,\"#276419\"]],\"sequential\":[[0.0,\"#0d0887\"],[0.1111111111111111,\"#46039f\"],[0.2222222222222222,\"#7201a8\"],[0.3333333333333333,\"#9c179e\"],[0.4444444444444444,\"#bd3786\"],[0.5555555555555556,\"#d8576b\"],[0.6666666666666666,\"#ed7953\"],[0.7777777777777778,\"#fb9f3a\"],[0.8888888888888888,\"#fdca26\"],[1.0,\"#f0f921\"]],\"sequentialminus\":[[0.0,\"#0d0887\"],[0.1111111111111111,\"#46039f\"],[0.2222222222222222,\"#7201a8\"],[0.3333333333333333,\"#9c179e\"],[0.4444444444444444,\"#bd3786\"],[0.5555555555555556,\"#d8576b\"],[0.6666666666666666,\"#ed7953\"],[0.7777777777777778,\"#fb9f3a\"],[0.8888888888888888,\"#fdca26\"],[1.0,\"#f0f921\"]]},\"colorway\":[\"#636efa\",\"#EF553B\",\"#00cc96\",\"#ab63fa\",\"#FFA15A\",\"#19d3f3\",\"#FF6692\",\"#B6E880\",\"#FF97FF\",\"#FECB52\"],\"font\":{\"color\":\"#2a3f5f\"},\"geo\":{\"bgcolor\":\"white\",\"lakecolor\":\"white\",\"landcolor\":\"#E5ECF6\",\"showlakes\":true,\"showland\":true,\"subunitcolor\":\"white\"},\"hoverlabel\":{\"align\":\"left\"},\"hovermode\":\"closest\",\"mapbox\":{\"style\":\"light\"},\"paper_bgcolor\":\"white\",\"plot_bgcolor\":\"#E5ECF6\",\"polar\":{\"angularaxis\":{\"gridcolor\":\"white\",\"linecolor\":\"white\",\"ticks\":\"\"},\"bgcolor\":\"#E5ECF6\",\"radialaxis\":{\"gridcolor\":\"white\",\"linecolor\":\"white\",\"ticks\":\"\"}},\"scene\":{\"xaxis\":{\"backgroundcolor\":\"#E5ECF6\",\"gridcolor\":\"white\",\"gridwidth\":2,\"linecolor\":\"white\",\"showbackground\":true,\"ticks\":\"\",\"zerolinecolor\":\"white\"},\"yaxis\":{\"backgroundcolor\":\"#E5ECF6\",\"gridcolor\":\"white\",\"gridwidth\":2,\"linecolor\":\"white\",\"showbackground\":true,\"ticks\":\"\",\"zerolinecolor\":\"white\"},\"zaxis\":{\"backgroundcolor\":\"#E5ECF6\",\"gridcolor\":\"white\",\"gridwidth\":2,\"linecolor\":\"white\",\"showbackground\":true,\"ticks\":\"\",\"zerolinecolor\":\"white\"}},\"shapedefaults\":{\"line\":{\"color\":\"#2a3f5f\"}},\"ternary\":{\"aaxis\":{\"gridcolor\":\"white\",\"linecolor\":\"white\",\"ticks\":\"\"},\"baxis\":{\"gridcolor\":\"white\",\"linecolor\":\"white\",\"ticks\":\"\"},\"bgcolor\":\"#E5ECF6\",\"caxis\":{\"gridcolor\":\"white\",\"linecolor\":\"white\",\"ticks\":\"\"}},\"title\":{\"x\":0.05},\"xaxis\":{\"automargin\":true,\"gridcolor\":\"white\",\"linecolor\":\"white\",\"ticks\":\"\",\"title\":{\"standoff\":15},\"zerolinecolor\":\"white\",\"zerolinewidth\":2},\"yaxis\":{\"automargin\":true,\"gridcolor\":\"white\",\"linecolor\":\"white\",\"ticks\":\"\",\"title\":{\"standoff\":15},\"zerolinecolor\":\"white\",\"zerolinewidth\":2}}},\"title\":{\"font\":{\"color\":\"#4D5663\"},\"x\":0.5},\"xaxis\":{\"gridcolor\":\"#E1E5ED\",\"showgrid\":true,\"tickfont\":{\"color\":\"#4D5663\"},\"title\":{\"font\":{\"color\":\"#4D5663\"},\"text\":\"\"},\"zerolinecolor\":\"#E1E5ED\"},\"yaxis\":{\"gridcolor\":\"#E1E5ED\",\"showgrid\":true,\"tickfont\":{\"color\":\"#4D5663\"},\"title\":{\"font\":{\"color\":\"#4D5663\"},\"text\":\"\"},\"zerolinecolor\":\"#E1E5ED\"}},                        {\"showLink\": true, \"linkText\": \"Export to plot.ly\", \"plotlyServerURL\": \"https://plot.ly\", \"responsive\": true}                    ).then(function(){\n",
       "                            \n",
       "var gd = document.getElementById('6ee05c0f-37aa-4473-96b1-fca4bcdda8b2');\n",
       "var x = new MutationObserver(function (mutations, observer) {{\n",
       "        var display = window.getComputedStyle(gd).display;\n",
       "        if (!display || display === 'none') {{\n",
       "            console.log([gd, 'removed!']);\n",
       "            Plotly.purge(gd);\n",
       "            observer.disconnect();\n",
       "        }}\n",
       "}});\n",
       "\n",
       "// Listen for the removal of the full notebook cells\n",
       "var notebookContainer = gd.closest('#notebook-container');\n",
       "if (notebookContainer) {{\n",
       "    x.observe(notebookContainer, {childList: true});\n",
       "}}\n",
       "\n",
       "// Listen for the clearing of the current output cell\n",
       "var outputEl = gd.closest('.output');\n",
       "if (outputEl) {{\n",
       "    x.observe(outputEl, {childList: true});\n",
       "}}\n",
       "\n",
       "                        })                };                });            </script>        </div>"
      ]
     },
     "metadata": {},
     "output_type": "display_data"
    }
   ],
   "source": [
    "data['Dep_Time_hour'].apply(flight_dep_time).value_counts().iplot(kind = \"bar\")"
   ]
  },
  {
   "cell_type": "code",
   "execution_count": 696,
   "id": "cd54c521-648c-45ab-a194-04add77878ff",
   "metadata": {},
   "outputs": [
    {
     "data": {
      "text/html": [
       "<div>\n",
       "<style scoped>\n",
       "    .dataframe tbody tr th:only-of-type {\n",
       "        vertical-align: middle;\n",
       "    }\n",
       "\n",
       "    .dataframe tbody tr th {\n",
       "        vertical-align: top;\n",
       "    }\n",
       "\n",
       "    .dataframe thead th {\n",
       "        text-align: right;\n",
       "    }\n",
       "</style>\n",
       "<table border=\"1\" class=\"dataframe\">\n",
       "  <thead>\n",
       "    <tr style=\"text-align: right;\">\n",
       "      <th></th>\n",
       "      <th>Airline</th>\n",
       "      <th>Date_of_Journey</th>\n",
       "      <th>Source</th>\n",
       "      <th>Destination</th>\n",
       "      <th>Route</th>\n",
       "      <th>Duration</th>\n",
       "      <th>Total_Stops</th>\n",
       "      <th>Additional_Info</th>\n",
       "      <th>Price</th>\n",
       "      <th>Journey_day</th>\n",
       "      <th>Journey_month</th>\n",
       "      <th>Journey_year</th>\n",
       "      <th>Dep_Time_hour</th>\n",
       "      <th>Dep_Time_min</th>\n",
       "      <th>Arrival_Time_hour</th>\n",
       "      <th>Arrival_Time_min</th>\n",
       "    </tr>\n",
       "  </thead>\n",
       "  <tbody>\n",
       "    <tr>\n",
       "      <th>0</th>\n",
       "      <td>IndiGo</td>\n",
       "      <td>2019-03-24</td>\n",
       "      <td>Banglore</td>\n",
       "      <td>New Delhi</td>\n",
       "      <td>BLR → DEL</td>\n",
       "      <td>2h 50m</td>\n",
       "      <td>non-stop</td>\n",
       "      <td>No info</td>\n",
       "      <td>3897</td>\n",
       "      <td>24</td>\n",
       "      <td>3</td>\n",
       "      <td>2019</td>\n",
       "      <td>22</td>\n",
       "      <td>20</td>\n",
       "      <td>1</td>\n",
       "      <td>10</td>\n",
       "    </tr>\n",
       "    <tr>\n",
       "      <th>1</th>\n",
       "      <td>Air India</td>\n",
       "      <td>2019-05-01</td>\n",
       "      <td>Kolkata</td>\n",
       "      <td>Banglore</td>\n",
       "      <td>CCU → IXR → BBI → BLR</td>\n",
       "      <td>7h 25m</td>\n",
       "      <td>2 stops</td>\n",
       "      <td>No info</td>\n",
       "      <td>7662</td>\n",
       "      <td>1</td>\n",
       "      <td>5</td>\n",
       "      <td>2019</td>\n",
       "      <td>5</td>\n",
       "      <td>50</td>\n",
       "      <td>13</td>\n",
       "      <td>15</td>\n",
       "    </tr>\n",
       "    <tr>\n",
       "      <th>2</th>\n",
       "      <td>Jet Airways</td>\n",
       "      <td>2019-06-09</td>\n",
       "      <td>Delhi</td>\n",
       "      <td>Cochin</td>\n",
       "      <td>DEL → LKO → BOM → COK</td>\n",
       "      <td>19h</td>\n",
       "      <td>2 stops</td>\n",
       "      <td>No info</td>\n",
       "      <td>13882</td>\n",
       "      <td>9</td>\n",
       "      <td>6</td>\n",
       "      <td>2019</td>\n",
       "      <td>9</td>\n",
       "      <td>25</td>\n",
       "      <td>4</td>\n",
       "      <td>25</td>\n",
       "    </tr>\n",
       "  </tbody>\n",
       "</table>\n",
       "</div>"
      ],
      "text/plain": [
       "       Airline Date_of_Journey    Source Destination                  Route  \\\n",
       "0       IndiGo      2019-03-24  Banglore   New Delhi              BLR → DEL   \n",
       "1    Air India      2019-05-01   Kolkata    Banglore  CCU → IXR → BBI → BLR   \n",
       "2  Jet Airways      2019-06-09     Delhi      Cochin  DEL → LKO → BOM → COK   \n",
       "\n",
       "  Duration Total_Stops Additional_Info  Price  Journey_day  Journey_month  \\\n",
       "0   2h 50m    non-stop         No info   3897           24              3   \n",
       "1   7h 25m     2 stops         No info   7662            1              5   \n",
       "2      19h     2 stops         No info  13882            9              6   \n",
       "\n",
       "   Journey_year  Dep_Time_hour  Dep_Time_min  Arrival_Time_hour  \\\n",
       "0          2019             22            20                  1   \n",
       "1          2019              5            50                 13   \n",
       "2          2019              9            25                  4   \n",
       "\n",
       "   Arrival_Time_min  \n",
       "0                10  \n",
       "1                15  \n",
       "2                25  "
      ]
     },
     "execution_count": 696,
     "metadata": {},
     "output_type": "execute_result"
    }
   ],
   "source": [
    "data.head(3)"
   ]
  },
  {
   "cell_type": "code",
   "execution_count": 697,
   "id": "86866054-dbbb-4ca8-8651-5c807287af49",
   "metadata": {},
   "outputs": [],
   "source": [
    "# as ML works only with numbers we need to convert duration into duration hour and minutes"
   ]
  },
  {
   "cell_type": "code",
   "execution_count": 698,
   "id": "ab4d8aee-6c0e-4e2b-a059-a4a350e15c17",
   "metadata": {},
   "outputs": [],
   "source": [
    "def preprocess_duration(x):\n",
    "    if 'h' not in x:\n",
    "        x = '0h' + ' ' + x\n",
    "    elif 'm' not in x:\n",
    "        x = x + ' ' + '0m'\n",
    "        \n",
    "    return x"
   ]
  },
  {
   "cell_type": "code",
   "execution_count": 699,
   "id": "8da2486a-86f2-46c7-86d3-113512217a72",
   "metadata": {},
   "outputs": [
    {
     "data": {
      "text/plain": [
       "0        2h 50m\n",
       "1        7h 25m\n",
       "2        19h 0m\n",
       "3        5h 25m\n",
       "4        4h 45m\n",
       "          ...  \n",
       "10678    2h 30m\n",
       "10679    2h 35m\n",
       "10680     3h 0m\n",
       "10681    2h 40m\n",
       "10682    8h 20m\n",
       "Name: Duration, Length: 10682, dtype: object"
      ]
     },
     "execution_count": 699,
     "metadata": {},
     "output_type": "execute_result"
    }
   ],
   "source": [
    "data['Duration'].apply(preprocess_duration)"
   ]
  },
  {
   "cell_type": "code",
   "execution_count": 700,
   "id": "590e9066-586b-49a3-81b4-abdeab19fdd0",
   "metadata": {},
   "outputs": [
    {
     "data": {
      "text/plain": [
       "0        2h 50m\n",
       "1        7h 25m\n",
       "2           19h\n",
       "3        5h 25m\n",
       "4        4h 45m\n",
       "          ...  \n",
       "10678    2h 30m\n",
       "10679    2h 35m\n",
       "10680        3h\n",
       "10681    2h 40m\n",
       "10682    8h 20m\n",
       "Name: Duration, Length: 10682, dtype: object"
      ]
     },
     "execution_count": 700,
     "metadata": {},
     "output_type": "execute_result"
    }
   ],
   "source": [
    "data['Duration']"
   ]
  },
  {
   "cell_type": "code",
   "execution_count": 701,
   "id": "90070879-5fee-4e74-9ee4-e08472eb6516",
   "metadata": {},
   "outputs": [
    {
     "data": {
      "text/plain": [
       "0        2h 50m\n",
       "1        7h 25m\n",
       "2        19h 0m\n",
       "3        5h 25m\n",
       "4        4h 45m\n",
       "          ...  \n",
       "10678    2h 30m\n",
       "10679    2h 35m\n",
       "10680     3h 0m\n",
       "10681    2h 40m\n",
       "10682    8h 20m\n",
       "Name: Duration, Length: 10682, dtype: object"
      ]
     },
     "execution_count": 701,
     "metadata": {},
     "output_type": "execute_result"
    }
   ],
   "source": [
    "data['Duration'] = data['Duration'].apply(preprocess_duration)\n",
    "data['Duration']"
   ]
  },
  {
   "cell_type": "code",
   "execution_count": 702,
   "id": "9ff2ed69-0cb7-41bb-998b-a962e65eaef9",
   "metadata": {},
   "outputs": [
    {
     "data": {
      "text/plain": [
       "'2h 50m'"
      ]
     },
     "execution_count": 702,
     "metadata": {},
     "output_type": "execute_result"
    }
   ],
   "source": [
    "data['Duration'][0]"
   ]
  },
  {
   "cell_type": "code",
   "execution_count": 703,
   "id": "446c6830-7a02-42ac-983c-19ef7b1872a7",
   "metadata": {},
   "outputs": [
    {
     "data": {
      "text/plain": [
       "['2h', '50m']"
      ]
     },
     "execution_count": 703,
     "metadata": {},
     "output_type": "execute_result"
    }
   ],
   "source": [
    "data['Duration'][0].split(' ')"
   ]
  },
  {
   "cell_type": "code",
   "execution_count": 704,
   "id": "7a1c262d-b366-4c03-ad6b-2c509a596fff",
   "metadata": {},
   "outputs": [
    {
     "data": {
      "text/plain": [
       "'50m'"
      ]
     },
     "execution_count": 704,
     "metadata": {},
     "output_type": "execute_result"
    }
   ],
   "source": [
    "data['Duration'][0].split(' ')[1]"
   ]
  },
  {
   "cell_type": "code",
   "execution_count": 705,
   "id": "1e4ec4a3-d05b-4b1d-8857-f0dd753d7136",
   "metadata": {},
   "outputs": [
    {
     "data": {
      "text/plain": [
       "'2h'"
      ]
     },
     "execution_count": 705,
     "metadata": {},
     "output_type": "execute_result"
    }
   ],
   "source": [
    "data['Duration'][0].split(' ')[0]"
   ]
  },
  {
   "cell_type": "code",
   "execution_count": 706,
   "id": "338140c1-e1df-4217-81d1-bc78664290d9",
   "metadata": {},
   "outputs": [
    {
     "data": {
      "text/plain": [
       "'2'"
      ]
     },
     "execution_count": 706,
     "metadata": {},
     "output_type": "execute_result"
    }
   ],
   "source": [
    "data['Duration'][0].split(' ')[0][0:-1]"
   ]
  },
  {
   "cell_type": "code",
   "execution_count": 707,
   "id": "283a9364-d251-4d36-8ff5-bf52eac3ef73",
   "metadata": {},
   "outputs": [
    {
     "data": {
      "text/plain": [
       "str"
      ]
     },
     "execution_count": 707,
     "metadata": {},
     "output_type": "execute_result"
    }
   ],
   "source": [
    "type(data['Duration'][0].split(' ')[0][0:-1])"
   ]
  },
  {
   "cell_type": "code",
   "execution_count": 708,
   "id": "d4398b58-fca2-454b-b97a-80f91eb70f75",
   "metadata": {},
   "outputs": [
    {
     "data": {
      "text/plain": [
       "2"
      ]
     },
     "execution_count": 708,
     "metadata": {},
     "output_type": "execute_result"
    }
   ],
   "source": [
    "int(data['Duration'][0].split(' ')[0][0:-1])"
   ]
  },
  {
   "cell_type": "code",
   "execution_count": 709,
   "id": "32ff4b24-028a-40e2-9b77-697a2267c032",
   "metadata": {},
   "outputs": [
    {
     "data": {
      "text/plain": [
       "50"
      ]
     },
     "execution_count": 709,
     "metadata": {},
     "output_type": "execute_result"
    }
   ],
   "source": [
    "int(data['Duration'][0].split(' ')[1][0:-1])"
   ]
  },
  {
   "cell_type": "code",
   "execution_count": 710,
   "id": "2792dae8-ea24-4711-9576-17b482bfdc48",
   "metadata": {},
   "outputs": [],
   "source": [
    "# use lambda (anonymous function"
   ]
  },
  {
   "cell_type": "code",
   "execution_count": 711,
   "id": "6cbd6d96-04ca-4007-a5e2-4c0e6a2a0c74",
   "metadata": {},
   "outputs": [
    {
     "data": {
      "text/plain": [
       "0         2\n",
       "1         7\n",
       "2        19\n",
       "3         5\n",
       "4         4\n",
       "         ..\n",
       "10678     2\n",
       "10679     2\n",
       "10680     3\n",
       "10681     2\n",
       "10682     8\n",
       "Name: Duration_hours, Length: 10682, dtype: int64"
      ]
     },
     "execution_count": 711,
     "metadata": {},
     "output_type": "execute_result"
    }
   ],
   "source": [
    "data['Duration_hours'] = data['Duration'].apply(lambda x : int(x.split(' ')[0][0:-1]))\n",
    "data['Duration_hours']\n",
    "#hours"
   ]
  },
  {
   "cell_type": "code",
   "execution_count": 712,
   "id": "f5615431-2270-41f8-bb38-4b5a3780b286",
   "metadata": {},
   "outputs": [
    {
     "data": {
      "text/plain": [
       "0        50\n",
       "1        25\n",
       "2         0\n",
       "3        25\n",
       "4        45\n",
       "         ..\n",
       "10678    30\n",
       "10679    35\n",
       "10680     0\n",
       "10681    40\n",
       "10682    20\n",
       "Name: Duration_mins, Length: 10682, dtype: int64"
      ]
     },
     "execution_count": 712,
     "metadata": {},
     "output_type": "execute_result"
    }
   ],
   "source": [
    " data['Duration_mins'] = data['Duration'].apply(lambda x : int(x.split(' ')[1][0:-1]))\n",
    " data['Duration_mins']\n",
    "# minutes"
   ]
  },
  {
   "cell_type": "code",
   "execution_count": 713,
   "id": "3cf8c790-91f7-4ca0-8422-00343f5485e5",
   "metadata": {},
   "outputs": [
    {
     "data": {
      "text/html": [
       "<div>\n",
       "<style scoped>\n",
       "    .dataframe tbody tr th:only-of-type {\n",
       "        vertical-align: middle;\n",
       "    }\n",
       "\n",
       "    .dataframe tbody tr th {\n",
       "        vertical-align: top;\n",
       "    }\n",
       "\n",
       "    .dataframe thead th {\n",
       "        text-align: right;\n",
       "    }\n",
       "</style>\n",
       "<table border=\"1\" class=\"dataframe\">\n",
       "  <thead>\n",
       "    <tr style=\"text-align: right;\">\n",
       "      <th></th>\n",
       "      <th>Airline</th>\n",
       "      <th>Date_of_Journey</th>\n",
       "      <th>Source</th>\n",
       "      <th>Destination</th>\n",
       "      <th>Route</th>\n",
       "      <th>Duration</th>\n",
       "      <th>Total_Stops</th>\n",
       "      <th>Additional_Info</th>\n",
       "      <th>Price</th>\n",
       "      <th>Journey_day</th>\n",
       "      <th>Journey_month</th>\n",
       "      <th>Journey_year</th>\n",
       "      <th>Dep_Time_hour</th>\n",
       "      <th>Dep_Time_min</th>\n",
       "      <th>Arrival_Time_hour</th>\n",
       "      <th>Arrival_Time_min</th>\n",
       "      <th>Duration_hours</th>\n",
       "      <th>Duration_mins</th>\n",
       "    </tr>\n",
       "  </thead>\n",
       "  <tbody>\n",
       "    <tr>\n",
       "      <th>0</th>\n",
       "      <td>IndiGo</td>\n",
       "      <td>2019-03-24</td>\n",
       "      <td>Banglore</td>\n",
       "      <td>New Delhi</td>\n",
       "      <td>BLR → DEL</td>\n",
       "      <td>2h 50m</td>\n",
       "      <td>non-stop</td>\n",
       "      <td>No info</td>\n",
       "      <td>3897</td>\n",
       "      <td>24</td>\n",
       "      <td>3</td>\n",
       "      <td>2019</td>\n",
       "      <td>22</td>\n",
       "      <td>20</td>\n",
       "      <td>1</td>\n",
       "      <td>10</td>\n",
       "      <td>2</td>\n",
       "      <td>50</td>\n",
       "    </tr>\n",
       "    <tr>\n",
       "      <th>1</th>\n",
       "      <td>Air India</td>\n",
       "      <td>2019-05-01</td>\n",
       "      <td>Kolkata</td>\n",
       "      <td>Banglore</td>\n",
       "      <td>CCU → IXR → BBI → BLR</td>\n",
       "      <td>7h 25m</td>\n",
       "      <td>2 stops</td>\n",
       "      <td>No info</td>\n",
       "      <td>7662</td>\n",
       "      <td>1</td>\n",
       "      <td>5</td>\n",
       "      <td>2019</td>\n",
       "      <td>5</td>\n",
       "      <td>50</td>\n",
       "      <td>13</td>\n",
       "      <td>15</td>\n",
       "      <td>7</td>\n",
       "      <td>25</td>\n",
       "    </tr>\n",
       "    <tr>\n",
       "      <th>2</th>\n",
       "      <td>Jet Airways</td>\n",
       "      <td>2019-06-09</td>\n",
       "      <td>Delhi</td>\n",
       "      <td>Cochin</td>\n",
       "      <td>DEL → LKO → BOM → COK</td>\n",
       "      <td>19h 0m</td>\n",
       "      <td>2 stops</td>\n",
       "      <td>No info</td>\n",
       "      <td>13882</td>\n",
       "      <td>9</td>\n",
       "      <td>6</td>\n",
       "      <td>2019</td>\n",
       "      <td>9</td>\n",
       "      <td>25</td>\n",
       "      <td>4</td>\n",
       "      <td>25</td>\n",
       "      <td>19</td>\n",
       "      <td>0</td>\n",
       "    </tr>\n",
       "  </tbody>\n",
       "</table>\n",
       "</div>"
      ],
      "text/plain": [
       "       Airline Date_of_Journey    Source Destination                  Route  \\\n",
       "0       IndiGo      2019-03-24  Banglore   New Delhi              BLR → DEL   \n",
       "1    Air India      2019-05-01   Kolkata    Banglore  CCU → IXR → BBI → BLR   \n",
       "2  Jet Airways      2019-06-09     Delhi      Cochin  DEL → LKO → BOM → COK   \n",
       "\n",
       "  Duration Total_Stops Additional_Info  Price  Journey_day  Journey_month  \\\n",
       "0   2h 50m    non-stop         No info   3897           24              3   \n",
       "1   7h 25m     2 stops         No info   7662            1              5   \n",
       "2   19h 0m     2 stops         No info  13882            9              6   \n",
       "\n",
       "   Journey_year  Dep_Time_hour  Dep_Time_min  Arrival_Time_hour  \\\n",
       "0          2019             22            20                  1   \n",
       "1          2019              5            50                 13   \n",
       "2          2019              9            25                  4   \n",
       "\n",
       "   Arrival_Time_min  Duration_hours  Duration_mins  \n",
       "0                10               2             50  \n",
       "1                15               7             25  \n",
       "2                25              19              0  "
      ]
     },
     "execution_count": 713,
     "metadata": {},
     "output_type": "execute_result"
    }
   ],
   "source": [
    "data.head(3)"
   ]
  },
  {
   "cell_type": "code",
   "execution_count": 714,
   "id": "931d34dc-bdc3-466a-917c-89ba8ce0eb59",
   "metadata": {},
   "outputs": [],
   "source": [
    "# 2h 50m = 2*60 + 50*1"
   ]
  },
  {
   "cell_type": "code",
   "execution_count": 715,
   "id": "2dad8fc4-8a01-4b17-931c-b1953b4e5d52",
   "metadata": {},
   "outputs": [
    {
     "data": {
      "text/plain": [
       "0        2*60+50*1\n",
       "1        7*60+25*1\n",
       "2        19*60+0*1\n",
       "3        5*60+25*1\n",
       "4        4*60+45*1\n",
       "           ...    \n",
       "10678    2*60+30*1\n",
       "10679    2*60+35*1\n",
       "10680     3*60+0*1\n",
       "10681    2*60+40*1\n",
       "10682    8*60+20*1\n",
       "Name: Duration, Length: 10682, dtype: object"
      ]
     },
     "execution_count": 715,
     "metadata": {},
     "output_type": "execute_result"
    }
   ],
   "source": [
    "data['Duration'].str.replace('h', \"*60\").str.replace(' ','+').str.replace('m',\"*1\")"
   ]
  },
  {
   "cell_type": "code",
   "execution_count": 716,
   "id": "03bd1dd0-1707-4c3c-a5be-6401acf7199e",
   "metadata": {},
   "outputs": [
    {
     "data": {
      "text/plain": [
       "0         170\n",
       "1         445\n",
       "2        1140\n",
       "3         325\n",
       "4         285\n",
       "         ... \n",
       "10678     150\n",
       "10679     155\n",
       "10680     180\n",
       "10681     160\n",
       "10682     500\n",
       "Name: Duration, Length: 10682, dtype: int64"
      ]
     },
     "execution_count": 716,
     "metadata": {},
     "output_type": "execute_result"
    }
   ],
   "source": [
    "data['Duration'].str.replace('h', \"*60\").str.replace(' ','+').str.replace('m',\"*1\").apply(eval)"
   ]
  },
  {
   "cell_type": "code",
   "execution_count": 717,
   "id": "7a9ec677-f521-4067-af1b-5d881c526365",
   "metadata": {},
   "outputs": [
    {
     "data": {
      "text/plain": [
       "0         170\n",
       "1         445\n",
       "2        1140\n",
       "3         325\n",
       "4         285\n",
       "         ... \n",
       "10678     150\n",
       "10679     155\n",
       "10680     180\n",
       "10681     160\n",
       "10682     500\n",
       "Name: Duration_total_mins, Length: 10682, dtype: int64"
      ]
     },
     "execution_count": 717,
     "metadata": {},
     "output_type": "execute_result"
    }
   ],
   "source": [
    " data['Duration_total_mins'] = data['Duration'].str.replace('h', \"*60\").str.replace(' ','+').str.replace('m',\"*1\").apply(eval)\n",
    "data['Duration_total_mins']"
   ]
  },
  {
   "cell_type": "code",
   "execution_count": null,
   "id": "49010b4a-c5ee-4eb6-ab90-472a2977972a",
   "metadata": {},
   "outputs": [],
   "source": []
  },
  {
   "cell_type": "code",
   "execution_count": 718,
   "id": "25653c92-a81d-45cd-ac45-0768e8851216",
   "metadata": {},
   "outputs": [],
   "source": [
    "# plotting"
   ]
  },
  {
   "cell_type": "code",
   "execution_count": 719,
   "id": "82b7bcdc-d0e4-4a25-82d5-d8a9c6000006",
   "metadata": {},
   "outputs": [
    {
     "data": {
      "text/plain": [
       "Index(['Airline', 'Date_of_Journey', 'Source', 'Destination', 'Route',\n",
       "       'Duration', 'Total_Stops', 'Additional_Info', 'Price', 'Journey_day',\n",
       "       'Journey_month', 'Journey_year', 'Dep_Time_hour', 'Dep_Time_min',\n",
       "       'Arrival_Time_hour', 'Arrival_Time_min', 'Duration_hours',\n",
       "       'Duration_mins', 'Duration_total_mins'],\n",
       "      dtype='object')"
      ]
     },
     "execution_count": 719,
     "metadata": {},
     "output_type": "execute_result"
    }
   ],
   "source": [
    "data.columns"
   ]
  },
  {
   "cell_type": "code",
   "execution_count": 720,
   "id": "2a387d0e-6715-4a8e-a984-ccb5cb7b72c8",
   "metadata": {},
   "outputs": [
    {
     "data": {
      "text/plain": [
       "<Axes: xlabel='Duration_total_mins', ylabel='Price'>"
      ]
     },
     "execution_count": 720,
     "metadata": {},
     "output_type": "execute_result"
    },
    {
     "data": {
      "image/png": "[encoded data removed]",
      "text/plain": [
       "<Figure size 640x480 with 1 Axes>"
      ]
     },
     "metadata": {},
     "output_type": "display_data"
    }
   ],
   "source": [
    "sns.scatterplot(x=\"Duration_total_mins\", y=\"Price\", data=data, color = \"red\")"
   ]
  },
  {
   "cell_type": "code",
   "execution_count": 721,
   "id": "daeefc46-7e1c-4ebd-a127-70dbd6b2a010",
   "metadata": {},
   "outputs": [
    {
     "data": {
      "text/plain": [
       "<Axes: xlabel='Duration_total_mins', ylabel='Price'>"
      ]
     },
     "execution_count": 721,
     "metadata": {},
     "output_type": "execute_result"
    },
    {
     "data": {
      "image/png": "[encoded data removed]",
      "text/plain": [
       "<Figure size 640x480 with 1 Axes>"
      ]
     },
     "metadata": {},
     "output_type": "display_data"
    }
   ],
   "source": [
    "sns.histplot(x=\"Duration_total_mins\", y=\"Price\", data=data, color = \"red\")"
   ]
  },
  {
   "cell_type": "code",
   "execution_count": null,
   "id": "e8c89a48-8060-4b66-8b9a-89fae3f683b6",
   "metadata": {},
   "outputs": [],
   "source": []
  },
  {
   "cell_type": "code",
   "execution_count": 722,
   "id": "528e4608-8728-4d83-852c-d3815763268b",
   "metadata": {},
   "outputs": [
    {
     "data": {
      "text/plain": [
       "<Axes: xlabel='Duration_total_mins', ylabel='Price'>"
      ]
     },
     "execution_count": 722,
     "metadata": {},
     "output_type": "execute_result"
    },
    {
     "data": {
      "image/png": "[encoded data removed]",
      "text/plain": [
       "<Figure size 640x480 with 1 Axes>"
      ]
     },
     "metadata": {},
     "output_type": "display_data"
    }
   ],
   "source": [
    "sns.scatterplot(x=\"Duration_total_mins\", y=\"Price\", data=data,hue=\"Total_Stops\")"
   ]
  },
  {
   "cell_type": "code",
   "execution_count": 723,
   "id": "037bc3f5-6d79-4581-9d1a-9a927640db8c",
   "metadata": {},
   "outputs": [
    {
     "data": {
      "text/plain": [
       "<seaborn.axisgrid.FacetGrid at 0x1befead4fd0>"
      ]
     },
     "execution_count": 723,
     "metadata": {},
     "output_type": "execute_result"
    },
    {
     "data": {
      "image/png": "[encoded data removed]",
      "text/plain": [
       "<Figure size 500x500 with 1 Axes>"
      ]
     },
     "metadata": {},
     "output_type": "display_data"
    }
   ],
   "source": [
    "sns.lmplot(x=\"Duration_total_mins\", y=\"Price\", data=data)"
   ]
  },
  {
   "cell_type": "code",
   "execution_count": 724,
   "id": "cffbc787-bd0c-4465-b8fb-6fb0d706ee8f",
   "metadata": {},
   "outputs": [],
   "source": [
    "# duration increase , prices increases"
   ]
  },
  {
   "cell_type": "markdown",
   "id": "027db028-6335-413e-acf2-e50470abf207",
   "metadata": {},
   "source": [
    "#Data Analysis"
   ]
  },
  {
   "cell_type": "code",
   "execution_count": 725,
   "id": "55fbf6ef-e57d-49b0-b8fb-9ae2a55738d8",
   "metadata": {},
   "outputs": [
    {
     "data": {
      "text/plain": [
       "0             IndiGo\n",
       "1          Air India\n",
       "2        Jet Airways\n",
       "3             IndiGo\n",
       "4             IndiGo\n",
       "            ...     \n",
       "10678       Air Asia\n",
       "10679      Air India\n",
       "10680    Jet Airways\n",
       "10681        Vistara\n",
       "10682      Air India\n",
       "Name: Airline, Length: 10682, dtype: object"
      ]
     },
     "execution_count": 725,
     "metadata": {},
     "output_type": "execute_result"
    }
   ],
   "source": [
    "data['Airline']"
   ]
  },
  {
   "cell_type": "code",
   "execution_count": 726,
   "id": "0e75b2d9-7970-4dc0-bcbd-9ff0389b1099",
   "metadata": {},
   "outputs": [
    {
     "data": {
      "text/plain": [
       "0        False\n",
       "1        False\n",
       "2         True\n",
       "3        False\n",
       "4        False\n",
       "         ...  \n",
       "10678    False\n",
       "10679    False\n",
       "10680     True\n",
       "10681    False\n",
       "10682    False\n",
       "Name: Airline, Length: 10682, dtype: bool"
      ]
     },
     "execution_count": 726,
     "metadata": {},
     "output_type": "execute_result"
    }
   ],
   "source": [
    "data['Airline']=='Jet Airways'\n",
    "# get if flight is of jet airways or not"
   ]
  },
  {
   "cell_type": "code",
   "execution_count": 727,
   "id": "ac41f5be-b30e-4d0f-9c0d-1378a947b100",
   "metadata": {},
   "outputs": [
    {
     "data": {
      "text/html": [
       "<div>\n",
       "<style scoped>\n",
       "    .dataframe tbody tr th:only-of-type {\n",
       "        vertical-align: middle;\n",
       "    }\n",
       "\n",
       "    .dataframe tbody tr th {\n",
       "        vertical-align: top;\n",
       "    }\n",
       "\n",
       "    .dataframe thead th {\n",
       "        text-align: right;\n",
       "    }\n",
       "</style>\n",
       "<table border=\"1\" class=\"dataframe\">\n",
       "  <thead>\n",
       "    <tr style=\"text-align: right;\">\n",
       "      <th></th>\n",
       "      <th>Airline</th>\n",
       "      <th>Date_of_Journey</th>\n",
       "      <th>Source</th>\n",
       "      <th>Destination</th>\n",
       "      <th>Route</th>\n",
       "      <th>Duration</th>\n",
       "      <th>Total_Stops</th>\n",
       "      <th>Additional_Info</th>\n",
       "      <th>Price</th>\n",
       "      <th>Journey_day</th>\n",
       "      <th>Journey_month</th>\n",
       "      <th>Journey_year</th>\n",
       "      <th>Dep_Time_hour</th>\n",
       "      <th>Dep_Time_min</th>\n",
       "      <th>Arrival_Time_hour</th>\n",
       "      <th>Arrival_Time_min</th>\n",
       "      <th>Duration_hours</th>\n",
       "      <th>Duration_mins</th>\n",
       "      <th>Duration_total_mins</th>\n",
       "    </tr>\n",
       "  </thead>\n",
       "  <tbody>\n",
       "    <tr>\n",
       "      <th>2</th>\n",
       "      <td>Jet Airways</td>\n",
       "      <td>2019-06-09</td>\n",
       "      <td>Delhi</td>\n",
       "      <td>Cochin</td>\n",
       "      <td>DEL → LKO → BOM → COK</td>\n",
       "      <td>19h 0m</td>\n",
       "      <td>2 stops</td>\n",
       "      <td>No info</td>\n",
       "      <td>13882</td>\n",
       "      <td>9</td>\n",
       "      <td>6</td>\n",
       "      <td>2019</td>\n",
       "      <td>9</td>\n",
       "      <td>25</td>\n",
       "      <td>4</td>\n",
       "      <td>25</td>\n",
       "      <td>19</td>\n",
       "      <td>0</td>\n",
       "      <td>1140</td>\n",
       "    </tr>\n",
       "    <tr>\n",
       "      <th>6</th>\n",
       "      <td>Jet Airways</td>\n",
       "      <td>2019-03-12</td>\n",
       "      <td>Banglore</td>\n",
       "      <td>New Delhi</td>\n",
       "      <td>BLR → BOM → DEL</td>\n",
       "      <td>15h 30m</td>\n",
       "      <td>1 stop</td>\n",
       "      <td>In-flight meal not included</td>\n",
       "      <td>11087</td>\n",
       "      <td>12</td>\n",
       "      <td>3</td>\n",
       "      <td>2019</td>\n",
       "      <td>18</td>\n",
       "      <td>55</td>\n",
       "      <td>10</td>\n",
       "      <td>25</td>\n",
       "      <td>15</td>\n",
       "      <td>30</td>\n",
       "      <td>930</td>\n",
       "    </tr>\n",
       "    <tr>\n",
       "      <th>7</th>\n",
       "      <td>Jet Airways</td>\n",
       "      <td>2019-03-01</td>\n",
       "      <td>Banglore</td>\n",
       "      <td>New Delhi</td>\n",
       "      <td>BLR → BOM → DEL</td>\n",
       "      <td>21h 5m</td>\n",
       "      <td>1 stop</td>\n",
       "      <td>No info</td>\n",
       "      <td>22270</td>\n",
       "      <td>1</td>\n",
       "      <td>3</td>\n",
       "      <td>2019</td>\n",
       "      <td>8</td>\n",
       "      <td>0</td>\n",
       "      <td>5</td>\n",
       "      <td>5</td>\n",
       "      <td>21</td>\n",
       "      <td>5</td>\n",
       "      <td>1265</td>\n",
       "    </tr>\n",
       "    <tr>\n",
       "      <th>8</th>\n",
       "      <td>Jet Airways</td>\n",
       "      <td>2019-03-12</td>\n",
       "      <td>Banglore</td>\n",
       "      <td>New Delhi</td>\n",
       "      <td>BLR → BOM → DEL</td>\n",
       "      <td>25h 30m</td>\n",
       "      <td>1 stop</td>\n",
       "      <td>In-flight meal not included</td>\n",
       "      <td>11087</td>\n",
       "      <td>12</td>\n",
       "      <td>3</td>\n",
       "      <td>2019</td>\n",
       "      <td>8</td>\n",
       "      <td>55</td>\n",
       "      <td>10</td>\n",
       "      <td>25</td>\n",
       "      <td>25</td>\n",
       "      <td>30</td>\n",
       "      <td>1530</td>\n",
       "    </tr>\n",
       "    <tr>\n",
       "      <th>13</th>\n",
       "      <td>Jet Airways</td>\n",
       "      <td>2019-05-09</td>\n",
       "      <td>Kolkata</td>\n",
       "      <td>Banglore</td>\n",
       "      <td>CCU → BOM → BLR</td>\n",
       "      <td>12h 10m</td>\n",
       "      <td>1 stop</td>\n",
       "      <td>In-flight meal not included</td>\n",
       "      <td>9663</td>\n",
       "      <td>9</td>\n",
       "      <td>5</td>\n",
       "      <td>2019</td>\n",
       "      <td>21</td>\n",
       "      <td>10</td>\n",
       "      <td>9</td>\n",
       "      <td>20</td>\n",
       "      <td>12</td>\n",
       "      <td>10</td>\n",
       "      <td>730</td>\n",
       "    </tr>\n",
       "    <tr>\n",
       "      <th>...</th>\n",
       "      <td>...</td>\n",
       "      <td>...</td>\n",
       "      <td>...</td>\n",
       "      <td>...</td>\n",
       "      <td>...</td>\n",
       "      <td>...</td>\n",
       "      <td>...</td>\n",
       "      <td>...</td>\n",
       "      <td>...</td>\n",
       "      <td>...</td>\n",
       "      <td>...</td>\n",
       "      <td>...</td>\n",
       "      <td>...</td>\n",
       "      <td>...</td>\n",
       "      <td>...</td>\n",
       "      <td>...</td>\n",
       "      <td>...</td>\n",
       "      <td>...</td>\n",
       "      <td>...</td>\n",
       "    </tr>\n",
       "    <tr>\n",
       "      <th>10668</th>\n",
       "      <td>Jet Airways</td>\n",
       "      <td>2019-05-09</td>\n",
       "      <td>Delhi</td>\n",
       "      <td>Cochin</td>\n",
       "      <td>DEL → JDH → BOM → COK</td>\n",
       "      <td>7h 20m</td>\n",
       "      <td>2 stops</td>\n",
       "      <td>No info</td>\n",
       "      <td>21219</td>\n",
       "      <td>9</td>\n",
       "      <td>5</td>\n",
       "      <td>2019</td>\n",
       "      <td>11</td>\n",
       "      <td>40</td>\n",
       "      <td>19</td>\n",
       "      <td>0</td>\n",
       "      <td>7</td>\n",
       "      <td>20</td>\n",
       "      <td>440</td>\n",
       "    </tr>\n",
       "    <tr>\n",
       "      <th>10672</th>\n",
       "      <td>Jet Airways</td>\n",
       "      <td>2019-06-27</td>\n",
       "      <td>Delhi</td>\n",
       "      <td>Cochin</td>\n",
       "      <td>DEL → AMD → BOM → COK</td>\n",
       "      <td>19h 55m</td>\n",
       "      <td>2 stops</td>\n",
       "      <td>In-flight meal not included</td>\n",
       "      <td>11150</td>\n",
       "      <td>27</td>\n",
       "      <td>6</td>\n",
       "      <td>2019</td>\n",
       "      <td>23</td>\n",
       "      <td>5</td>\n",
       "      <td>19</td>\n",
       "      <td>0</td>\n",
       "      <td>19</td>\n",
       "      <td>55</td>\n",
       "      <td>1195</td>\n",
       "    </tr>\n",
       "    <tr>\n",
       "      <th>10673</th>\n",
       "      <td>Jet Airways</td>\n",
       "      <td>2019-05-27</td>\n",
       "      <td>Delhi</td>\n",
       "      <td>Cochin</td>\n",
       "      <td>DEL → AMD → BOM → COK</td>\n",
       "      <td>15h 0m</td>\n",
       "      <td>2 stops</td>\n",
       "      <td>No info</td>\n",
       "      <td>16704</td>\n",
       "      <td>27</td>\n",
       "      <td>5</td>\n",
       "      <td>2019</td>\n",
       "      <td>13</td>\n",
       "      <td>25</td>\n",
       "      <td>4</td>\n",
       "      <td>25</td>\n",
       "      <td>15</td>\n",
       "      <td>0</td>\n",
       "      <td>900</td>\n",
       "    </tr>\n",
       "    <tr>\n",
       "      <th>10674</th>\n",
       "      <td>Jet Airways</td>\n",
       "      <td>2019-03-12</td>\n",
       "      <td>Banglore</td>\n",
       "      <td>New Delhi</td>\n",
       "      <td>BLR → BOM → DEL</td>\n",
       "      <td>24h 45m</td>\n",
       "      <td>1 stop</td>\n",
       "      <td>In-flight meal not included</td>\n",
       "      <td>11087</td>\n",
       "      <td>12</td>\n",
       "      <td>3</td>\n",
       "      <td>2019</td>\n",
       "      <td>20</td>\n",
       "      <td>35</td>\n",
       "      <td>21</td>\n",
       "      <td>20</td>\n",
       "      <td>24</td>\n",
       "      <td>45</td>\n",
       "      <td>1485</td>\n",
       "    </tr>\n",
       "    <tr>\n",
       "      <th>10680</th>\n",
       "      <td>Jet Airways</td>\n",
       "      <td>2019-04-27</td>\n",
       "      <td>Banglore</td>\n",
       "      <td>Delhi</td>\n",
       "      <td>BLR → DEL</td>\n",
       "      <td>3h 0m</td>\n",
       "      <td>non-stop</td>\n",
       "      <td>No info</td>\n",
       "      <td>7229</td>\n",
       "      <td>27</td>\n",
       "      <td>4</td>\n",
       "      <td>2019</td>\n",
       "      <td>8</td>\n",
       "      <td>20</td>\n",
       "      <td>11</td>\n",
       "      <td>20</td>\n",
       "      <td>3</td>\n",
       "      <td>0</td>\n",
       "      <td>180</td>\n",
       "    </tr>\n",
       "  </tbody>\n",
       "</table>\n",
       "<p>3849 rows × 19 columns</p>\n",
       "</div>"
      ],
      "text/plain": [
       "           Airline Date_of_Journey    Source Destination  \\\n",
       "2      Jet Airways      2019-06-09     Delhi      Cochin   \n",
       "6      Jet Airways      2019-03-12  Banglore   New Delhi   \n",
       "7      Jet Airways      2019-03-01  Banglore   New Delhi   \n",
       "8      Jet Airways      2019-03-12  Banglore   New Delhi   \n",
       "13     Jet Airways      2019-05-09   Kolkata    Banglore   \n",
       "...            ...             ...       ...         ...   \n",
       "10668  Jet Airways      2019-05-09     Delhi      Cochin   \n",
       "10672  Jet Airways      2019-06-27     Delhi      Cochin   \n",
       "10673  Jet Airways      2019-05-27     Delhi      Cochin   \n",
       "10674  Jet Airways      2019-03-12  Banglore   New Delhi   \n",
       "10680  Jet Airways      2019-04-27  Banglore       Delhi   \n",
       "\n",
       "                       Route Duration Total_Stops  \\\n",
       "2      DEL → LKO → BOM → COK   19h 0m     2 stops   \n",
       "6            BLR → BOM → DEL  15h 30m      1 stop   \n",
       "7            BLR → BOM → DEL   21h 5m      1 stop   \n",
       "8            BLR → BOM → DEL  25h 30m      1 stop   \n",
       "13           CCU → BOM → BLR  12h 10m      1 stop   \n",
       "...                      ...      ...         ...   \n",
       "10668  DEL → JDH → BOM → COK   7h 20m     2 stops   \n",
       "10672  DEL → AMD → BOM → COK  19h 55m     2 stops   \n",
       "10673  DEL → AMD → BOM → COK   15h 0m     2 stops   \n",
       "10674        BLR → BOM → DEL  24h 45m      1 stop   \n",
       "10680              BLR → DEL    3h 0m    non-stop   \n",
       "\n",
       "                   Additional_Info  Price  Journey_day  Journey_month  \\\n",
       "2                          No info  13882            9              6   \n",
       "6      In-flight meal not included  11087           12              3   \n",
       "7                          No info  22270            1              3   \n",
       "8      In-flight meal not included  11087           12              3   \n",
       "13     In-flight meal not included   9663            9              5   \n",
       "...                            ...    ...          ...            ...   \n",
       "10668                      No info  21219            9              5   \n",
       "10672  In-flight meal not included  11150           27              6   \n",
       "10673                      No info  16704           27              5   \n",
       "10674  In-flight meal not included  11087           12              3   \n",
       "10680                      No info   7229           27              4   \n",
       "\n",
       "       Journey_year  Dep_Time_hour  Dep_Time_min  Arrival_Time_hour  \\\n",
       "2              2019              9            25                  4   \n",
       "6              2019             18            55                 10   \n",
       "7              2019              8             0                  5   \n",
       "8              2019              8            55                 10   \n",
       "13             2019             21            10                  9   \n",
       "...             ...            ...           ...                ...   \n",
       "10668          2019             11            40                 19   \n",
       "10672          2019             23             5                 19   \n",
       "10673          2019             13            25                  4   \n",
       "10674          2019             20            35                 21   \n",
       "10680          2019              8            20                 11   \n",
       "\n",
       "       Arrival_Time_min  Duration_hours  Duration_mins  Duration_total_mins  \n",
       "2                    25              19              0                 1140  \n",
       "6                    25              15             30                  930  \n",
       "7                     5              21              5                 1265  \n",
       "8                    25              25             30                 1530  \n",
       "13                   20              12             10                  730  \n",
       "...                 ...             ...            ...                  ...  \n",
       "10668                 0               7             20                  440  \n",
       "10672                 0              19             55                 1195  \n",
       "10673                25              15              0                  900  \n",
       "10674                20              24             45                 1485  \n",
       "10680                20               3              0                  180  \n",
       "\n",
       "[3849 rows x 19 columns]"
      ]
     },
     "execution_count": 727,
     "metadata": {},
     "output_type": "execute_result"
    }
   ],
   "source": [
    "data[data['Airline']=='Jet Airways']\n",
    "# get only flights of jet airways"
   ]
  },
  {
   "cell_type": "code",
   "execution_count": 728,
   "id": "1673a2aa-9416-4f7b-9013-6139d10eafd4",
   "metadata": {},
   "outputs": [
    {
     "data": {
      "text/html": [
       "<div>\n",
       "<style scoped>\n",
       "    .dataframe tbody tr th:only-of-type {\n",
       "        vertical-align: middle;\n",
       "    }\n",
       "\n",
       "    .dataframe tbody tr th {\n",
       "        vertical-align: top;\n",
       "    }\n",
       "\n",
       "    .dataframe thead th {\n",
       "        text-align: right;\n",
       "    }\n",
       "</style>\n",
       "<table border=\"1\" class=\"dataframe\">\n",
       "  <thead>\n",
       "    <tr style=\"text-align: right;\">\n",
       "      <th></th>\n",
       "      <th>Airline</th>\n",
       "      <th>Date_of_Journey</th>\n",
       "      <th>Source</th>\n",
       "      <th>Destination</th>\n",
       "      <th>Duration</th>\n",
       "      <th>Total_Stops</th>\n",
       "      <th>Additional_Info</th>\n",
       "      <th>Price</th>\n",
       "      <th>Journey_day</th>\n",
       "      <th>Journey_month</th>\n",
       "      <th>Journey_year</th>\n",
       "      <th>Dep_Time_hour</th>\n",
       "      <th>Dep_Time_min</th>\n",
       "      <th>Arrival_Time_hour</th>\n",
       "      <th>Arrival_Time_min</th>\n",
       "      <th>Duration_hours</th>\n",
       "      <th>Duration_mins</th>\n",
       "      <th>Duration_total_mins</th>\n",
       "    </tr>\n",
       "    <tr>\n",
       "      <th>Route</th>\n",
       "      <th></th>\n",
       "      <th></th>\n",
       "      <th></th>\n",
       "      <th></th>\n",
       "      <th></th>\n",
       "      <th></th>\n",
       "      <th></th>\n",
       "      <th></th>\n",
       "      <th></th>\n",
       "      <th></th>\n",
       "      <th></th>\n",
       "      <th></th>\n",
       "      <th></th>\n",
       "      <th></th>\n",
       "      <th></th>\n",
       "      <th></th>\n",
       "      <th></th>\n",
       "      <th></th>\n",
       "    </tr>\n",
       "  </thead>\n",
       "  <tbody>\n",
       "    <tr>\n",
       "      <th>BLR → BDQ → DEL</th>\n",
       "      <td>8</td>\n",
       "      <td>8</td>\n",
       "      <td>8</td>\n",
       "      <td>8</td>\n",
       "      <td>8</td>\n",
       "      <td>8</td>\n",
       "      <td>8</td>\n",
       "      <td>8</td>\n",
       "      <td>8</td>\n",
       "      <td>8</td>\n",
       "      <td>8</td>\n",
       "      <td>8</td>\n",
       "      <td>8</td>\n",
       "      <td>8</td>\n",
       "      <td>8</td>\n",
       "      <td>8</td>\n",
       "      <td>8</td>\n",
       "      <td>8</td>\n",
       "    </tr>\n",
       "    <tr>\n",
       "      <th>BLR → BOM → DEL</th>\n",
       "      <td>385</td>\n",
       "      <td>385</td>\n",
       "      <td>385</td>\n",
       "      <td>385</td>\n",
       "      <td>385</td>\n",
       "      <td>385</td>\n",
       "      <td>385</td>\n",
       "      <td>385</td>\n",
       "      <td>385</td>\n",
       "      <td>385</td>\n",
       "      <td>385</td>\n",
       "      <td>385</td>\n",
       "      <td>385</td>\n",
       "      <td>385</td>\n",
       "      <td>385</td>\n",
       "      <td>385</td>\n",
       "      <td>385</td>\n",
       "      <td>385</td>\n",
       "    </tr>\n",
       "    <tr>\n",
       "      <th>BLR → BOM → JDH → DEL</th>\n",
       "      <td>3</td>\n",
       "      <td>3</td>\n",
       "      <td>3</td>\n",
       "      <td>3</td>\n",
       "      <td>3</td>\n",
       "      <td>3</td>\n",
       "      <td>3</td>\n",
       "      <td>3</td>\n",
       "      <td>3</td>\n",
       "      <td>3</td>\n",
       "      <td>3</td>\n",
       "      <td>3</td>\n",
       "      <td>3</td>\n",
       "      <td>3</td>\n",
       "      <td>3</td>\n",
       "      <td>3</td>\n",
       "      <td>3</td>\n",
       "      <td>3</td>\n",
       "    </tr>\n",
       "    <tr>\n",
       "      <th>BLR → DEL</th>\n",
       "      <td>382</td>\n",
       "      <td>382</td>\n",
       "      <td>382</td>\n",
       "      <td>382</td>\n",
       "      <td>382</td>\n",
       "      <td>382</td>\n",
       "      <td>382</td>\n",
       "      <td>382</td>\n",
       "      <td>382</td>\n",
       "      <td>382</td>\n",
       "      <td>382</td>\n",
       "      <td>382</td>\n",
       "      <td>382</td>\n",
       "      <td>382</td>\n",
       "      <td>382</td>\n",
       "      <td>382</td>\n",
       "      <td>382</td>\n",
       "      <td>382</td>\n",
       "    </tr>\n",
       "    <tr>\n",
       "      <th>BLR → MAA → DEL</th>\n",
       "      <td>10</td>\n",
       "      <td>10</td>\n",
       "      <td>10</td>\n",
       "      <td>10</td>\n",
       "      <td>10</td>\n",
       "      <td>10</td>\n",
       "      <td>10</td>\n",
       "      <td>10</td>\n",
       "      <td>10</td>\n",
       "      <td>10</td>\n",
       "      <td>10</td>\n",
       "      <td>10</td>\n",
       "      <td>10</td>\n",
       "      <td>10</td>\n",
       "      <td>10</td>\n",
       "      <td>10</td>\n",
       "      <td>10</td>\n",
       "      <td>10</td>\n",
       "    </tr>\n",
       "    <tr>\n",
       "      <th>BOM → BDQ → DEL → HYD</th>\n",
       "      <td>2</td>\n",
       "      <td>2</td>\n",
       "      <td>2</td>\n",
       "      <td>2</td>\n",
       "      <td>2</td>\n",
       "      <td>2</td>\n",
       "      <td>2</td>\n",
       "      <td>2</td>\n",
       "      <td>2</td>\n",
       "      <td>2</td>\n",
       "      <td>2</td>\n",
       "      <td>2</td>\n",
       "      <td>2</td>\n",
       "      <td>2</td>\n",
       "      <td>2</td>\n",
       "      <td>2</td>\n",
       "      <td>2</td>\n",
       "      <td>2</td>\n",
       "    </tr>\n",
       "    <tr>\n",
       "      <th>BOM → DED → DEL → HYD</th>\n",
       "      <td>1</td>\n",
       "      <td>1</td>\n",
       "      <td>1</td>\n",
       "      <td>1</td>\n",
       "      <td>1</td>\n",
       "      <td>1</td>\n",
       "      <td>1</td>\n",
       "      <td>1</td>\n",
       "      <td>1</td>\n",
       "      <td>1</td>\n",
       "      <td>1</td>\n",
       "      <td>1</td>\n",
       "      <td>1</td>\n",
       "      <td>1</td>\n",
       "      <td>1</td>\n",
       "      <td>1</td>\n",
       "      <td>1</td>\n",
       "      <td>1</td>\n",
       "    </tr>\n",
       "    <tr>\n",
       "      <th>BOM → DEL → HYD</th>\n",
       "      <td>5</td>\n",
       "      <td>5</td>\n",
       "      <td>5</td>\n",
       "      <td>5</td>\n",
       "      <td>5</td>\n",
       "      <td>5</td>\n",
       "      <td>5</td>\n",
       "      <td>5</td>\n",
       "      <td>5</td>\n",
       "      <td>5</td>\n",
       "      <td>5</td>\n",
       "      <td>5</td>\n",
       "      <td>5</td>\n",
       "      <td>5</td>\n",
       "      <td>5</td>\n",
       "      <td>5</td>\n",
       "      <td>5</td>\n",
       "      <td>5</td>\n",
       "    </tr>\n",
       "    <tr>\n",
       "      <th>BOM → HYD</th>\n",
       "      <td>207</td>\n",
       "      <td>207</td>\n",
       "      <td>207</td>\n",
       "      <td>207</td>\n",
       "      <td>207</td>\n",
       "      <td>207</td>\n",
       "      <td>207</td>\n",
       "      <td>207</td>\n",
       "      <td>207</td>\n",
       "      <td>207</td>\n",
       "      <td>207</td>\n",
       "      <td>207</td>\n",
       "      <td>207</td>\n",
       "      <td>207</td>\n",
       "      <td>207</td>\n",
       "      <td>207</td>\n",
       "      <td>207</td>\n",
       "      <td>207</td>\n",
       "    </tr>\n",
       "    <tr>\n",
       "      <th>BOM → IDR → DEL → HYD</th>\n",
       "      <td>1</td>\n",
       "      <td>1</td>\n",
       "      <td>1</td>\n",
       "      <td>1</td>\n",
       "      <td>1</td>\n",
       "      <td>1</td>\n",
       "      <td>1</td>\n",
       "      <td>1</td>\n",
       "      <td>1</td>\n",
       "      <td>1</td>\n",
       "      <td>1</td>\n",
       "      <td>1</td>\n",
       "      <td>1</td>\n",
       "      <td>1</td>\n",
       "      <td>1</td>\n",
       "      <td>1</td>\n",
       "      <td>1</td>\n",
       "      <td>1</td>\n",
       "    </tr>\n",
       "    <tr>\n",
       "      <th>BOM → JDH → DEL → HYD</th>\n",
       "      <td>1</td>\n",
       "      <td>1</td>\n",
       "      <td>1</td>\n",
       "      <td>1</td>\n",
       "      <td>1</td>\n",
       "      <td>1</td>\n",
       "      <td>1</td>\n",
       "      <td>1</td>\n",
       "      <td>1</td>\n",
       "      <td>1</td>\n",
       "      <td>1</td>\n",
       "      <td>1</td>\n",
       "      <td>1</td>\n",
       "      <td>1</td>\n",
       "      <td>1</td>\n",
       "      <td>1</td>\n",
       "      <td>1</td>\n",
       "      <td>1</td>\n",
       "    </tr>\n",
       "    <tr>\n",
       "      <th>BOM → UDR → DEL → HYD</th>\n",
       "      <td>1</td>\n",
       "      <td>1</td>\n",
       "      <td>1</td>\n",
       "      <td>1</td>\n",
       "      <td>1</td>\n",
       "      <td>1</td>\n",
       "      <td>1</td>\n",
       "      <td>1</td>\n",
       "      <td>1</td>\n",
       "      <td>1</td>\n",
       "      <td>1</td>\n",
       "      <td>1</td>\n",
       "      <td>1</td>\n",
       "      <td>1</td>\n",
       "      <td>1</td>\n",
       "      <td>1</td>\n",
       "      <td>1</td>\n",
       "      <td>1</td>\n",
       "    </tr>\n",
       "    <tr>\n",
       "      <th>BOM → VNS → DEL → HYD</th>\n",
       "      <td>1</td>\n",
       "      <td>1</td>\n",
       "      <td>1</td>\n",
       "      <td>1</td>\n",
       "      <td>1</td>\n",
       "      <td>1</td>\n",
       "      <td>1</td>\n",
       "      <td>1</td>\n",
       "      <td>1</td>\n",
       "      <td>1</td>\n",
       "      <td>1</td>\n",
       "      <td>1</td>\n",
       "      <td>1</td>\n",
       "      <td>1</td>\n",
       "      <td>1</td>\n",
       "      <td>1</td>\n",
       "      <td>1</td>\n",
       "      <td>1</td>\n",
       "    </tr>\n",
       "    <tr>\n",
       "      <th>CCU → BOM → BLR</th>\n",
       "      <td>930</td>\n",
       "      <td>930</td>\n",
       "      <td>930</td>\n",
       "      <td>930</td>\n",
       "      <td>930</td>\n",
       "      <td>930</td>\n",
       "      <td>930</td>\n",
       "      <td>930</td>\n",
       "      <td>930</td>\n",
       "      <td>930</td>\n",
       "      <td>930</td>\n",
       "      <td>930</td>\n",
       "      <td>930</td>\n",
       "      <td>930</td>\n",
       "      <td>930</td>\n",
       "      <td>930</td>\n",
       "      <td>930</td>\n",
       "      <td>930</td>\n",
       "    </tr>\n",
       "    <tr>\n",
       "      <th>CCU → BOM → PNQ → BLR</th>\n",
       "      <td>4</td>\n",
       "      <td>4</td>\n",
       "      <td>4</td>\n",
       "      <td>4</td>\n",
       "      <td>4</td>\n",
       "      <td>4</td>\n",
       "      <td>4</td>\n",
       "      <td>4</td>\n",
       "      <td>4</td>\n",
       "      <td>4</td>\n",
       "      <td>4</td>\n",
       "      <td>4</td>\n",
       "      <td>4</td>\n",
       "      <td>4</td>\n",
       "      <td>4</td>\n",
       "      <td>4</td>\n",
       "      <td>4</td>\n",
       "      <td>4</td>\n",
       "    </tr>\n",
       "    <tr>\n",
       "      <th>CCU → DEL → BLR</th>\n",
       "      <td>300</td>\n",
       "      <td>300</td>\n",
       "      <td>300</td>\n",
       "      <td>300</td>\n",
       "      <td>300</td>\n",
       "      <td>300</td>\n",
       "      <td>300</td>\n",
       "      <td>300</td>\n",
       "      <td>300</td>\n",
       "      <td>300</td>\n",
       "      <td>300</td>\n",
       "      <td>300</td>\n",
       "      <td>300</td>\n",
       "      <td>300</td>\n",
       "      <td>300</td>\n",
       "      <td>300</td>\n",
       "      <td>300</td>\n",
       "      <td>300</td>\n",
       "    </tr>\n",
       "    <tr>\n",
       "      <th>CCU → GAU → BLR</th>\n",
       "      <td>22</td>\n",
       "      <td>22</td>\n",
       "      <td>22</td>\n",
       "      <td>22</td>\n",
       "      <td>22</td>\n",
       "      <td>22</td>\n",
       "      <td>22</td>\n",
       "      <td>22</td>\n",
       "      <td>22</td>\n",
       "      <td>22</td>\n",
       "      <td>22</td>\n",
       "      <td>22</td>\n",
       "      <td>22</td>\n",
       "      <td>22</td>\n",
       "      <td>22</td>\n",
       "      <td>22</td>\n",
       "      <td>22</td>\n",
       "      <td>22</td>\n",
       "    </tr>\n",
       "    <tr>\n",
       "      <th>DEL → AMD → BOM → COK</th>\n",
       "      <td>141</td>\n",
       "      <td>141</td>\n",
       "      <td>141</td>\n",
       "      <td>141</td>\n",
       "      <td>141</td>\n",
       "      <td>141</td>\n",
       "      <td>141</td>\n",
       "      <td>141</td>\n",
       "      <td>141</td>\n",
       "      <td>141</td>\n",
       "      <td>141</td>\n",
       "      <td>141</td>\n",
       "      <td>141</td>\n",
       "      <td>141</td>\n",
       "      <td>141</td>\n",
       "      <td>141</td>\n",
       "      <td>141</td>\n",
       "      <td>141</td>\n",
       "    </tr>\n",
       "    <tr>\n",
       "      <th>DEL → ATQ → BOM → COK</th>\n",
       "      <td>38</td>\n",
       "      <td>38</td>\n",
       "      <td>38</td>\n",
       "      <td>38</td>\n",
       "      <td>38</td>\n",
       "      <td>38</td>\n",
       "      <td>38</td>\n",
       "      <td>38</td>\n",
       "      <td>38</td>\n",
       "      <td>38</td>\n",
       "      <td>38</td>\n",
       "      <td>38</td>\n",
       "      <td>38</td>\n",
       "      <td>38</td>\n",
       "      <td>38</td>\n",
       "      <td>38</td>\n",
       "      <td>38</td>\n",
       "      <td>38</td>\n",
       "    </tr>\n",
       "    <tr>\n",
       "      <th>DEL → BDQ → BOM → COK</th>\n",
       "      <td>28</td>\n",
       "      <td>28</td>\n",
       "      <td>28</td>\n",
       "      <td>28</td>\n",
       "      <td>28</td>\n",
       "      <td>28</td>\n",
       "      <td>28</td>\n",
       "      <td>28</td>\n",
       "      <td>28</td>\n",
       "      <td>28</td>\n",
       "      <td>28</td>\n",
       "      <td>28</td>\n",
       "      <td>28</td>\n",
       "      <td>28</td>\n",
       "      <td>28</td>\n",
       "      <td>28</td>\n",
       "      <td>28</td>\n",
       "      <td>28</td>\n",
       "    </tr>\n",
       "    <tr>\n",
       "      <th>DEL → BHO → BOM → COK</th>\n",
       "      <td>29</td>\n",
       "      <td>29</td>\n",
       "      <td>29</td>\n",
       "      <td>29</td>\n",
       "      <td>29</td>\n",
       "      <td>29</td>\n",
       "      <td>29</td>\n",
       "      <td>29</td>\n",
       "      <td>29</td>\n",
       "      <td>29</td>\n",
       "      <td>29</td>\n",
       "      <td>29</td>\n",
       "      <td>29</td>\n",
       "      <td>29</td>\n",
       "      <td>29</td>\n",
       "      <td>29</td>\n",
       "      <td>29</td>\n",
       "      <td>29</td>\n",
       "    </tr>\n",
       "    <tr>\n",
       "      <th>DEL → BOM → COK</th>\n",
       "      <td>875</td>\n",
       "      <td>875</td>\n",
       "      <td>875</td>\n",
       "      <td>875</td>\n",
       "      <td>875</td>\n",
       "      <td>875</td>\n",
       "      <td>875</td>\n",
       "      <td>875</td>\n",
       "      <td>875</td>\n",
       "      <td>875</td>\n",
       "      <td>875</td>\n",
       "      <td>875</td>\n",
       "      <td>875</td>\n",
       "      <td>875</td>\n",
       "      <td>875</td>\n",
       "      <td>875</td>\n",
       "      <td>875</td>\n",
       "      <td>875</td>\n",
       "    </tr>\n",
       "    <tr>\n",
       "      <th>DEL → CCU → BOM → COK</th>\n",
       "      <td>1</td>\n",
       "      <td>1</td>\n",
       "      <td>1</td>\n",
       "      <td>1</td>\n",
       "      <td>1</td>\n",
       "      <td>1</td>\n",
       "      <td>1</td>\n",
       "      <td>1</td>\n",
       "      <td>1</td>\n",
       "      <td>1</td>\n",
       "      <td>1</td>\n",
       "      <td>1</td>\n",
       "      <td>1</td>\n",
       "      <td>1</td>\n",
       "      <td>1</td>\n",
       "      <td>1</td>\n",
       "      <td>1</td>\n",
       "      <td>1</td>\n",
       "    </tr>\n",
       "    <tr>\n",
       "      <th>DEL → COK</th>\n",
       "      <td>34</td>\n",
       "      <td>34</td>\n",
       "      <td>34</td>\n",
       "      <td>34</td>\n",
       "      <td>34</td>\n",
       "      <td>34</td>\n",
       "      <td>34</td>\n",
       "      <td>34</td>\n",
       "      <td>34</td>\n",
       "      <td>34</td>\n",
       "      <td>34</td>\n",
       "      <td>34</td>\n",
       "      <td>34</td>\n",
       "      <td>34</td>\n",
       "      <td>34</td>\n",
       "      <td>34</td>\n",
       "      <td>34</td>\n",
       "      <td>34</td>\n",
       "    </tr>\n",
       "    <tr>\n",
       "      <th>DEL → DED → BOM → COK</th>\n",
       "      <td>2</td>\n",
       "      <td>2</td>\n",
       "      <td>2</td>\n",
       "      <td>2</td>\n",
       "      <td>2</td>\n",
       "      <td>2</td>\n",
       "      <td>2</td>\n",
       "      <td>2</td>\n",
       "      <td>2</td>\n",
       "      <td>2</td>\n",
       "      <td>2</td>\n",
       "      <td>2</td>\n",
       "      <td>2</td>\n",
       "      <td>2</td>\n",
       "      <td>2</td>\n",
       "      <td>2</td>\n",
       "      <td>2</td>\n",
       "      <td>2</td>\n",
       "    </tr>\n",
       "    <tr>\n",
       "      <th>DEL → IDR → BOM → COK</th>\n",
       "      <td>86</td>\n",
       "      <td>86</td>\n",
       "      <td>86</td>\n",
       "      <td>86</td>\n",
       "      <td>86</td>\n",
       "      <td>86</td>\n",
       "      <td>86</td>\n",
       "      <td>86</td>\n",
       "      <td>86</td>\n",
       "      <td>86</td>\n",
       "      <td>86</td>\n",
       "      <td>86</td>\n",
       "      <td>86</td>\n",
       "      <td>86</td>\n",
       "      <td>86</td>\n",
       "      <td>86</td>\n",
       "      <td>86</td>\n",
       "      <td>86</td>\n",
       "    </tr>\n",
       "    <tr>\n",
       "      <th>DEL → IXC → BOM → COK</th>\n",
       "      <td>13</td>\n",
       "      <td>13</td>\n",
       "      <td>13</td>\n",
       "      <td>13</td>\n",
       "      <td>13</td>\n",
       "      <td>13</td>\n",
       "      <td>13</td>\n",
       "      <td>13</td>\n",
       "      <td>13</td>\n",
       "      <td>13</td>\n",
       "      <td>13</td>\n",
       "      <td>13</td>\n",
       "      <td>13</td>\n",
       "      <td>13</td>\n",
       "      <td>13</td>\n",
       "      <td>13</td>\n",
       "      <td>13</td>\n",
       "      <td>13</td>\n",
       "    </tr>\n",
       "    <tr>\n",
       "      <th>DEL → JAI → BOM → COK</th>\n",
       "      <td>207</td>\n",
       "      <td>207</td>\n",
       "      <td>207</td>\n",
       "      <td>207</td>\n",
       "      <td>207</td>\n",
       "      <td>207</td>\n",
       "      <td>207</td>\n",
       "      <td>207</td>\n",
       "      <td>207</td>\n",
       "      <td>207</td>\n",
       "      <td>207</td>\n",
       "      <td>207</td>\n",
       "      <td>207</td>\n",
       "      <td>207</td>\n",
       "      <td>207</td>\n",
       "      <td>207</td>\n",
       "      <td>207</td>\n",
       "      <td>207</td>\n",
       "    </tr>\n",
       "    <tr>\n",
       "      <th>DEL → JDH → BOM → COK</th>\n",
       "      <td>23</td>\n",
       "      <td>23</td>\n",
       "      <td>23</td>\n",
       "      <td>23</td>\n",
       "      <td>23</td>\n",
       "      <td>23</td>\n",
       "      <td>23</td>\n",
       "      <td>23</td>\n",
       "      <td>23</td>\n",
       "      <td>23</td>\n",
       "      <td>23</td>\n",
       "      <td>23</td>\n",
       "      <td>23</td>\n",
       "      <td>23</td>\n",
       "      <td>23</td>\n",
       "      <td>23</td>\n",
       "      <td>23</td>\n",
       "      <td>23</td>\n",
       "    </tr>\n",
       "    <tr>\n",
       "      <th>DEL → LKO → BOM → COK</th>\n",
       "      <td>25</td>\n",
       "      <td>25</td>\n",
       "      <td>25</td>\n",
       "      <td>25</td>\n",
       "      <td>25</td>\n",
       "      <td>25</td>\n",
       "      <td>25</td>\n",
       "      <td>25</td>\n",
       "      <td>25</td>\n",
       "      <td>25</td>\n",
       "      <td>25</td>\n",
       "      <td>25</td>\n",
       "      <td>25</td>\n",
       "      <td>25</td>\n",
       "      <td>25</td>\n",
       "      <td>25</td>\n",
       "      <td>25</td>\n",
       "      <td>25</td>\n",
       "    </tr>\n",
       "    <tr>\n",
       "      <th>DEL → MAA → BOM → COK</th>\n",
       "      <td>16</td>\n",
       "      <td>16</td>\n",
       "      <td>16</td>\n",
       "      <td>16</td>\n",
       "      <td>16</td>\n",
       "      <td>16</td>\n",
       "      <td>16</td>\n",
       "      <td>16</td>\n",
       "      <td>16</td>\n",
       "      <td>16</td>\n",
       "      <td>16</td>\n",
       "      <td>16</td>\n",
       "      <td>16</td>\n",
       "      <td>16</td>\n",
       "      <td>16</td>\n",
       "      <td>16</td>\n",
       "      <td>16</td>\n",
       "      <td>16</td>\n",
       "    </tr>\n",
       "    <tr>\n",
       "      <th>DEL → NAG → BOM → COK</th>\n",
       "      <td>61</td>\n",
       "      <td>61</td>\n",
       "      <td>61</td>\n",
       "      <td>61</td>\n",
       "      <td>61</td>\n",
       "      <td>61</td>\n",
       "      <td>61</td>\n",
       "      <td>61</td>\n",
       "      <td>61</td>\n",
       "      <td>61</td>\n",
       "      <td>61</td>\n",
       "      <td>61</td>\n",
       "      <td>61</td>\n",
       "      <td>61</td>\n",
       "      <td>61</td>\n",
       "      <td>61</td>\n",
       "      <td>61</td>\n",
       "      <td>61</td>\n",
       "    </tr>\n",
       "    <tr>\n",
       "      <th>DEL → UDR → BOM → COK</th>\n",
       "      <td>7</td>\n",
       "      <td>7</td>\n",
       "      <td>7</td>\n",
       "      <td>7</td>\n",
       "      <td>7</td>\n",
       "      <td>7</td>\n",
       "      <td>7</td>\n",
       "      <td>7</td>\n",
       "      <td>7</td>\n",
       "      <td>7</td>\n",
       "      <td>7</td>\n",
       "      <td>7</td>\n",
       "      <td>7</td>\n",
       "      <td>7</td>\n",
       "      <td>7</td>\n",
       "      <td>7</td>\n",
       "      <td>7</td>\n",
       "      <td>7</td>\n",
       "    </tr>\n",
       "  </tbody>\n",
       "</table>\n",
       "</div>"
      ],
      "text/plain": [
       "                       Airline  Date_of_Journey  Source  Destination  \\\n",
       "Route                                                                  \n",
       "BLR → BDQ → DEL              8                8       8            8   \n",
       "BLR → BOM → DEL            385              385     385          385   \n",
       "BLR → BOM → JDH → DEL        3                3       3            3   \n",
       "BLR → DEL                  382              382     382          382   \n",
       "BLR → MAA → DEL             10               10      10           10   \n",
       "BOM → BDQ → DEL → HYD        2                2       2            2   \n",
       "BOM → DED → DEL → HYD        1                1       1            1   \n",
       "BOM → DEL → HYD              5                5       5            5   \n",
       "BOM → HYD                  207              207     207          207   \n",
       "BOM → IDR → DEL → HYD        1                1       1            1   \n",
       "BOM → JDH → DEL → HYD        1                1       1            1   \n",
       "BOM → UDR → DEL → HYD        1                1       1            1   \n",
       "BOM → VNS → DEL → HYD        1                1       1            1   \n",
       "CCU → BOM → BLR            930              930     930          930   \n",
       "CCU → BOM → PNQ → BLR        4                4       4            4   \n",
       "CCU → DEL → BLR            300              300     300          300   \n",
       "CCU → GAU → BLR             22               22      22           22   \n",
       "DEL → AMD → BOM → COK      141              141     141          141   \n",
       "DEL → ATQ → BOM → COK       38               38      38           38   \n",
       "DEL → BDQ → BOM → COK       28               28      28           28   \n",
       "DEL → BHO → BOM → COK       29               29      29           29   \n",
       "DEL → BOM → COK            875              875     875          875   \n",
       "DEL → CCU → BOM → COK        1                1       1            1   \n",
       "DEL → COK                   34               34      34           34   \n",
       "DEL → DED → BOM → COK        2                2       2            2   \n",
       "DEL → IDR → BOM → COK       86               86      86           86   \n",
       "DEL → IXC → BOM → COK       13               13      13           13   \n",
       "DEL → JAI → BOM → COK      207              207     207          207   \n",
       "DEL → JDH → BOM → COK       23               23      23           23   \n",
       "DEL → LKO → BOM → COK       25               25      25           25   \n",
       "DEL → MAA → BOM → COK       16               16      16           16   \n",
       "DEL → NAG → BOM → COK       61               61      61           61   \n",
       "DEL → UDR → BOM → COK        7                7       7            7   \n",
       "\n",
       "                       Duration  Total_Stops  Additional_Info  Price  \\\n",
       "Route                                                                  \n",
       "BLR → BDQ → DEL               8            8                8      8   \n",
       "BLR → BOM → DEL             385          385              385    385   \n",
       "BLR → BOM → JDH → DEL         3            3                3      3   \n",
       "BLR → DEL                   382          382              382    382   \n",
       "BLR → MAA → DEL              10           10               10     10   \n",
       "BOM → BDQ → DEL → HYD         2            2                2      2   \n",
       "BOM → DED → DEL → HYD         1            1                1      1   \n",
       "BOM → DEL → HYD               5            5                5      5   \n",
       "BOM → HYD                   207          207              207    207   \n",
       "BOM → IDR → DEL → HYD         1            1                1      1   \n",
       "BOM → JDH → DEL → HYD         1            1                1      1   \n",
       "BOM → UDR → DEL → HYD         1            1                1      1   \n",
       "BOM → VNS → DEL → HYD         1            1                1      1   \n",
       "CCU → BOM → BLR             930          930              930    930   \n",
       "CCU → BOM → PNQ → BLR         4            4                4      4   \n",
       "CCU → DEL → BLR             300          300              300    300   \n",
       "CCU → GAU → BLR              22           22               22     22   \n",
       "DEL → AMD → BOM → COK       141          141              141    141   \n",
       "DEL → ATQ → BOM → COK        38           38               38     38   \n",
       "DEL → BDQ → BOM → COK        28           28               28     28   \n",
       "DEL → BHO → BOM → COK        29           29               29     29   \n",
       "DEL → BOM → COK             875          875              875    875   \n",
       "DEL → CCU → BOM → COK         1            1                1      1   \n",
       "DEL → COK                    34           34               34     34   \n",
       "DEL → DED → BOM → COK         2            2                2      2   \n",
       "DEL → IDR → BOM → COK        86           86               86     86   \n",
       "DEL → IXC → BOM → COK        13           13               13     13   \n",
       "DEL → JAI → BOM → COK       207          207              207    207   \n",
       "DEL → JDH → BOM → COK        23           23               23     23   \n",
       "DEL → LKO → BOM → COK        25           25               25     25   \n",
       "DEL → MAA → BOM → COK        16           16               16     16   \n",
       "DEL → NAG → BOM → COK        61           61               61     61   \n",
       "DEL → UDR → BOM → COK         7            7                7      7   \n",
       "\n",
       "                       Journey_day  Journey_month  Journey_year  \\\n",
       "Route                                                             \n",
       "BLR → BDQ → DEL                  8              8             8   \n",
       "BLR → BOM → DEL                385            385           385   \n",
       "BLR → BOM → JDH → DEL            3              3             3   \n",
       "BLR → DEL                      382            382           382   \n",
       "BLR → MAA → DEL                 10             10            10   \n",
       "BOM → BDQ → DEL → HYD            2              2             2   \n",
       "BOM → DED → DEL → HYD            1              1             1   \n",
       "BOM → DEL → HYD                  5              5             5   \n",
       "BOM → HYD                      207            207           207   \n",
       "BOM → IDR → DEL → HYD            1              1             1   \n",
       "BOM → JDH → DEL → HYD            1              1             1   \n",
       "BOM → UDR → DEL → HYD            1              1             1   \n",
       "BOM → VNS → DEL → HYD            1              1             1   \n",
       "CCU → BOM → BLR                930            930           930   \n",
       "CCU → BOM → PNQ → BLR            4              4             4   \n",
       "CCU → DEL → BLR                300            300           300   \n",
       "CCU → GAU → BLR                 22             22            22   \n",
       "DEL → AMD → BOM → COK          141            141           141   \n",
       "DEL → ATQ → BOM → COK           38             38            38   \n",
       "DEL → BDQ → BOM → COK           28             28            28   \n",
       "DEL → BHO → BOM → COK           29             29            29   \n",
       "DEL → BOM → COK                875            875           875   \n",
       "DEL → CCU → BOM → COK            1              1             1   \n",
       "DEL → COK                       34             34            34   \n",
       "DEL → DED → BOM → COK            2              2             2   \n",
       "DEL → IDR → BOM → COK           86             86            86   \n",
       "DEL → IXC → BOM → COK           13             13            13   \n",
       "DEL → JAI → BOM → COK          207            207           207   \n",
       "DEL → JDH → BOM → COK           23             23            23   \n",
       "DEL → LKO → BOM → COK           25             25            25   \n",
       "DEL → MAA → BOM → COK           16             16            16   \n",
       "DEL → NAG → BOM → COK           61             61            61   \n",
       "DEL → UDR → BOM → COK            7              7             7   \n",
       "\n",
       "                       Dep_Time_hour  Dep_Time_min  Arrival_Time_hour  \\\n",
       "Route                                                                   \n",
       "BLR → BDQ → DEL                    8             8                  8   \n",
       "BLR → BOM → DEL                  385           385                385   \n",
       "BLR → BOM → JDH → DEL              3             3                  3   \n",
       "BLR → DEL                        382           382                382   \n",
       "BLR → MAA → DEL                   10            10                 10   \n",
       "BOM → BDQ → DEL → HYD              2             2                  2   \n",
       "BOM → DED → DEL → HYD              1             1                  1   \n",
       "BOM → DEL → HYD                    5             5                  5   \n",
       "BOM → HYD                        207           207                207   \n",
       "BOM → IDR → DEL → HYD              1             1                  1   \n",
       "BOM → JDH → DEL → HYD              1             1                  1   \n",
       "BOM → UDR → DEL → HYD              1             1                  1   \n",
       "BOM → VNS → DEL → HYD              1             1                  1   \n",
       "CCU → BOM → BLR                  930           930                930   \n",
       "CCU → BOM → PNQ → BLR              4             4                  4   \n",
       "CCU → DEL → BLR                  300           300                300   \n",
       "CCU → GAU → BLR                   22            22                 22   \n",
       "DEL → AMD → BOM → COK            141           141                141   \n",
       "DEL → ATQ → BOM → COK             38            38                 38   \n",
       "DEL → BDQ → BOM → COK             28            28                 28   \n",
       "DEL → BHO → BOM → COK             29            29                 29   \n",
       "DEL → BOM → COK                  875           875                875   \n",
       "DEL → CCU → BOM → COK              1             1                  1   \n",
       "DEL → COK                         34            34                 34   \n",
       "DEL → DED → BOM → COK              2             2                  2   \n",
       "DEL → IDR → BOM → COK             86            86                 86   \n",
       "DEL → IXC → BOM → COK             13            13                 13   \n",
       "DEL → JAI → BOM → COK            207           207                207   \n",
       "DEL → JDH → BOM → COK             23            23                 23   \n",
       "DEL → LKO → BOM → COK             25            25                 25   \n",
       "DEL → MAA → BOM → COK             16            16                 16   \n",
       "DEL → NAG → BOM → COK             61            61                 61   \n",
       "DEL → UDR → BOM → COK              7             7                  7   \n",
       "\n",
       "                       Arrival_Time_min  Duration_hours  Duration_mins  \\\n",
       "Route                                                                    \n",
       "BLR → BDQ → DEL                       8               8              8   \n",
       "BLR → BOM → DEL                     385             385            385   \n",
       "BLR → BOM → JDH → DEL                 3               3              3   \n",
       "BLR → DEL                           382             382            382   \n",
       "BLR → MAA → DEL                      10              10             10   \n",
       "BOM → BDQ → DEL → HYD                 2               2              2   \n",
       "BOM → DED → DEL → HYD                 1               1              1   \n",
       "BOM → DEL → HYD                       5               5              5   \n",
       "BOM → HYD                           207             207            207   \n",
       "BOM → IDR → DEL → HYD                 1               1              1   \n",
       "BOM → JDH → DEL → HYD                 1               1              1   \n",
       "BOM → UDR → DEL → HYD                 1               1              1   \n",
       "BOM → VNS → DEL → HYD                 1               1              1   \n",
       "CCU → BOM → BLR                     930             930            930   \n",
       "CCU → BOM → PNQ → BLR                 4               4              4   \n",
       "CCU → DEL → BLR                     300             300            300   \n",
       "CCU → GAU → BLR                      22              22             22   \n",
       "DEL → AMD → BOM → COK               141             141            141   \n",
       "DEL → ATQ → BOM → COK                38              38             38   \n",
       "DEL → BDQ → BOM → COK                28              28             28   \n",
       "DEL → BHO → BOM → COK                29              29             29   \n",
       "DEL → BOM → COK                     875             875            875   \n",
       "DEL → CCU → BOM → COK                 1               1              1   \n",
       "DEL → COK                            34              34             34   \n",
       "DEL → DED → BOM → COK                 2               2              2   \n",
       "DEL → IDR → BOM → COK                86              86             86   \n",
       "DEL → IXC → BOM → COK                13              13             13   \n",
       "DEL → JAI → BOM → COK               207             207            207   \n",
       "DEL → JDH → BOM → COK                23              23             23   \n",
       "DEL → LKO → BOM → COK                25              25             25   \n",
       "DEL → MAA → BOM → COK                16              16             16   \n",
       "DEL → NAG → BOM → COK                61              61             61   \n",
       "DEL → UDR → BOM → COK                 7               7              7   \n",
       "\n",
       "                       Duration_total_mins  \n",
       "Route                                       \n",
       "BLR → BDQ → DEL                          8  \n",
       "BLR → BOM → DEL                        385  \n",
       "BLR → BOM → JDH → DEL                    3  \n",
       "BLR → DEL                              382  \n",
       "BLR → MAA → DEL                         10  \n",
       "BOM → BDQ → DEL → HYD                    2  \n",
       "BOM → DED → DEL → HYD                    1  \n",
       "BOM → DEL → HYD                          5  \n",
       "BOM → HYD                              207  \n",
       "BOM → IDR → DEL → HYD                    1  \n",
       "BOM → JDH → DEL → HYD                    1  \n",
       "BOM → UDR → DEL → HYD                    1  \n",
       "BOM → VNS → DEL → HYD                    1  \n",
       "CCU → BOM → BLR                        930  \n",
       "CCU → BOM → PNQ → BLR                    4  \n",
       "CCU → DEL → BLR                        300  \n",
       "CCU → GAU → BLR                         22  \n",
       "DEL → AMD → BOM → COK                  141  \n",
       "DEL → ATQ → BOM → COK                   38  \n",
       "DEL → BDQ → BOM → COK                   28  \n",
       "DEL → BHO → BOM → COK                   29  \n",
       "DEL → BOM → COK                        875  \n",
       "DEL → CCU → BOM → COK                    1  \n",
       "DEL → COK                               34  \n",
       "DEL → DED → BOM → COK                    2  \n",
       "DEL → IDR → BOM → COK                   86  \n",
       "DEL → IXC → BOM → COK                   13  \n",
       "DEL → JAI → BOM → COK                  207  \n",
       "DEL → JDH → BOM → COK                   23  \n",
       "DEL → LKO → BOM → COK                   25  \n",
       "DEL → MAA → BOM → COK                   16  \n",
       "DEL → NAG → BOM → COK                   61  \n",
       "DEL → UDR → BOM → COK                    7  "
      ]
     },
     "execution_count": 728,
     "metadata": {},
     "output_type": "execute_result"
    }
   ],
   "source": [
    "data[data['Airline']=='Jet Airways'].groupby('Route').count()\n",
    "# get count various routes of jet airways over different routes"
   ]
  },
  {
   "cell_type": "code",
   "execution_count": 729,
   "id": "767de6ec-1f1b-4373-ba50-711c790e3d66",
   "metadata": {},
   "outputs": [
    {
     "data": {
      "text/plain": [
       "Route\n",
       "BLR → BDQ → DEL            8\n",
       "BLR → BOM → DEL          385\n",
       "BLR → BOM → JDH → DEL      3\n",
       "BLR → DEL                382\n",
       "BLR → MAA → DEL           10\n",
       "BOM → BDQ → DEL → HYD      2\n",
       "BOM → DED → DEL → HYD      1\n",
       "BOM → DEL → HYD            5\n",
       "BOM → HYD                207\n",
       "BOM → IDR → DEL → HYD      1\n",
       "BOM → JDH → DEL → HYD      1\n",
       "BOM → UDR → DEL → HYD      1\n",
       "BOM → VNS → DEL → HYD      1\n",
       "CCU → BOM → BLR          930\n",
       "CCU → BOM → PNQ → BLR      4\n",
       "CCU → DEL → BLR          300\n",
       "CCU → GAU → BLR           22\n",
       "DEL → AMD → BOM → COK    141\n",
       "DEL → ATQ → BOM → COK     38\n",
       "DEL → BDQ → BOM → COK     28\n",
       "DEL → BHO → BOM → COK     29\n",
       "DEL → BOM → COK          875\n",
       "DEL → CCU → BOM → COK      1\n",
       "DEL → COK                 34\n",
       "DEL → DED → BOM → COK      2\n",
       "DEL → IDR → BOM → COK     86\n",
       "DEL → IXC → BOM → COK     13\n",
       "DEL → JAI → BOM → COK    207\n",
       "DEL → JDH → BOM → COK     23\n",
       "DEL → LKO → BOM → COK     25\n",
       "DEL → MAA → BOM → COK     16\n",
       "DEL → NAG → BOM → COK     61\n",
       "DEL → UDR → BOM → COK      7\n",
       "dtype: int64"
      ]
     },
     "execution_count": 729,
     "metadata": {},
     "output_type": "execute_result"
    }
   ],
   "source": [
    "data[data['Airline']=='Jet Airways'].groupby('Route').size()"
   ]
  },
  {
   "cell_type": "code",
   "execution_count": 730,
   "id": "189a7e98-3307-4e79-abdc-8696daa3d609",
   "metadata": {},
   "outputs": [
    {
     "data": {
      "text/plain": [
       "Route\n",
       "CCU → BOM → BLR          930\n",
       "DEL → BOM → COK          875\n",
       "BLR → BOM → DEL          385\n",
       "BLR → DEL                382\n",
       "CCU → DEL → BLR          300\n",
       "BOM → HYD                207\n",
       "DEL → JAI → BOM → COK    207\n",
       "DEL → AMD → BOM → COK    141\n",
       "DEL → IDR → BOM → COK     86\n",
       "DEL → NAG → BOM → COK     61\n",
       "DEL → ATQ → BOM → COK     38\n",
       "DEL → COK                 34\n",
       "DEL → BHO → BOM → COK     29\n",
       "DEL → BDQ → BOM → COK     28\n",
       "DEL → LKO → BOM → COK     25\n",
       "DEL → JDH → BOM → COK     23\n",
       "CCU → GAU → BLR           22\n",
       "DEL → MAA → BOM → COK     16\n",
       "DEL → IXC → BOM → COK     13\n",
       "BLR → MAA → DEL           10\n",
       "BLR → BDQ → DEL            8\n",
       "DEL → UDR → BOM → COK      7\n",
       "BOM → DEL → HYD            5\n",
       "CCU → BOM → PNQ → BLR      4\n",
       "BLR → BOM → JDH → DEL      3\n",
       "DEL → DED → BOM → COK      2\n",
       "BOM → BDQ → DEL → HYD      2\n",
       "DEL → CCU → BOM → COK      1\n",
       "BOM → VNS → DEL → HYD      1\n",
       "BOM → UDR → DEL → HYD      1\n",
       "BOM → JDH → DEL → HYD      1\n",
       "BOM → IDR → DEL → HYD      1\n",
       "BOM → DED → DEL → HYD      1\n",
       "dtype: int64"
      ]
     },
     "execution_count": 730,
     "metadata": {},
     "output_type": "execute_result"
    }
   ],
   "source": [
    "data[data['Airline']=='Jet Airways'].groupby('Route').size().sort_values(ascending=False)\n",
    "# top routes with most no. of flights arranged in ascending order"
   ]
  },
  {
   "cell_type": "code",
   "execution_count": 731,
   "id": "6ed87eaa-3e08-4a5b-a27a-b9fda7938c78",
   "metadata": {},
   "outputs": [
    {
     "data": {
      "text/plain": [
       "Index(['Airline', 'Date_of_Journey', 'Source', 'Destination', 'Route',\n",
       "       'Duration', 'Total_Stops', 'Additional_Info', 'Price', 'Journey_day',\n",
       "       'Journey_month', 'Journey_year', 'Dep_Time_hour', 'Dep_Time_min',\n",
       "       'Arrival_Time_hour', 'Arrival_Time_min', 'Duration_hours',\n",
       "       'Duration_mins', 'Duration_total_mins'],\n",
       "      dtype='object')"
      ]
     },
     "execution_count": 731,
     "metadata": {},
     "output_type": "execute_result"
    }
   ],
   "source": [
    "data.columns"
   ]
  },
  {
   "cell_type": "code",
   "execution_count": 732,
   "id": "7314f860-cf18-4b75-aae5-50c4bb022000",
   "metadata": {},
   "outputs": [
    {
     "data": {
      "text/plain": [
       "([0, 1, 2, 3, 4, 5, 6, 7, 8, 9, 10, 11],\n",
       " [Text(0, 0, 'Jet Airways Business'),\n",
       "  Text(1, 0, 'Jet Airways'),\n",
       "  Text(2, 0, 'Multiple carriers'),\n",
       "  Text(3, 0, 'Air India'),\n",
       "  Text(4, 0, 'SpiceJet'),\n",
       "  Text(5, 0, 'GoAir'),\n",
       "  Text(6, 0, 'IndiGo'),\n",
       "  Text(7, 0, 'Vistara'),\n",
       "  Text(8, 0, 'Multiple carriers Premium economy'),\n",
       "  Text(9, 0, 'Air Asia'),\n",
       "  Text(10, 0, 'Vistara Premium economy'),\n",
       "  Text(11, 0, 'Trujet')])"
      ]
     },
     "execution_count": 732,
     "metadata": {},
     "output_type": "execute_result"
    },
    {
     "data": {
      "image/png": "[encoded data removed]",
      "text/plain": [
       "<Figure size 640x480 with 1 Axes>"
      ]
     },
     "metadata": {},
     "output_type": "display_data"
    }
   ],
   "source": [
    "sns.boxplot(y = 'Price', x = 'Airline', data=data.sort_values('Price' , ascending=False))\n",
    "plt.xticks(rotation = \"vertical\")\n",
    "\n",
    "#box plot of prices of airlines"
   ]
  },
  {
   "cell_type": "code",
   "execution_count": null,
   "id": "b8e2d9ba-f964-4492-9856-076770ab5a53",
   "metadata": {},
   "outputs": [],
   "source": []
  },
  {
   "cell_type": "code",
   "execution_count": null,
   "id": "4365f364-25c0-41c4-bb4a-c7d424f28c31",
   "metadata": {},
   "outputs": [],
   "source": []
  },
  {
   "cell_type": "markdown",
   "id": "8838279d-8329-4f84-8661-76ad28cc57bc",
   "metadata": {},
   "source": [
    "# Feature Engineering\n",
    "\n",
    "#Applying one-hot (feature encoding) on data"
   ]
  },
  {
   "cell_type": "code",
   "execution_count": null,
   "id": "31c69b9a-ca10-440c-8c90-ba53549d4bcf",
   "metadata": {},
   "outputs": [],
   "source": []
  },
  {
   "cell_type": "code",
   "execution_count": 733,
   "id": "332e9a45-5026-4c0d-ae11-fb996df47c59",
   "metadata": {},
   "outputs": [
    {
     "data": {
      "text/html": [
       "<div>\n",
       "<style scoped>\n",
       "    .dataframe tbody tr th:only-of-type {\n",
       "        vertical-align: middle;\n",
       "    }\n",
       "\n",
       "    .dataframe tbody tr th {\n",
       "        vertical-align: top;\n",
       "    }\n",
       "\n",
       "    .dataframe thead th {\n",
       "        text-align: right;\n",
       "    }\n",
       "</style>\n",
       "<table border=\"1\" class=\"dataframe\">\n",
       "  <thead>\n",
       "    <tr style=\"text-align: right;\">\n",
       "      <th></th>\n",
       "      <th>Airline</th>\n",
       "      <th>Date_of_Journey</th>\n",
       "      <th>Source</th>\n",
       "      <th>Destination</th>\n",
       "      <th>Route</th>\n",
       "      <th>Duration</th>\n",
       "      <th>Total_Stops</th>\n",
       "      <th>Additional_Info</th>\n",
       "      <th>Price</th>\n",
       "      <th>Journey_day</th>\n",
       "      <th>Journey_month</th>\n",
       "      <th>Journey_year</th>\n",
       "      <th>Dep_Time_hour</th>\n",
       "      <th>Dep_Time_min</th>\n",
       "      <th>Arrival_Time_hour</th>\n",
       "      <th>Arrival_Time_min</th>\n",
       "      <th>Duration_hours</th>\n",
       "      <th>Duration_mins</th>\n",
       "      <th>Duration_total_mins</th>\n",
       "    </tr>\n",
       "  </thead>\n",
       "  <tbody>\n",
       "    <tr>\n",
       "      <th>0</th>\n",
       "      <td>IndiGo</td>\n",
       "      <td>2019-03-24</td>\n",
       "      <td>Banglore</td>\n",
       "      <td>New Delhi</td>\n",
       "      <td>BLR → DEL</td>\n",
       "      <td>2h 50m</td>\n",
       "      <td>non-stop</td>\n",
       "      <td>No info</td>\n",
       "      <td>3897</td>\n",
       "      <td>24</td>\n",
       "      <td>3</td>\n",
       "      <td>2019</td>\n",
       "      <td>22</td>\n",
       "      <td>20</td>\n",
       "      <td>1</td>\n",
       "      <td>10</td>\n",
       "      <td>2</td>\n",
       "      <td>50</td>\n",
       "      <td>170</td>\n",
       "    </tr>\n",
       "    <tr>\n",
       "      <th>1</th>\n",
       "      <td>Air India</td>\n",
       "      <td>2019-05-01</td>\n",
       "      <td>Kolkata</td>\n",
       "      <td>Banglore</td>\n",
       "      <td>CCU → IXR → BBI → BLR</td>\n",
       "      <td>7h 25m</td>\n",
       "      <td>2 stops</td>\n",
       "      <td>No info</td>\n",
       "      <td>7662</td>\n",
       "      <td>1</td>\n",
       "      <td>5</td>\n",
       "      <td>2019</td>\n",
       "      <td>5</td>\n",
       "      <td>50</td>\n",
       "      <td>13</td>\n",
       "      <td>15</td>\n",
       "      <td>7</td>\n",
       "      <td>25</td>\n",
       "      <td>445</td>\n",
       "    </tr>\n",
       "  </tbody>\n",
       "</table>\n",
       "</div>"
      ],
      "text/plain": [
       "     Airline Date_of_Journey    Source Destination                  Route  \\\n",
       "0     IndiGo      2019-03-24  Banglore   New Delhi              BLR → DEL   \n",
       "1  Air India      2019-05-01   Kolkata    Banglore  CCU → IXR → BBI → BLR   \n",
       "\n",
       "  Duration Total_Stops Additional_Info  Price  Journey_day  Journey_month  \\\n",
       "0   2h 50m    non-stop         No info   3897           24              3   \n",
       "1   7h 25m     2 stops         No info   7662            1              5   \n",
       "\n",
       "   Journey_year  Dep_Time_hour  Dep_Time_min  Arrival_Time_hour  \\\n",
       "0          2019             22            20                  1   \n",
       "1          2019              5            50                 13   \n",
       "\n",
       "   Arrival_Time_min  Duration_hours  Duration_mins  Duration_total_mins  \n",
       "0                10               2             50                  170  \n",
       "1                15               7             25                  445  "
      ]
     },
     "execution_count": 733,
     "metadata": {},
     "output_type": "execute_result"
    }
   ],
   "source": [
    "data.head(2)\n"
   ]
  },
  {
   "cell_type": "markdown",
   "id": "f113ae4a-0b13-4b34-90d2-d8f67c07ccda",
   "metadata": {},
   "source": [
    "# ML algo will not understand airline, source and destination columns so we need to convert that string data to numerical features this is features encoding"
   ]
  },
  {
   "cell_type": "code",
   "execution_count": null,
   "id": "b001d023-082e-4fd3-a3ca-1fd3c9355a7f",
   "metadata": {},
   "outputs": [],
   "source": []
  },
  {
   "cell_type": "markdown",
   "id": "d8a207aa-9fc0-4285-9352-2909233e5367",
   "metadata": {},
   "source": [
    "we will create a features for e.g. if destination in bangalore then it will show 1 else 0 and we can do this with all"
   ]
  },
  {
   "cell_type": "code",
   "execution_count": null,
   "id": "b5fc561a-8fab-4651-ad86-ad5e196ed25e",
   "metadata": {},
   "outputs": [],
   "source": []
  },
  {
   "cell_type": "code",
   "execution_count": 734,
   "id": "5e32cfe9-4d0b-40fe-ad2d-151a28913f1c",
   "metadata": {},
   "outputs": [
    {
     "data": {
      "text/plain": [
       "Index(['Airline', 'Date_of_Journey', 'Source', 'Destination', 'Route',\n",
       "       'Duration', 'Total_Stops', 'Additional_Info', 'Price', 'Journey_day',\n",
       "       'Journey_month', 'Journey_year', 'Dep_Time_hour', 'Dep_Time_min',\n",
       "       'Arrival_Time_hour', 'Arrival_Time_min', 'Duration_hours',\n",
       "       'Duration_mins', 'Duration_total_mins'],\n",
       "      dtype='object')"
      ]
     },
     "execution_count": 734,
     "metadata": {},
     "output_type": "execute_result"
    }
   ],
   "source": [
    "data.columns"
   ]
  },
  {
   "cell_type": "code",
   "execution_count": 735,
   "id": "1aedd446-7a6a-42e6-925b-4f471cd4dbc0",
   "metadata": {},
   "outputs": [
    {
     "data": {
      "text/plain": [
       "['Airline',\n",
       " 'Source',\n",
       " 'Destination',\n",
       " 'Route',\n",
       " 'Duration',\n",
       " 'Total_Stops',\n",
       " 'Additional_Info']"
      ]
     },
     "execution_count": 735,
     "metadata": {},
     "output_type": "execute_result"
    }
   ],
   "source": [
    "cat_col = [col for col in data.columns if data[col].dtype=='object']\n",
    "cat_col"
   ]
  },
  {
   "cell_type": "code",
   "execution_count": 736,
   "id": "a4394320-13ef-40ec-a56b-812796a211a3",
   "metadata": {},
   "outputs": [
    {
     "data": {
      "text/plain": [
       "['Date_of_Journey',\n",
       " 'Price',\n",
       " 'Journey_day',\n",
       " 'Journey_month',\n",
       " 'Journey_year',\n",
       " 'Dep_Time_hour',\n",
       " 'Dep_Time_min',\n",
       " 'Arrival_Time_hour',\n",
       " 'Arrival_Time_min',\n",
       " 'Duration_hours',\n",
       " 'Duration_mins',\n",
       " 'Duration_total_mins']"
      ]
     },
     "execution_count": 736,
     "metadata": {},
     "output_type": "execute_result"
    }
   ],
   "source": [
    "num_col = [col for col in data.columns if data[col].dtype!='object']\n",
    "num_col"
   ]
  },
  {
   "cell_type": "code",
   "execution_count": 737,
   "id": "6cfeb2ff-5a92-4f07-b2c2-b81f888a2bab",
   "metadata": {},
   "outputs": [
    {
     "data": {
      "text/plain": [
       "array(['Banglore', 'Kolkata', 'Delhi', 'Chennai', 'Mumbai'], dtype=object)"
      ]
     },
     "execution_count": 737,
     "metadata": {},
     "output_type": "execute_result"
    }
   ],
   "source": [
    "# we can get all unique cities with the help of unique() feature\n",
    "data['Source'].unique()"
   ]
  },
  {
   "cell_type": "code",
   "execution_count": 738,
   "id": "8d40adc0-7d3c-45aa-843e-0cd12705b8a4",
   "metadata": {},
   "outputs": [
    {
     "data": {
      "text/plain": [
       "0        1\n",
       "1        0\n",
       "2        0\n",
       "3        0\n",
       "4        1\n",
       "        ..\n",
       "10678    0\n",
       "10679    0\n",
       "10680    1\n",
       "10681    1\n",
       "10682    0\n",
       "Name: Source, Length: 10682, dtype: int64"
      ]
     },
     "execution_count": 738,
     "metadata": {},
     "output_type": "execute_result"
    }
   ],
   "source": [
    "data['Source'].apply(lambda x : 1 if x=='Banglore' else 0)\n",
    "# apply ths simple logic to all unique sources"
   ]
  },
  {
   "cell_type": "code",
   "execution_count": 739,
   "id": "f7ed42c7-ef15-4669-b2d8-b399dfc1584c",
   "metadata": {},
   "outputs": [],
   "source": [
    "for sub_category in data['Source'].unique():\n",
    "    data['Source_'+ sub_category] = data['Source'].apply(lambda x : 1 if x==sub_category else 0)"
   ]
  },
  {
   "cell_type": "code",
   "execution_count": 740,
   "id": "bdce15cd-f753-439a-8715-ecf4adb58d27",
   "metadata": {},
   "outputs": [
    {
     "data": {
      "text/html": [
       "<div>\n",
       "<style scoped>\n",
       "    .dataframe tbody tr th:only-of-type {\n",
       "        vertical-align: middle;\n",
       "    }\n",
       "\n",
       "    .dataframe tbody tr th {\n",
       "        vertical-align: top;\n",
       "    }\n",
       "\n",
       "    .dataframe thead th {\n",
       "        text-align: right;\n",
       "    }\n",
       "</style>\n",
       "<table border=\"1\" class=\"dataframe\">\n",
       "  <thead>\n",
       "    <tr style=\"text-align: right;\">\n",
       "      <th></th>\n",
       "      <th>Airline</th>\n",
       "      <th>Date_of_Journey</th>\n",
       "      <th>Source</th>\n",
       "      <th>Destination</th>\n",
       "      <th>Route</th>\n",
       "      <th>Duration</th>\n",
       "      <th>Total_Stops</th>\n",
       "      <th>Additional_Info</th>\n",
       "      <th>Price</th>\n",
       "      <th>Journey_day</th>\n",
       "      <th>...</th>\n",
       "      <th>Arrival_Time_hour</th>\n",
       "      <th>Arrival_Time_min</th>\n",
       "      <th>Duration_hours</th>\n",
       "      <th>Duration_mins</th>\n",
       "      <th>Duration_total_mins</th>\n",
       "      <th>Source_Banglore</th>\n",
       "      <th>Source_Kolkata</th>\n",
       "      <th>Source_Delhi</th>\n",
       "      <th>Source_Chennai</th>\n",
       "      <th>Source_Mumbai</th>\n",
       "    </tr>\n",
       "  </thead>\n",
       "  <tbody>\n",
       "    <tr>\n",
       "      <th>0</th>\n",
       "      <td>IndiGo</td>\n",
       "      <td>2019-03-24</td>\n",
       "      <td>Banglore</td>\n",
       "      <td>New Delhi</td>\n",
       "      <td>BLR → DEL</td>\n",
       "      <td>2h 50m</td>\n",
       "      <td>non-stop</td>\n",
       "      <td>No info</td>\n",
       "      <td>3897</td>\n",
       "      <td>24</td>\n",
       "      <td>...</td>\n",
       "      <td>1</td>\n",
       "      <td>10</td>\n",
       "      <td>2</td>\n",
       "      <td>50</td>\n",
       "      <td>170</td>\n",
       "      <td>1</td>\n",
       "      <td>0</td>\n",
       "      <td>0</td>\n",
       "      <td>0</td>\n",
       "      <td>0</td>\n",
       "    </tr>\n",
       "    <tr>\n",
       "      <th>1</th>\n",
       "      <td>Air India</td>\n",
       "      <td>2019-05-01</td>\n",
       "      <td>Kolkata</td>\n",
       "      <td>Banglore</td>\n",
       "      <td>CCU → IXR → BBI → BLR</td>\n",
       "      <td>7h 25m</td>\n",
       "      <td>2 stops</td>\n",
       "      <td>No info</td>\n",
       "      <td>7662</td>\n",
       "      <td>1</td>\n",
       "      <td>...</td>\n",
       "      <td>13</td>\n",
       "      <td>15</td>\n",
       "      <td>7</td>\n",
       "      <td>25</td>\n",
       "      <td>445</td>\n",
       "      <td>0</td>\n",
       "      <td>1</td>\n",
       "      <td>0</td>\n",
       "      <td>0</td>\n",
       "      <td>0</td>\n",
       "    </tr>\n",
       "    <tr>\n",
       "      <th>2</th>\n",
       "      <td>Jet Airways</td>\n",
       "      <td>2019-06-09</td>\n",
       "      <td>Delhi</td>\n",
       "      <td>Cochin</td>\n",
       "      <td>DEL → LKO → BOM → COK</td>\n",
       "      <td>19h 0m</td>\n",
       "      <td>2 stops</td>\n",
       "      <td>No info</td>\n",
       "      <td>13882</td>\n",
       "      <td>9</td>\n",
       "      <td>...</td>\n",
       "      <td>4</td>\n",
       "      <td>25</td>\n",
       "      <td>19</td>\n",
       "      <td>0</td>\n",
       "      <td>1140</td>\n",
       "      <td>0</td>\n",
       "      <td>0</td>\n",
       "      <td>1</td>\n",
       "      <td>0</td>\n",
       "      <td>0</td>\n",
       "    </tr>\n",
       "  </tbody>\n",
       "</table>\n",
       "<p>3 rows × 24 columns</p>\n",
       "</div>"
      ],
      "text/plain": [
       "       Airline Date_of_Journey    Source Destination                  Route  \\\n",
       "0       IndiGo      2019-03-24  Banglore   New Delhi              BLR → DEL   \n",
       "1    Air India      2019-05-01   Kolkata    Banglore  CCU → IXR → BBI → BLR   \n",
       "2  Jet Airways      2019-06-09     Delhi      Cochin  DEL → LKO → BOM → COK   \n",
       "\n",
       "  Duration Total_Stops Additional_Info  Price  Journey_day  ...  \\\n",
       "0   2h 50m    non-stop         No info   3897           24  ...   \n",
       "1   7h 25m     2 stops         No info   7662            1  ...   \n",
       "2   19h 0m     2 stops         No info  13882            9  ...   \n",
       "\n",
       "   Arrival_Time_hour  Arrival_Time_min  Duration_hours  Duration_mins  \\\n",
       "0                  1                10               2             50   \n",
       "1                 13                15               7             25   \n",
       "2                  4                25              19              0   \n",
       "\n",
       "   Duration_total_mins  Source_Banglore  Source_Kolkata  Source_Delhi  \\\n",
       "0                  170                1               0             0   \n",
       "1                  445                0               1             0   \n",
       "2                 1140                0               0             1   \n",
       "\n",
       "   Source_Chennai  Source_Mumbai  \n",
       "0               0              0  \n",
       "1               0              0  \n",
       "2               0              0  \n",
       "\n",
       "[3 rows x 24 columns]"
      ]
     },
     "execution_count": 740,
     "metadata": {},
     "output_type": "execute_result"
    }
   ],
   "source": [
    "data.head(3)"
   ]
  },
  {
   "cell_type": "code",
   "execution_count": null,
   "id": "7451c14f-f2ee-49e4-b8b4-b262d3220f06",
   "metadata": {},
   "outputs": [],
   "source": []
  },
  {
   "cell_type": "code",
   "execution_count": 741,
   "id": "d39399f7-979f-4580-85a7-edb5d0b7bc96",
   "metadata": {},
   "outputs": [
    {
     "data": {
      "text/html": [
       "<div>\n",
       "<style scoped>\n",
       "    .dataframe tbody tr th:only-of-type {\n",
       "        vertical-align: middle;\n",
       "    }\n",
       "\n",
       "    .dataframe tbody tr th {\n",
       "        vertical-align: top;\n",
       "    }\n",
       "\n",
       "    .dataframe thead th {\n",
       "        text-align: right;\n",
       "    }\n",
       "</style>\n",
       "<table border=\"1\" class=\"dataframe\">\n",
       "  <thead>\n",
       "    <tr style=\"text-align: right;\">\n",
       "      <th></th>\n",
       "      <th>Airline</th>\n",
       "      <th>Date_of_Journey</th>\n",
       "      <th>Source</th>\n",
       "      <th>Destination</th>\n",
       "      <th>Route</th>\n",
       "      <th>Duration</th>\n",
       "      <th>Total_Stops</th>\n",
       "      <th>Additional_Info</th>\n",
       "      <th>Price</th>\n",
       "      <th>Journey_day</th>\n",
       "      <th>...</th>\n",
       "      <th>Arrival_Time_hour</th>\n",
       "      <th>Arrival_Time_min</th>\n",
       "      <th>Duration_hours</th>\n",
       "      <th>Duration_mins</th>\n",
       "      <th>Duration_total_mins</th>\n",
       "      <th>Source_Banglore</th>\n",
       "      <th>Source_Kolkata</th>\n",
       "      <th>Source_Delhi</th>\n",
       "      <th>Source_Chennai</th>\n",
       "      <th>Source_Mumbai</th>\n",
       "    </tr>\n",
       "  </thead>\n",
       "  <tbody>\n",
       "    <tr>\n",
       "      <th>0</th>\n",
       "      <td>IndiGo</td>\n",
       "      <td>2019-03-24</td>\n",
       "      <td>Banglore</td>\n",
       "      <td>New Delhi</td>\n",
       "      <td>BLR → DEL</td>\n",
       "      <td>2h 50m</td>\n",
       "      <td>non-stop</td>\n",
       "      <td>No info</td>\n",
       "      <td>3897</td>\n",
       "      <td>24</td>\n",
       "      <td>...</td>\n",
       "      <td>1</td>\n",
       "      <td>10</td>\n",
       "      <td>2</td>\n",
       "      <td>50</td>\n",
       "      <td>170</td>\n",
       "      <td>1</td>\n",
       "      <td>0</td>\n",
       "      <td>0</td>\n",
       "      <td>0</td>\n",
       "      <td>0</td>\n",
       "    </tr>\n",
       "    <tr>\n",
       "      <th>1</th>\n",
       "      <td>Air India</td>\n",
       "      <td>2019-05-01</td>\n",
       "      <td>Kolkata</td>\n",
       "      <td>Banglore</td>\n",
       "      <td>CCU → IXR → BBI → BLR</td>\n",
       "      <td>7h 25m</td>\n",
       "      <td>2 stops</td>\n",
       "      <td>No info</td>\n",
       "      <td>7662</td>\n",
       "      <td>1</td>\n",
       "      <td>...</td>\n",
       "      <td>13</td>\n",
       "      <td>15</td>\n",
       "      <td>7</td>\n",
       "      <td>25</td>\n",
       "      <td>445</td>\n",
       "      <td>0</td>\n",
       "      <td>1</td>\n",
       "      <td>0</td>\n",
       "      <td>0</td>\n",
       "      <td>0</td>\n",
       "    </tr>\n",
       "    <tr>\n",
       "      <th>2</th>\n",
       "      <td>Jet Airways</td>\n",
       "      <td>2019-06-09</td>\n",
       "      <td>Delhi</td>\n",
       "      <td>Cochin</td>\n",
       "      <td>DEL → LKO → BOM → COK</td>\n",
       "      <td>19h 0m</td>\n",
       "      <td>2 stops</td>\n",
       "      <td>No info</td>\n",
       "      <td>13882</td>\n",
       "      <td>9</td>\n",
       "      <td>...</td>\n",
       "      <td>4</td>\n",
       "      <td>25</td>\n",
       "      <td>19</td>\n",
       "      <td>0</td>\n",
       "      <td>1140</td>\n",
       "      <td>0</td>\n",
       "      <td>0</td>\n",
       "      <td>1</td>\n",
       "      <td>0</td>\n",
       "      <td>0</td>\n",
       "    </tr>\n",
       "  </tbody>\n",
       "</table>\n",
       "<p>3 rows × 24 columns</p>\n",
       "</div>"
      ],
      "text/plain": [
       "       Airline Date_of_Journey    Source Destination                  Route  \\\n",
       "0       IndiGo      2019-03-24  Banglore   New Delhi              BLR → DEL   \n",
       "1    Air India      2019-05-01   Kolkata    Banglore  CCU → IXR → BBI → BLR   \n",
       "2  Jet Airways      2019-06-09     Delhi      Cochin  DEL → LKO → BOM → COK   \n",
       "\n",
       "  Duration Total_Stops Additional_Info  Price  Journey_day  ...  \\\n",
       "0   2h 50m    non-stop         No info   3897           24  ...   \n",
       "1   7h 25m     2 stops         No info   7662            1  ...   \n",
       "2   19h 0m     2 stops         No info  13882            9  ...   \n",
       "\n",
       "   Arrival_Time_hour  Arrival_Time_min  Duration_hours  Duration_mins  \\\n",
       "0                  1                10               2             50   \n",
       "1                 13                15               7             25   \n",
       "2                  4                25              19              0   \n",
       "\n",
       "   Duration_total_mins  Source_Banglore  Source_Kolkata  Source_Delhi  \\\n",
       "0                  170                1               0             0   \n",
       "1                  445                0               1             0   \n",
       "2                 1140                0               0             1   \n",
       "\n",
       "   Source_Chennai  Source_Mumbai  \n",
       "0               0              0  \n",
       "1               0              0  \n",
       "2               0              0  \n",
       "\n",
       "[3 rows x 24 columns]"
      ]
     },
     "execution_count": 741,
     "metadata": {},
     "output_type": "execute_result"
    }
   ],
   "source": [
    "data.head(3)"
   ]
  },
  {
   "cell_type": "code",
   "execution_count": null,
   "id": "f7606c35-e94b-46c4-9c59-f749034f7a53",
   "metadata": {},
   "outputs": [],
   "source": []
  },
  {
   "cell_type": "code",
   "execution_count": 742,
   "id": "df80904e-9231-453f-87f7-c1217f307028",
   "metadata": {},
   "outputs": [
    {
     "data": {
      "text/plain": [
       "['Airline',\n",
       " 'Source',\n",
       " 'Destination',\n",
       " 'Route',\n",
       " 'Duration',\n",
       " 'Total_Stops',\n",
       " 'Additional_Info']"
      ]
     },
     "execution_count": 742,
     "metadata": {},
     "output_type": "execute_result"
    }
   ],
   "source": [
    "cat_col"
   ]
  },
  {
   "cell_type": "code",
   "execution_count": 743,
   "id": "375c66e6-1ffb-4c89-a662-9ce11c3cef65",
   "metadata": {},
   "outputs": [
    {
     "data": {
      "text/plain": [
       "12"
      ]
     },
     "execution_count": 743,
     "metadata": {},
     "output_type": "execute_result"
    }
   ],
   "source": [
    "# data endocing on feature \"Airlines\"\n",
    "data['Airline'].nunique()"
   ]
  },
  {
   "cell_type": "code",
   "execution_count": null,
   "id": "5a775229-1677-4a90-bfa2-4f0689e6bee9",
   "metadata": {},
   "outputs": [],
   "source": []
  },
  {
   "cell_type": "code",
   "execution_count": 744,
   "id": "24594350-3a8e-412b-a390-298e16129b57",
   "metadata": {},
   "outputs": [
    {
     "data": {
      "text/plain": [
       "Airline\n",
       "Trujet                                4140.000000\n",
       "SpiceJet                              4338.284841\n",
       "Air Asia                              5590.260188\n",
       "IndiGo                                5673.682903\n",
       "GoAir                                 5861.056701\n",
       "Vistara                               7796.348643\n",
       "Vistara Premium economy               8962.333333\n",
       "Air India                             9612.427756\n",
       "Multiple carriers                    10902.678094\n",
       "Multiple carriers Premium economy    11418.846154\n",
       "Jet Airways                          11643.923357\n",
       "Jet Airways Business                 58358.666667\n",
       "Name: Price, dtype: float64"
      ]
     },
     "execution_count": 744,
     "metadata": {},
     "output_type": "execute_result"
    }
   ],
   "source": [
    "data.groupby(['Airline'])['Price'].mean().sort_values()"
   ]
  },
  {
   "cell_type": "code",
   "execution_count": 745,
   "id": "cbd7a9a0-b14e-458c-bffe-0dc1c7513ae4",
   "metadata": {},
   "outputs": [],
   "source": [
    "airlines = data.groupby(['Airline'])['Price'].mean().sort_values().index\n"
   ]
  },
  {
   "cell_type": "code",
   "execution_count": 746,
   "id": "cc65fe6b-93dd-41cc-926f-201f63515016",
   "metadata": {},
   "outputs": [
    {
     "data": {
      "text/plain": [
       "Index(['Trujet', 'SpiceJet', 'Air Asia', 'IndiGo', 'GoAir', 'Vistara',\n",
       "       'Vistara Premium economy', 'Air India', 'Multiple carriers',\n",
       "       'Multiple carriers Premium economy', 'Jet Airways',\n",
       "       'Jet Airways Business'],\n",
       "      dtype='object', name='Airline')"
      ]
     },
     "execution_count": 746,
     "metadata": {},
     "output_type": "execute_result"
    }
   ],
   "source": [
    "airlines"
   ]
  },
  {
   "cell_type": "code",
   "execution_count": 747,
   "id": "eec018c7-17f0-4fe0-9ec9-219c681a3dc9",
   "metadata": {},
   "outputs": [
    {
     "data": {
      "text/plain": [
       "{'Trujet': 0,\n",
       " 'SpiceJet': 1,\n",
       " 'Air Asia': 2,\n",
       " 'IndiGo': 3,\n",
       " 'GoAir': 4,\n",
       " 'Vistara': 5,\n",
       " 'Vistara Premium economy': 6,\n",
       " 'Air India': 7,\n",
       " 'Multiple carriers': 8,\n",
       " 'Multiple carriers Premium economy': 9,\n",
       " 'Jet Airways': 10,\n",
       " 'Jet Airways Business': 11}"
      ]
     },
     "execution_count": 747,
     "metadata": {},
     "output_type": "execute_result"
    }
   ],
   "source": [
    "#convert above list into numbers by enumeration\n",
    "\n",
    "{key : index for index, key in enumerate(airlines , 0)}"
   ]
  },
  {
   "cell_type": "code",
   "execution_count": 748,
   "id": "5530d6a2-f49e-4743-938e-6cc13d157bf2",
   "metadata": {},
   "outputs": [
    {
     "data": {
      "text/plain": [
       "{'Trujet': 0,\n",
       " 'SpiceJet': 1,\n",
       " 'Air Asia': 2,\n",
       " 'IndiGo': 3,\n",
       " 'GoAir': 4,\n",
       " 'Vistara': 5,\n",
       " 'Vistara Premium economy': 6,\n",
       " 'Air India': 7,\n",
       " 'Multiple carriers': 8,\n",
       " 'Multiple carriers Premium economy': 9,\n",
       " 'Jet Airways': 10,\n",
       " 'Jet Airways Business': 11}"
      ]
     },
     "execution_count": 748,
     "metadata": {},
     "output_type": "execute_result"
    }
   ],
   "source": [
    "dict_airlines = {key : index for index, key in enumerate(airlines , 0)}\n",
    "dict_airlines"
   ]
  },
  {
   "cell_type": "code",
   "execution_count": 749,
   "id": "a2bf6f45-0d4e-4e09-b022-c117abf794dc",
   "metadata": {},
   "outputs": [],
   "source": [
    "data['Airline'] = data['Airline'].map(dict_airlines)"
   ]
  },
  {
   "cell_type": "code",
   "execution_count": 750,
   "id": "43b78e2e-5675-447e-9a6e-e68865270f70",
   "metadata": {},
   "outputs": [
    {
     "data": {
      "text/plain": [
       "0         3\n",
       "1         7\n",
       "2        10\n",
       "3         3\n",
       "4         3\n",
       "         ..\n",
       "10678     2\n",
       "10679     7\n",
       "10680    10\n",
       "10681     5\n",
       "10682     7\n",
       "Name: Airline, Length: 10682, dtype: int64"
      ]
     },
     "execution_count": 750,
     "metadata": {},
     "output_type": "execute_result"
    }
   ],
   "source": [
    "data['Airline']"
   ]
  },
  {
   "cell_type": "code",
   "execution_count": 751,
   "id": "5c0615b8-ae1f-4b92-81be-99fa8381066c",
   "metadata": {},
   "outputs": [
    {
     "data": {
      "text/html": [
       "<div>\n",
       "<style scoped>\n",
       "    .dataframe tbody tr th:only-of-type {\n",
       "        vertical-align: middle;\n",
       "    }\n",
       "\n",
       "    .dataframe tbody tr th {\n",
       "        vertical-align: top;\n",
       "    }\n",
       "\n",
       "    .dataframe thead th {\n",
       "        text-align: right;\n",
       "    }\n",
       "</style>\n",
       "<table border=\"1\" class=\"dataframe\">\n",
       "  <thead>\n",
       "    <tr style=\"text-align: right;\">\n",
       "      <th></th>\n",
       "      <th>Airline</th>\n",
       "      <th>Date_of_Journey</th>\n",
       "      <th>Source</th>\n",
       "      <th>Destination</th>\n",
       "      <th>Route</th>\n",
       "      <th>Duration</th>\n",
       "      <th>Total_Stops</th>\n",
       "      <th>Additional_Info</th>\n",
       "      <th>Price</th>\n",
       "      <th>Journey_day</th>\n",
       "      <th>...</th>\n",
       "      <th>Arrival_Time_hour</th>\n",
       "      <th>Arrival_Time_min</th>\n",
       "      <th>Duration_hours</th>\n",
       "      <th>Duration_mins</th>\n",
       "      <th>Duration_total_mins</th>\n",
       "      <th>Source_Banglore</th>\n",
       "      <th>Source_Kolkata</th>\n",
       "      <th>Source_Delhi</th>\n",
       "      <th>Source_Chennai</th>\n",
       "      <th>Source_Mumbai</th>\n",
       "    </tr>\n",
       "  </thead>\n",
       "  <tbody>\n",
       "    <tr>\n",
       "      <th>0</th>\n",
       "      <td>3</td>\n",
       "      <td>2019-03-24</td>\n",
       "      <td>Banglore</td>\n",
       "      <td>New Delhi</td>\n",
       "      <td>BLR → DEL</td>\n",
       "      <td>2h 50m</td>\n",
       "      <td>non-stop</td>\n",
       "      <td>No info</td>\n",
       "      <td>3897</td>\n",
       "      <td>24</td>\n",
       "      <td>...</td>\n",
       "      <td>1</td>\n",
       "      <td>10</td>\n",
       "      <td>2</td>\n",
       "      <td>50</td>\n",
       "      <td>170</td>\n",
       "      <td>1</td>\n",
       "      <td>0</td>\n",
       "      <td>0</td>\n",
       "      <td>0</td>\n",
       "      <td>0</td>\n",
       "    </tr>\n",
       "    <tr>\n",
       "      <th>1</th>\n",
       "      <td>7</td>\n",
       "      <td>2019-05-01</td>\n",
       "      <td>Kolkata</td>\n",
       "      <td>Banglore</td>\n",
       "      <td>CCU → IXR → BBI → BLR</td>\n",
       "      <td>7h 25m</td>\n",
       "      <td>2 stops</td>\n",
       "      <td>No info</td>\n",
       "      <td>7662</td>\n",
       "      <td>1</td>\n",
       "      <td>...</td>\n",
       "      <td>13</td>\n",
       "      <td>15</td>\n",
       "      <td>7</td>\n",
       "      <td>25</td>\n",
       "      <td>445</td>\n",
       "      <td>0</td>\n",
       "      <td>1</td>\n",
       "      <td>0</td>\n",
       "      <td>0</td>\n",
       "      <td>0</td>\n",
       "    </tr>\n",
       "    <tr>\n",
       "      <th>2</th>\n",
       "      <td>10</td>\n",
       "      <td>2019-06-09</td>\n",
       "      <td>Delhi</td>\n",
       "      <td>Cochin</td>\n",
       "      <td>DEL → LKO → BOM → COK</td>\n",
       "      <td>19h 0m</td>\n",
       "      <td>2 stops</td>\n",
       "      <td>No info</td>\n",
       "      <td>13882</td>\n",
       "      <td>9</td>\n",
       "      <td>...</td>\n",
       "      <td>4</td>\n",
       "      <td>25</td>\n",
       "      <td>19</td>\n",
       "      <td>0</td>\n",
       "      <td>1140</td>\n",
       "      <td>0</td>\n",
       "      <td>0</td>\n",
       "      <td>1</td>\n",
       "      <td>0</td>\n",
       "      <td>0</td>\n",
       "    </tr>\n",
       "  </tbody>\n",
       "</table>\n",
       "<p>3 rows × 24 columns</p>\n",
       "</div>"
      ],
      "text/plain": [
       "   Airline Date_of_Journey    Source Destination                  Route  \\\n",
       "0        3      2019-03-24  Banglore   New Delhi              BLR → DEL   \n",
       "1        7      2019-05-01   Kolkata    Banglore  CCU → IXR → BBI → BLR   \n",
       "2       10      2019-06-09     Delhi      Cochin  DEL → LKO → BOM → COK   \n",
       "\n",
       "  Duration Total_Stops Additional_Info  Price  Journey_day  ...  \\\n",
       "0   2h 50m    non-stop         No info   3897           24  ...   \n",
       "1   7h 25m     2 stops         No info   7662            1  ...   \n",
       "2   19h 0m     2 stops         No info  13882            9  ...   \n",
       "\n",
       "   Arrival_Time_hour  Arrival_Time_min  Duration_hours  Duration_mins  \\\n",
       "0                  1                10               2             50   \n",
       "1                 13                15               7             25   \n",
       "2                  4                25              19              0   \n",
       "\n",
       "   Duration_total_mins  Source_Banglore  Source_Kolkata  Source_Delhi  \\\n",
       "0                  170                1               0             0   \n",
       "1                  445                0               1             0   \n",
       "2                 1140                0               0             1   \n",
       "\n",
       "   Source_Chennai  Source_Mumbai  \n",
       "0               0              0  \n",
       "1               0              0  \n",
       "2               0              0  \n",
       "\n",
       "[3 rows x 24 columns]"
      ]
     },
     "execution_count": 751,
     "metadata": {},
     "output_type": "execute_result"
    }
   ],
   "source": [
    "data.head(3)"
   ]
  },
  {
   "cell_type": "code",
   "execution_count": 752,
   "id": "fdd3dd3a-e86e-4a99-9b65-01c6f6eaa9e9",
   "metadata": {},
   "outputs": [
    {
     "data": {
      "text/plain": [
       "array(['New Delhi', 'Banglore', 'Cochin', 'Kolkata', 'Delhi', 'Hyderabad'],\n",
       "      dtype=object)"
      ]
     },
     "execution_count": 752,
     "metadata": {},
     "output_type": "execute_result"
    }
   ],
   "source": [
    "data['Destination'].unique()"
   ]
  },
  {
   "cell_type": "code",
   "execution_count": 753,
   "id": "8b1a5483-ddd6-4d97-8207-a77d6cd98020",
   "metadata": {},
   "outputs": [],
   "source": [
    "data['Destination'].replace('New Delhi','Delhi',inplace=True)"
   ]
  },
  {
   "cell_type": "code",
   "execution_count": 754,
   "id": "ddf736fa-0112-4895-ae27-bd4bb9ea76c7",
   "metadata": {},
   "outputs": [
    {
     "data": {
      "text/html": [
       "<div>\n",
       "<style scoped>\n",
       "    .dataframe tbody tr th:only-of-type {\n",
       "        vertical-align: middle;\n",
       "    }\n",
       "\n",
       "    .dataframe tbody tr th {\n",
       "        vertical-align: top;\n",
       "    }\n",
       "\n",
       "    .dataframe thead th {\n",
       "        text-align: right;\n",
       "    }\n",
       "</style>\n",
       "<table border=\"1\" class=\"dataframe\">\n",
       "  <thead>\n",
       "    <tr style=\"text-align: right;\">\n",
       "      <th></th>\n",
       "      <th>Airline</th>\n",
       "      <th>Date_of_Journey</th>\n",
       "      <th>Source</th>\n",
       "      <th>Destination</th>\n",
       "      <th>Route</th>\n",
       "      <th>Duration</th>\n",
       "      <th>Total_Stops</th>\n",
       "      <th>Additional_Info</th>\n",
       "      <th>Price</th>\n",
       "      <th>Journey_day</th>\n",
       "      <th>...</th>\n",
       "      <th>Arrival_Time_hour</th>\n",
       "      <th>Arrival_Time_min</th>\n",
       "      <th>Duration_hours</th>\n",
       "      <th>Duration_mins</th>\n",
       "      <th>Duration_total_mins</th>\n",
       "      <th>Source_Banglore</th>\n",
       "      <th>Source_Kolkata</th>\n",
       "      <th>Source_Delhi</th>\n",
       "      <th>Source_Chennai</th>\n",
       "      <th>Source_Mumbai</th>\n",
       "    </tr>\n",
       "  </thead>\n",
       "  <tbody>\n",
       "    <tr>\n",
       "      <th>0</th>\n",
       "      <td>3</td>\n",
       "      <td>2019-03-24</td>\n",
       "      <td>Banglore</td>\n",
       "      <td>Delhi</td>\n",
       "      <td>BLR → DEL</td>\n",
       "      <td>2h 50m</td>\n",
       "      <td>non-stop</td>\n",
       "      <td>No info</td>\n",
       "      <td>3897</td>\n",
       "      <td>24</td>\n",
       "      <td>...</td>\n",
       "      <td>1</td>\n",
       "      <td>10</td>\n",
       "      <td>2</td>\n",
       "      <td>50</td>\n",
       "      <td>170</td>\n",
       "      <td>1</td>\n",
       "      <td>0</td>\n",
       "      <td>0</td>\n",
       "      <td>0</td>\n",
       "      <td>0</td>\n",
       "    </tr>\n",
       "    <tr>\n",
       "      <th>1</th>\n",
       "      <td>7</td>\n",
       "      <td>2019-05-01</td>\n",
       "      <td>Kolkata</td>\n",
       "      <td>Banglore</td>\n",
       "      <td>CCU → IXR → BBI → BLR</td>\n",
       "      <td>7h 25m</td>\n",
       "      <td>2 stops</td>\n",
       "      <td>No info</td>\n",
       "      <td>7662</td>\n",
       "      <td>1</td>\n",
       "      <td>...</td>\n",
       "      <td>13</td>\n",
       "      <td>15</td>\n",
       "      <td>7</td>\n",
       "      <td>25</td>\n",
       "      <td>445</td>\n",
       "      <td>0</td>\n",
       "      <td>1</td>\n",
       "      <td>0</td>\n",
       "      <td>0</td>\n",
       "      <td>0</td>\n",
       "    </tr>\n",
       "    <tr>\n",
       "      <th>2</th>\n",
       "      <td>10</td>\n",
       "      <td>2019-06-09</td>\n",
       "      <td>Delhi</td>\n",
       "      <td>Cochin</td>\n",
       "      <td>DEL → LKO → BOM → COK</td>\n",
       "      <td>19h 0m</td>\n",
       "      <td>2 stops</td>\n",
       "      <td>No info</td>\n",
       "      <td>13882</td>\n",
       "      <td>9</td>\n",
       "      <td>...</td>\n",
       "      <td>4</td>\n",
       "      <td>25</td>\n",
       "      <td>19</td>\n",
       "      <td>0</td>\n",
       "      <td>1140</td>\n",
       "      <td>0</td>\n",
       "      <td>0</td>\n",
       "      <td>1</td>\n",
       "      <td>0</td>\n",
       "      <td>0</td>\n",
       "    </tr>\n",
       "  </tbody>\n",
       "</table>\n",
       "<p>3 rows × 24 columns</p>\n",
       "</div>"
      ],
      "text/plain": [
       "   Airline Date_of_Journey    Source Destination                  Route  \\\n",
       "0        3      2019-03-24  Banglore       Delhi              BLR → DEL   \n",
       "1        7      2019-05-01   Kolkata    Banglore  CCU → IXR → BBI → BLR   \n",
       "2       10      2019-06-09     Delhi      Cochin  DEL → LKO → BOM → COK   \n",
       "\n",
       "  Duration Total_Stops Additional_Info  Price  Journey_day  ...  \\\n",
       "0   2h 50m    non-stop         No info   3897           24  ...   \n",
       "1   7h 25m     2 stops         No info   7662            1  ...   \n",
       "2   19h 0m     2 stops         No info  13882            9  ...   \n",
       "\n",
       "   Arrival_Time_hour  Arrival_Time_min  Duration_hours  Duration_mins  \\\n",
       "0                  1                10               2             50   \n",
       "1                 13                15               7             25   \n",
       "2                  4                25              19              0   \n",
       "\n",
       "   Duration_total_mins  Source_Banglore  Source_Kolkata  Source_Delhi  \\\n",
       "0                  170                1               0             0   \n",
       "1                  445                0               1             0   \n",
       "2                 1140                0               0             1   \n",
       "\n",
       "   Source_Chennai  Source_Mumbai  \n",
       "0               0              0  \n",
       "1               0              0  \n",
       "2               0              0  \n",
       "\n",
       "[3 rows x 24 columns]"
      ]
     },
     "execution_count": 754,
     "metadata": {},
     "output_type": "execute_result"
    }
   ],
   "source": [
    "data.head(3)"
   ]
  },
  {
   "cell_type": "code",
   "execution_count": 755,
   "id": "1329c4dd-39ea-406d-82f9-e3b577050018",
   "metadata": {},
   "outputs": [
    {
     "data": {
      "text/plain": [
       "array(['Delhi', 'Banglore', 'Cochin', 'Kolkata', 'Hyderabad'],\n",
       "      dtype=object)"
      ]
     },
     "execution_count": 755,
     "metadata": {},
     "output_type": "execute_result"
    }
   ],
   "source": [
    "data['Destination'].unique()"
   ]
  },
  {
   "cell_type": "code",
   "execution_count": 756,
   "id": "deed312f-e1cc-486e-9151-1224bd551b9d",
   "metadata": {},
   "outputs": [],
   "source": [
    "dest = data.groupby(['Destination'])['Price'].mean().sort_values().index\n"
   ]
  },
  {
   "cell_type": "code",
   "execution_count": 757,
   "id": "a0dae4f3-240b-4c28-a357-729200336189",
   "metadata": {},
   "outputs": [
    {
     "data": {
      "text/plain": [
       "Index(['Kolkata', 'Hyderabad', 'Delhi', 'Banglore', 'Cochin'], dtype='object', name='Destination')"
      ]
     },
     "execution_count": 757,
     "metadata": {},
     "output_type": "execute_result"
    }
   ],
   "source": [
    "dest"
   ]
  },
  {
   "cell_type": "code",
   "execution_count": 758,
   "id": "0612fd4c-ac95-494b-abc2-9a5a7e1a266a",
   "metadata": {},
   "outputs": [
    {
     "data": {
      "text/plain": [
       "{'Kolkata': 0, 'Hyderabad': 1, 'Delhi': 2, 'Banglore': 3, 'Cochin': 4}"
      ]
     },
     "execution_count": 758,
     "metadata": {},
     "output_type": "execute_result"
    }
   ],
   "source": [
    "dict_dest = {key : index for index, key in enumerate(dest , 0)}\n",
    "dict_dest"
   ]
  },
  {
   "cell_type": "code",
   "execution_count": 759,
   "id": "93e5ca45-1c6d-47d4-bd8a-839fb91bd21c",
   "metadata": {},
   "outputs": [
    {
     "data": {
      "text/plain": [
       "0        2\n",
       "1        3\n",
       "2        4\n",
       "3        3\n",
       "4        2\n",
       "        ..\n",
       "10678    3\n",
       "10679    3\n",
       "10680    2\n",
       "10681    2\n",
       "10682    4\n",
       "Name: Destination, Length: 10682, dtype: int64"
      ]
     },
     "execution_count": 759,
     "metadata": {},
     "output_type": "execute_result"
    }
   ],
   "source": [
    "data['Destination'] = data['Destination'].map(dict_dest)\n",
    "data['Destination']"
   ]
  },
  {
   "cell_type": "code",
   "execution_count": 760,
   "id": "987ecf89-b8df-4277-b60a-10a1356b3ab3",
   "metadata": {},
   "outputs": [
    {
     "data": {
      "text/html": [
       "<div>\n",
       "<style scoped>\n",
       "    .dataframe tbody tr th:only-of-type {\n",
       "        vertical-align: middle;\n",
       "    }\n",
       "\n",
       "    .dataframe tbody tr th {\n",
       "        vertical-align: top;\n",
       "    }\n",
       "\n",
       "    .dataframe thead th {\n",
       "        text-align: right;\n",
       "    }\n",
       "</style>\n",
       "<table border=\"1\" class=\"dataframe\">\n",
       "  <thead>\n",
       "    <tr style=\"text-align: right;\">\n",
       "      <th></th>\n",
       "      <th>Airline</th>\n",
       "      <th>Date_of_Journey</th>\n",
       "      <th>Source</th>\n",
       "      <th>Destination</th>\n",
       "      <th>Route</th>\n",
       "      <th>Duration</th>\n",
       "      <th>Total_Stops</th>\n",
       "      <th>Additional_Info</th>\n",
       "      <th>Price</th>\n",
       "      <th>Journey_day</th>\n",
       "      <th>...</th>\n",
       "      <th>Arrival_Time_hour</th>\n",
       "      <th>Arrival_Time_min</th>\n",
       "      <th>Duration_hours</th>\n",
       "      <th>Duration_mins</th>\n",
       "      <th>Duration_total_mins</th>\n",
       "      <th>Source_Banglore</th>\n",
       "      <th>Source_Kolkata</th>\n",
       "      <th>Source_Delhi</th>\n",
       "      <th>Source_Chennai</th>\n",
       "      <th>Source_Mumbai</th>\n",
       "    </tr>\n",
       "  </thead>\n",
       "  <tbody>\n",
       "    <tr>\n",
       "      <th>0</th>\n",
       "      <td>3</td>\n",
       "      <td>2019-03-24</td>\n",
       "      <td>Banglore</td>\n",
       "      <td>2</td>\n",
       "      <td>BLR → DEL</td>\n",
       "      <td>2h 50m</td>\n",
       "      <td>non-stop</td>\n",
       "      <td>No info</td>\n",
       "      <td>3897</td>\n",
       "      <td>24</td>\n",
       "      <td>...</td>\n",
       "      <td>1</td>\n",
       "      <td>10</td>\n",
       "      <td>2</td>\n",
       "      <td>50</td>\n",
       "      <td>170</td>\n",
       "      <td>1</td>\n",
       "      <td>0</td>\n",
       "      <td>0</td>\n",
       "      <td>0</td>\n",
       "      <td>0</td>\n",
       "    </tr>\n",
       "    <tr>\n",
       "      <th>1</th>\n",
       "      <td>7</td>\n",
       "      <td>2019-05-01</td>\n",
       "      <td>Kolkata</td>\n",
       "      <td>3</td>\n",
       "      <td>CCU → IXR → BBI → BLR</td>\n",
       "      <td>7h 25m</td>\n",
       "      <td>2 stops</td>\n",
       "      <td>No info</td>\n",
       "      <td>7662</td>\n",
       "      <td>1</td>\n",
       "      <td>...</td>\n",
       "      <td>13</td>\n",
       "      <td>15</td>\n",
       "      <td>7</td>\n",
       "      <td>25</td>\n",
       "      <td>445</td>\n",
       "      <td>0</td>\n",
       "      <td>1</td>\n",
       "      <td>0</td>\n",
       "      <td>0</td>\n",
       "      <td>0</td>\n",
       "    </tr>\n",
       "    <tr>\n",
       "      <th>2</th>\n",
       "      <td>10</td>\n",
       "      <td>2019-06-09</td>\n",
       "      <td>Delhi</td>\n",
       "      <td>4</td>\n",
       "      <td>DEL → LKO → BOM → COK</td>\n",
       "      <td>19h 0m</td>\n",
       "      <td>2 stops</td>\n",
       "      <td>No info</td>\n",
       "      <td>13882</td>\n",
       "      <td>9</td>\n",
       "      <td>...</td>\n",
       "      <td>4</td>\n",
       "      <td>25</td>\n",
       "      <td>19</td>\n",
       "      <td>0</td>\n",
       "      <td>1140</td>\n",
       "      <td>0</td>\n",
       "      <td>0</td>\n",
       "      <td>1</td>\n",
       "      <td>0</td>\n",
       "      <td>0</td>\n",
       "    </tr>\n",
       "  </tbody>\n",
       "</table>\n",
       "<p>3 rows × 24 columns</p>\n",
       "</div>"
      ],
      "text/plain": [
       "   Airline Date_of_Journey    Source  Destination                  Route  \\\n",
       "0        3      2019-03-24  Banglore            2              BLR → DEL   \n",
       "1        7      2019-05-01   Kolkata            3  CCU → IXR → BBI → BLR   \n",
       "2       10      2019-06-09     Delhi            4  DEL → LKO → BOM → COK   \n",
       "\n",
       "  Duration Total_Stops Additional_Info  Price  Journey_day  ...  \\\n",
       "0   2h 50m    non-stop         No info   3897           24  ...   \n",
       "1   7h 25m     2 stops         No info   7662            1  ...   \n",
       "2   19h 0m     2 stops         No info  13882            9  ...   \n",
       "\n",
       "   Arrival_Time_hour  Arrival_Time_min  Duration_hours  Duration_mins  \\\n",
       "0                  1                10               2             50   \n",
       "1                 13                15               7             25   \n",
       "2                  4                25              19              0   \n",
       "\n",
       "   Duration_total_mins  Source_Banglore  Source_Kolkata  Source_Delhi  \\\n",
       "0                  170                1               0             0   \n",
       "1                  445                0               1             0   \n",
       "2                 1140                0               0             1   \n",
       "\n",
       "   Source_Chennai  Source_Mumbai  \n",
       "0               0              0  \n",
       "1               0              0  \n",
       "2               0              0  \n",
       "\n",
       "[3 rows x 24 columns]"
      ]
     },
     "execution_count": 760,
     "metadata": {},
     "output_type": "execute_result"
    }
   ],
   "source": [
    "data.head(3)"
   ]
  },
  {
   "cell_type": "code",
   "execution_count": null,
   "id": "d363c666-341f-4a04-87ae-6b25b03523c7",
   "metadata": {},
   "outputs": [],
   "source": []
  },
  {
   "cell_type": "code",
   "execution_count": 761,
   "id": "0037d86c-3906-4c5d-908f-bf946e61495c",
   "metadata": {},
   "outputs": [
    {
     "data": {
      "text/plain": [
       "0        non-stop\n",
       "1         2 stops\n",
       "2         2 stops\n",
       "3          1 stop\n",
       "4          1 stop\n",
       "           ...   \n",
       "10678    non-stop\n",
       "10679    non-stop\n",
       "10680    non-stop\n",
       "10681    non-stop\n",
       "10682     2 stops\n",
       "Name: Total_Stops, Length: 10682, dtype: object"
      ]
     },
     "execution_count": 761,
     "metadata": {},
     "output_type": "execute_result"
    }
   ],
   "source": [
    "data['Total_Stops']"
   ]
  },
  {
   "cell_type": "code",
   "execution_count": 762,
   "id": "6326ae60-f4f6-422d-b18a-992be8e98c6e",
   "metadata": {},
   "outputs": [
    {
     "data": {
      "text/plain": [
       "array(['non-stop', '2 stops', '1 stop', '3 stops', '4 stops'],\n",
       "      dtype=object)"
      ]
     },
     "execution_count": 762,
     "metadata": {},
     "output_type": "execute_result"
    }
   ],
   "source": [
    "data['Total_Stops'].unique()"
   ]
  },
  {
   "cell_type": "code",
   "execution_count": 763,
   "id": "423c5f44-7e04-499d-94b4-efd1cae9b834",
   "metadata": {},
   "outputs": [],
   "source": [
    "stop = {'non-stop':0, '2 stops':2, '1 stop':1, '3 stops':3, '4 stops':4}"
   ]
  },
  {
   "cell_type": "code",
   "execution_count": 764,
   "id": "398517b2-930e-4eba-8735-4dc42278eada",
   "metadata": {},
   "outputs": [
    {
     "data": {
      "text/plain": [
       "{'non-stop': 0, '2 stops': 2, '1 stop': 1, '3 stops': 3, '4 stops': 4}"
      ]
     },
     "execution_count": 764,
     "metadata": {},
     "output_type": "execute_result"
    }
   ],
   "source": [
    "stop"
   ]
  },
  {
   "cell_type": "code",
   "execution_count": 765,
   "id": "b95c0cde-42ad-42c1-bf65-b8268a1a479c",
   "metadata": {},
   "outputs": [],
   "source": [
    "data['Total_Stops'] = data['Total_Stops'].map(stop)"
   ]
  },
  {
   "cell_type": "code",
   "execution_count": 766,
   "id": "93d78c01-95d2-4bdf-9764-3e26e56d8183",
   "metadata": {},
   "outputs": [
    {
     "data": {
      "text/plain": [
       "array([0, 2, 1, 3, 4], dtype=int64)"
      ]
     },
     "execution_count": 766,
     "metadata": {},
     "output_type": "execute_result"
    }
   ],
   "source": [
    "data['Total_Stops'].unique()"
   ]
  },
  {
   "cell_type": "code",
   "execution_count": 767,
   "id": "664c2dfb-becb-4901-960a-b4bca8c9d582",
   "metadata": {},
   "outputs": [
    {
     "data": {
      "text/html": [
       "<div>\n",
       "<style scoped>\n",
       "    .dataframe tbody tr th:only-of-type {\n",
       "        vertical-align: middle;\n",
       "    }\n",
       "\n",
       "    .dataframe tbody tr th {\n",
       "        vertical-align: top;\n",
       "    }\n",
       "\n",
       "    .dataframe thead th {\n",
       "        text-align: right;\n",
       "    }\n",
       "</style>\n",
       "<table border=\"1\" class=\"dataframe\">\n",
       "  <thead>\n",
       "    <tr style=\"text-align: right;\">\n",
       "      <th></th>\n",
       "      <th>Airline</th>\n",
       "      <th>Date_of_Journey</th>\n",
       "      <th>Source</th>\n",
       "      <th>Destination</th>\n",
       "      <th>Route</th>\n",
       "      <th>Duration</th>\n",
       "      <th>Total_Stops</th>\n",
       "      <th>Additional_Info</th>\n",
       "      <th>Price</th>\n",
       "      <th>Journey_day</th>\n",
       "      <th>...</th>\n",
       "      <th>Arrival_Time_hour</th>\n",
       "      <th>Arrival_Time_min</th>\n",
       "      <th>Duration_hours</th>\n",
       "      <th>Duration_mins</th>\n",
       "      <th>Duration_total_mins</th>\n",
       "      <th>Source_Banglore</th>\n",
       "      <th>Source_Kolkata</th>\n",
       "      <th>Source_Delhi</th>\n",
       "      <th>Source_Chennai</th>\n",
       "      <th>Source_Mumbai</th>\n",
       "    </tr>\n",
       "  </thead>\n",
       "  <tbody>\n",
       "    <tr>\n",
       "      <th>0</th>\n",
       "      <td>3</td>\n",
       "      <td>2019-03-24</td>\n",
       "      <td>Banglore</td>\n",
       "      <td>2</td>\n",
       "      <td>BLR → DEL</td>\n",
       "      <td>2h 50m</td>\n",
       "      <td>0</td>\n",
       "      <td>No info</td>\n",
       "      <td>3897</td>\n",
       "      <td>24</td>\n",
       "      <td>...</td>\n",
       "      <td>1</td>\n",
       "      <td>10</td>\n",
       "      <td>2</td>\n",
       "      <td>50</td>\n",
       "      <td>170</td>\n",
       "      <td>1</td>\n",
       "      <td>0</td>\n",
       "      <td>0</td>\n",
       "      <td>0</td>\n",
       "      <td>0</td>\n",
       "    </tr>\n",
       "    <tr>\n",
       "      <th>1</th>\n",
       "      <td>7</td>\n",
       "      <td>2019-05-01</td>\n",
       "      <td>Kolkata</td>\n",
       "      <td>3</td>\n",
       "      <td>CCU → IXR → BBI → BLR</td>\n",
       "      <td>7h 25m</td>\n",
       "      <td>2</td>\n",
       "      <td>No info</td>\n",
       "      <td>7662</td>\n",
       "      <td>1</td>\n",
       "      <td>...</td>\n",
       "      <td>13</td>\n",
       "      <td>15</td>\n",
       "      <td>7</td>\n",
       "      <td>25</td>\n",
       "      <td>445</td>\n",
       "      <td>0</td>\n",
       "      <td>1</td>\n",
       "      <td>0</td>\n",
       "      <td>0</td>\n",
       "      <td>0</td>\n",
       "    </tr>\n",
       "  </tbody>\n",
       "</table>\n",
       "<p>2 rows × 24 columns</p>\n",
       "</div>"
      ],
      "text/plain": [
       "   Airline Date_of_Journey    Source  Destination                  Route  \\\n",
       "0        3      2019-03-24  Banglore            2              BLR → DEL   \n",
       "1        7      2019-05-01   Kolkata            3  CCU → IXR → BBI → BLR   \n",
       "\n",
       "  Duration  Total_Stops Additional_Info  Price  Journey_day  ...  \\\n",
       "0   2h 50m            0         No info   3897           24  ...   \n",
       "1   7h 25m            2         No info   7662            1  ...   \n",
       "\n",
       "   Arrival_Time_hour  Arrival_Time_min  Duration_hours  Duration_mins  \\\n",
       "0                  1                10               2             50   \n",
       "1                 13                15               7             25   \n",
       "\n",
       "   Duration_total_mins  Source_Banglore  Source_Kolkata  Source_Delhi  \\\n",
       "0                  170                1               0             0   \n",
       "1                  445                0               1             0   \n",
       "\n",
       "   Source_Chennai  Source_Mumbai  \n",
       "0               0              0  \n",
       "1               0              0  \n",
       "\n",
       "[2 rows x 24 columns]"
      ]
     },
     "execution_count": 767,
     "metadata": {},
     "output_type": "execute_result"
    }
   ],
   "source": [
    "data.head(2)"
   ]
  },
  {
   "cell_type": "code",
   "execution_count": 768,
   "id": "6cb4436b-1eaf-443f-98bf-b112a3021769",
   "metadata": {},
   "outputs": [
    {
     "data": {
      "text/plain": [
       "Index(['Airline', 'Date_of_Journey', 'Source', 'Destination', 'Route',\n",
       "       'Duration', 'Total_Stops', 'Additional_Info', 'Price', 'Journey_day',\n",
       "       'Journey_month', 'Journey_year', 'Dep_Time_hour', 'Dep_Time_min',\n",
       "       'Arrival_Time_hour', 'Arrival_Time_min', 'Duration_hours',\n",
       "       'Duration_mins', 'Duration_total_mins', 'Source_Banglore',\n",
       "       'Source_Kolkata', 'Source_Delhi', 'Source_Chennai', 'Source_Mumbai'],\n",
       "      dtype='object')"
      ]
     },
     "execution_count": 768,
     "metadata": {},
     "output_type": "execute_result"
    }
   ],
   "source": [
    "data.columns"
   ]
  },
  {
   "cell_type": "code",
   "execution_count": 769,
   "id": "7bbfd0dd-b700-4336-91ad-80dee58d092b",
   "metadata": {},
   "outputs": [
    {
     "data": {
      "text/plain": [
       "Additional_Info\n",
       "No info                         78.112713\n",
       "In-flight meal not included     18.554578\n",
       "No check-in baggage included     2.995694\n",
       "1 Long layover                   0.177869\n",
       "Change airports                  0.065531\n",
       "Business class                   0.037446\n",
       "No Info                          0.028085\n",
       "1 Short layover                  0.009362\n",
       "Red-eye flight                   0.009362\n",
       "2 Long layover                   0.009362\n",
       "Name: count, dtype: float64"
      ]
     },
     "execution_count": 769,
     "metadata": {},
     "output_type": "execute_result"
    }
   ],
   "source": [
    "data['Additional_Info'].value_counts()/len(data)*100"
   ]
  },
  {
   "cell_type": "code",
   "execution_count": 770,
   "id": "0d475c41-9265-43da-b349-bfa71c49e4d2",
   "metadata": {},
   "outputs": [
    {
     "data": {
      "text/plain": [
       "Index(['Airline', 'Date_of_Journey', 'Source', 'Destination', 'Route',\n",
       "       'Duration', 'Total_Stops', 'Additional_Info', 'Price', 'Journey_day',\n",
       "       'Journey_month', 'Journey_year', 'Dep_Time_hour', 'Dep_Time_min',\n",
       "       'Arrival_Time_hour', 'Arrival_Time_min', 'Duration_hours',\n",
       "       'Duration_mins', 'Duration_total_mins', 'Source_Banglore',\n",
       "       'Source_Kolkata', 'Source_Delhi', 'Source_Chennai', 'Source_Mumbai'],\n",
       "      dtype='object')"
      ]
     },
     "execution_count": 770,
     "metadata": {},
     "output_type": "execute_result"
    }
   ],
   "source": [
    "data.columns"
   ]
  },
  {
   "cell_type": "code",
   "execution_count": 771,
   "id": "2615d6d6-d7f5-4560-b59e-75e0c9c6b73a",
   "metadata": {},
   "outputs": [],
   "source": [
    "data.drop(columns = ['Date_of_Journey','Additional_Info','Source','Duration_total_mins','Duration','Journey_year'], axis=1, inplace=True)"
   ]
  },
  {
   "cell_type": "code",
   "execution_count": 772,
   "id": "f05baf72-031c-42cb-b9ea-0cca4a99e690",
   "metadata": {},
   "outputs": [],
   "source": [
    "data.drop(columns = ['Route'], axis=1, inplace=True)"
   ]
  },
  {
   "cell_type": "code",
   "execution_count": 773,
   "id": "7d823fcd-1e0e-4d4a-a006-0991373730ad",
   "metadata": {},
   "outputs": [
    {
     "data": {
      "text/html": [
       "<div>\n",
       "<style scoped>\n",
       "    .dataframe tbody tr th:only-of-type {\n",
       "        vertical-align: middle;\n",
       "    }\n",
       "\n",
       "    .dataframe tbody tr th {\n",
       "        vertical-align: top;\n",
       "    }\n",
       "\n",
       "    .dataframe thead th {\n",
       "        text-align: right;\n",
       "    }\n",
       "</style>\n",
       "<table border=\"1\" class=\"dataframe\">\n",
       "  <thead>\n",
       "    <tr style=\"text-align: right;\">\n",
       "      <th></th>\n",
       "      <th>Airline</th>\n",
       "      <th>Destination</th>\n",
       "      <th>Total_Stops</th>\n",
       "      <th>Price</th>\n",
       "      <th>Journey_day</th>\n",
       "      <th>Journey_month</th>\n",
       "      <th>Dep_Time_hour</th>\n",
       "      <th>Dep_Time_min</th>\n",
       "      <th>Arrival_Time_hour</th>\n",
       "      <th>Arrival_Time_min</th>\n",
       "      <th>Duration_hours</th>\n",
       "      <th>Duration_mins</th>\n",
       "      <th>Source_Banglore</th>\n",
       "      <th>Source_Kolkata</th>\n",
       "      <th>Source_Delhi</th>\n",
       "      <th>Source_Chennai</th>\n",
       "      <th>Source_Mumbai</th>\n",
       "    </tr>\n",
       "  </thead>\n",
       "  <tbody>\n",
       "    <tr>\n",
       "      <th>0</th>\n",
       "      <td>3</td>\n",
       "      <td>2</td>\n",
       "      <td>0</td>\n",
       "      <td>3897</td>\n",
       "      <td>24</td>\n",
       "      <td>3</td>\n",
       "      <td>22</td>\n",
       "      <td>20</td>\n",
       "      <td>1</td>\n",
       "      <td>10</td>\n",
       "      <td>2</td>\n",
       "      <td>50</td>\n",
       "      <td>1</td>\n",
       "      <td>0</td>\n",
       "      <td>0</td>\n",
       "      <td>0</td>\n",
       "      <td>0</td>\n",
       "    </tr>\n",
       "    <tr>\n",
       "      <th>1</th>\n",
       "      <td>7</td>\n",
       "      <td>3</td>\n",
       "      <td>2</td>\n",
       "      <td>7662</td>\n",
       "      <td>1</td>\n",
       "      <td>5</td>\n",
       "      <td>5</td>\n",
       "      <td>50</td>\n",
       "      <td>13</td>\n",
       "      <td>15</td>\n",
       "      <td>7</td>\n",
       "      <td>25</td>\n",
       "      <td>0</td>\n",
       "      <td>1</td>\n",
       "      <td>0</td>\n",
       "      <td>0</td>\n",
       "      <td>0</td>\n",
       "    </tr>\n",
       "    <tr>\n",
       "      <th>2</th>\n",
       "      <td>10</td>\n",
       "      <td>4</td>\n",
       "      <td>2</td>\n",
       "      <td>13882</td>\n",
       "      <td>9</td>\n",
       "      <td>6</td>\n",
       "      <td>9</td>\n",
       "      <td>25</td>\n",
       "      <td>4</td>\n",
       "      <td>25</td>\n",
       "      <td>19</td>\n",
       "      <td>0</td>\n",
       "      <td>0</td>\n",
       "      <td>0</td>\n",
       "      <td>1</td>\n",
       "      <td>0</td>\n",
       "      <td>0</td>\n",
       "    </tr>\n",
       "  </tbody>\n",
       "</table>\n",
       "</div>"
      ],
      "text/plain": [
       "   Airline  Destination  Total_Stops  Price  Journey_day  Journey_month  \\\n",
       "0        3            2            0   3897           24              3   \n",
       "1        7            3            2   7662            1              5   \n",
       "2       10            4            2  13882            9              6   \n",
       "\n",
       "   Dep_Time_hour  Dep_Time_min  Arrival_Time_hour  Arrival_Time_min  \\\n",
       "0             22            20                  1                10   \n",
       "1              5            50                 13                15   \n",
       "2              9            25                  4                25   \n",
       "\n",
       "   Duration_hours  Duration_mins  Source_Banglore  Source_Kolkata  \\\n",
       "0               2             50                1               0   \n",
       "1               7             25                0               1   \n",
       "2              19              0                0               0   \n",
       "\n",
       "   Source_Delhi  Source_Chennai  Source_Mumbai  \n",
       "0             0               0              0  \n",
       "1             0               0              0  \n",
       "2             1               0              0  "
      ]
     },
     "execution_count": 773,
     "metadata": {},
     "output_type": "execute_result"
    }
   ],
   "source": [
    "data.head(3)"
   ]
  },
  {
   "cell_type": "code",
   "execution_count": null,
   "id": "3b2405e2-8d50-45f2-ad6a-fb680f1ef3f2",
   "metadata": {},
   "outputs": [],
   "source": []
  },
  {
   "cell_type": "code",
   "execution_count": 774,
   "id": "cebb3f27-705b-4e2d-8c67-c2fd199170a9",
   "metadata": {},
   "outputs": [],
   "source": [
    " def plot(df, col):\n",
    "     fig, (ax1,ax2,ax3) = plt.subplots(3,1)\n",
    "     \n",
    "     sns.distplot(df[col] , ax=ax1)\n",
    "     sns.boxplot(df[col] , ax=ax2)\n",
    "     sns.distplot(df[col] , ax=ax3 , kde=False)"
   ]
  },
  {
   "cell_type": "code",
   "execution_count": 775,
   "id": "16f427a8-5de7-456e-827d-5a23ea845280",
   "metadata": {},
   "outputs": [
    {
     "data": {
      "image/png": "[encoded data removed]",
      "text/plain": [
       "<Figure size 640x480 with 3 Axes>"
      ]
     },
     "metadata": {},
     "output_type": "display_data"
    }
   ],
   "source": [
    "plot(data , 'Price')"
   ]
  },
  {
   "cell_type": "code",
   "execution_count": null,
   "id": "318e4940-6bdc-4666-8188-44f648d006f3",
   "metadata": {},
   "outputs": [],
   "source": []
  },
  {
   "cell_type": "code",
   "execution_count": 776,
   "id": "5b8a1d15-9d99-4bd1-9850-72860241a43d",
   "metadata": {},
   "outputs": [],
   "source": [
    "q1 = data['Price'].quantile(0.25)\n",
    "q3 = data['Price'].quantile(0.75)\n",
    "\n",
    "iqr = q3-q1\n",
    "\n",
    "maximum = q3 + 1.5*iqr\n",
    "minimum = q1 - 1.5*iqr"
   ]
  },
  {
   "cell_type": "code",
   "execution_count": 777,
   "id": "3e50bbf9-0533-4cc1-9c1e-b34369149f4a",
   "metadata": {},
   "outputs": [
    {
     "name": "stdout",
     "output_type": "stream",
     "text": [
      "-5367.0\n",
      "23017.0\n"
     ]
    }
   ],
   "source": [
    "print(minimum)\n",
    "print(maximum)"
   ]
  },
  {
   "cell_type": "code",
   "execution_count": null,
   "id": "884d599d-5882-468c-96c8-e3a6c4c456a3",
   "metadata": {},
   "outputs": [],
   "source": []
  },
  {
   "cell_type": "code",
   "execution_count": 778,
   "id": "5d9cc683-cecb-4e3d-945c-15ec0fe900fc",
   "metadata": {},
   "outputs": [
    {
     "name": "stdout",
     "output_type": "stream",
     "text": [
      "[27430, 36983, 26890, 26890, 25139, 27210, 52229, 26743, 26890, 25735, 27992, 26890, 26890, 23583, 26890, 23533, 24115, 25735, 54826, 31783, 27992, 26890, 26890, 25430, 36235, 27210, 26890, 25735, 54826, 26890, 35185, 79512, 28097, 27992, 26890, 25735, 26092, 31825, 25913, 25735, 27992, 31825, 23267, 62427, 54826, 31825, 25430, 26890, 36235, 23843, 26890, 25735, 28322, 25735, 25735, 31825, 26890, 27992, 34273, 46490, 29528, 26890, 26890, 26890, 34503, 26890, 27992, 26890, 26890, 23170, 24528, 26890, 27992, 25735, 34608, 25703, 26890, 23528, 31825, 27282, 25735, 27992, 52285, 24017, 31945, 26890, 24318, 23677, 27992, 24210, 57209, 26890, 31825, 26480]\n"
     ]
    }
   ],
   "source": [
    "print([price for price in data['Price'] if price>maximum or price<minimum])"
   ]
  },
  {
   "cell_type": "code",
   "execution_count": 779,
   "id": "8d45e2b5-adb6-4dee-9727-c39acddeda33",
   "metadata": {},
   "outputs": [
    {
     "data": {
      "text/plain": [
       "94"
      ]
     },
     "execution_count": 779,
     "metadata": {},
     "output_type": "execute_result"
    }
   ],
   "source": [
    "len([price for price in data['Price'] if price>maximum or price<minimum])"
   ]
  },
  {
   "cell_type": "code",
   "execution_count": 780,
   "id": "ffd4fb85-4c99-4393-902d-2d69f3d9c675",
   "metadata": {},
   "outputs": [],
   "source": [
    "# replace outliers with the mean"
   ]
  },
  {
   "cell_type": "code",
   "execution_count": 781,
   "id": "f5944471-43d8-4c25-9f0e-e65b952ccb2e",
   "metadata": {},
   "outputs": [],
   "source": [
    "### wherever I have price >35K just replace replace it with median of Price\n",
    "\n",
    "data['Price'] = np.where(data['Price']>=35000 , data['Price'].median() , data['Price'])"
   ]
  },
  {
   "cell_type": "code",
   "execution_count": 782,
   "id": "e53fd0ea-2d33-45e8-acb7-194c004d7959",
   "metadata": {},
   "outputs": [
    {
     "data": {
      "text/plain": [
       "0         3897.0\n",
       "1         7662.0\n",
       "2        13882.0\n",
       "3         6218.0\n",
       "4        13302.0\n",
       "          ...   \n",
       "10678     4107.0\n",
       "10679     4145.0\n",
       "10680     7229.0\n",
       "10681    12648.0\n",
       "10682    11753.0\n",
       "Name: Price, Length: 10682, dtype: float64"
      ]
     },
     "execution_count": 782,
     "metadata": {},
     "output_type": "execute_result"
    }
   ],
   "source": [
    "data['Price']"
   ]
  },
  {
   "cell_type": "markdown",
   "id": "4902acbd-cf76-4b68-b4f3-443b5b2a19b7",
   "metadata": {},
   "source": [
    "  If Features Are Skewed We Use the below Technique which is IQR\n",
    "    Data which are greater than IQR +1.5 IQR and data which are below than IQR - 1.5 IQR are my outliers\n",
    "    where ,  IQR = 75th%ile data - 25th%ile data\n",
    "     \n",
    "     & IQR +- 1.5 IQR  will be changed depending upon the domain ie it could be sometimes IQR +- 3IQR "
   ]
  },
  {
   "cell_type": "code",
   "execution_count": 783,
   "id": "c3743529-38fe-408f-814b-74f50431d901",
   "metadata": {},
   "outputs": [
    {
     "data": {
      "image/png": "[encoded data removed]",
      "text/plain": [
       "<Figure size 640x480 with 3 Axes>"
      ]
     },
     "metadata": {},
     "output_type": "display_data"
    }
   ],
   "source": [
    "plot(data , 'Price')"
   ]
  },
  {
   "cell_type": "code",
   "execution_count": null,
   "id": "59abe920-e4a9-40c3-bd77-538e19d5820e",
   "metadata": {},
   "outputs": [],
   "source": []
  },
  {
   "cell_type": "code",
   "execution_count": 784,
   "id": "8d7d5265-baa9-4e88-8c92-c78668d17c03",
   "metadata": {},
   "outputs": [],
   "source": [
    "# feature selection"
   ]
  },
  {
   "cell_type": "code",
   "execution_count": 785,
   "id": "9ba83673-1f0d-4257-a1fc-249662ba85aa",
   "metadata": {},
   "outputs": [],
   "source": [
    "#independent and dependent data split"
   ]
  },
  {
   "cell_type": "code",
   "execution_count": null,
   "id": "f79892fc-c328-46fa-a4d7-c0c23d048403",
   "metadata": {},
   "outputs": [],
   "source": []
  },
  {
   "cell_type": "code",
   "execution_count": 786,
   "id": "03a6ce62-2155-463f-a58f-98354428ce1c",
   "metadata": {},
   "outputs": [
    {
     "data": {
      "text/html": [
       "<div>\n",
       "<style scoped>\n",
       "    .dataframe tbody tr th:only-of-type {\n",
       "        vertical-align: middle;\n",
       "    }\n",
       "\n",
       "    .dataframe tbody tr th {\n",
       "        vertical-align: top;\n",
       "    }\n",
       "\n",
       "    .dataframe thead th {\n",
       "        text-align: right;\n",
       "    }\n",
       "</style>\n",
       "<table border=\"1\" class=\"dataframe\">\n",
       "  <thead>\n",
       "    <tr style=\"text-align: right;\">\n",
       "      <th></th>\n",
       "      <th>Airline</th>\n",
       "      <th>Destination</th>\n",
       "      <th>Total_Stops</th>\n",
       "      <th>Journey_day</th>\n",
       "      <th>Journey_month</th>\n",
       "      <th>Dep_Time_hour</th>\n",
       "      <th>Dep_Time_min</th>\n",
       "      <th>Arrival_Time_hour</th>\n",
       "      <th>Arrival_Time_min</th>\n",
       "      <th>Duration_hours</th>\n",
       "      <th>Duration_mins</th>\n",
       "      <th>Source_Banglore</th>\n",
       "      <th>Source_Kolkata</th>\n",
       "      <th>Source_Delhi</th>\n",
       "      <th>Source_Chennai</th>\n",
       "      <th>Source_Mumbai</th>\n",
       "    </tr>\n",
       "  </thead>\n",
       "  <tbody>\n",
       "    <tr>\n",
       "      <th>0</th>\n",
       "      <td>3</td>\n",
       "      <td>2</td>\n",
       "      <td>0</td>\n",
       "      <td>24</td>\n",
       "      <td>3</td>\n",
       "      <td>22</td>\n",
       "      <td>20</td>\n",
       "      <td>1</td>\n",
       "      <td>10</td>\n",
       "      <td>2</td>\n",
       "      <td>50</td>\n",
       "      <td>1</td>\n",
       "      <td>0</td>\n",
       "      <td>0</td>\n",
       "      <td>0</td>\n",
       "      <td>0</td>\n",
       "    </tr>\n",
       "    <tr>\n",
       "      <th>1</th>\n",
       "      <td>7</td>\n",
       "      <td>3</td>\n",
       "      <td>2</td>\n",
       "      <td>1</td>\n",
       "      <td>5</td>\n",
       "      <td>5</td>\n",
       "      <td>50</td>\n",
       "      <td>13</td>\n",
       "      <td>15</td>\n",
       "      <td>7</td>\n",
       "      <td>25</td>\n",
       "      <td>0</td>\n",
       "      <td>1</td>\n",
       "      <td>0</td>\n",
       "      <td>0</td>\n",
       "      <td>0</td>\n",
       "    </tr>\n",
       "    <tr>\n",
       "      <th>2</th>\n",
       "      <td>10</td>\n",
       "      <td>4</td>\n",
       "      <td>2</td>\n",
       "      <td>9</td>\n",
       "      <td>6</td>\n",
       "      <td>9</td>\n",
       "      <td>25</td>\n",
       "      <td>4</td>\n",
       "      <td>25</td>\n",
       "      <td>19</td>\n",
       "      <td>0</td>\n",
       "      <td>0</td>\n",
       "      <td>0</td>\n",
       "      <td>1</td>\n",
       "      <td>0</td>\n",
       "      <td>0</td>\n",
       "    </tr>\n",
       "    <tr>\n",
       "      <th>3</th>\n",
       "      <td>3</td>\n",
       "      <td>3</td>\n",
       "      <td>1</td>\n",
       "      <td>12</td>\n",
       "      <td>5</td>\n",
       "      <td>18</td>\n",
       "      <td>5</td>\n",
       "      <td>23</td>\n",
       "      <td>30</td>\n",
       "      <td>5</td>\n",
       "      <td>25</td>\n",
       "      <td>0</td>\n",
       "      <td>1</td>\n",
       "      <td>0</td>\n",
       "      <td>0</td>\n",
       "      <td>0</td>\n",
       "    </tr>\n",
       "    <tr>\n",
       "      <th>4</th>\n",
       "      <td>3</td>\n",
       "      <td>2</td>\n",
       "      <td>1</td>\n",
       "      <td>1</td>\n",
       "      <td>3</td>\n",
       "      <td>16</td>\n",
       "      <td>50</td>\n",
       "      <td>21</td>\n",
       "      <td>35</td>\n",
       "      <td>4</td>\n",
       "      <td>45</td>\n",
       "      <td>1</td>\n",
       "      <td>0</td>\n",
       "      <td>0</td>\n",
       "      <td>0</td>\n",
       "      <td>0</td>\n",
       "    </tr>\n",
       "    <tr>\n",
       "      <th>...</th>\n",
       "      <td>...</td>\n",
       "      <td>...</td>\n",
       "      <td>...</td>\n",
       "      <td>...</td>\n",
       "      <td>...</td>\n",
       "      <td>...</td>\n",
       "      <td>...</td>\n",
       "      <td>...</td>\n",
       "      <td>...</td>\n",
       "      <td>...</td>\n",
       "      <td>...</td>\n",
       "      <td>...</td>\n",
       "      <td>...</td>\n",
       "      <td>...</td>\n",
       "      <td>...</td>\n",
       "      <td>...</td>\n",
       "    </tr>\n",
       "    <tr>\n",
       "      <th>10678</th>\n",
       "      <td>2</td>\n",
       "      <td>3</td>\n",
       "      <td>0</td>\n",
       "      <td>9</td>\n",
       "      <td>4</td>\n",
       "      <td>19</td>\n",
       "      <td>55</td>\n",
       "      <td>22</td>\n",
       "      <td>25</td>\n",
       "      <td>2</td>\n",
       "      <td>30</td>\n",
       "      <td>0</td>\n",
       "      <td>1</td>\n",
       "      <td>0</td>\n",
       "      <td>0</td>\n",
       "      <td>0</td>\n",
       "    </tr>\n",
       "    <tr>\n",
       "      <th>10679</th>\n",
       "      <td>7</td>\n",
       "      <td>3</td>\n",
       "      <td>0</td>\n",
       "      <td>27</td>\n",
       "      <td>4</td>\n",
       "      <td>20</td>\n",
       "      <td>45</td>\n",
       "      <td>23</td>\n",
       "      <td>20</td>\n",
       "      <td>2</td>\n",
       "      <td>35</td>\n",
       "      <td>0</td>\n",
       "      <td>1</td>\n",
       "      <td>0</td>\n",
       "      <td>0</td>\n",
       "      <td>0</td>\n",
       "    </tr>\n",
       "    <tr>\n",
       "      <th>10680</th>\n",
       "      <td>10</td>\n",
       "      <td>2</td>\n",
       "      <td>0</td>\n",
       "      <td>27</td>\n",
       "      <td>4</td>\n",
       "      <td>8</td>\n",
       "      <td>20</td>\n",
       "      <td>11</td>\n",
       "      <td>20</td>\n",
       "      <td>3</td>\n",
       "      <td>0</td>\n",
       "      <td>1</td>\n",
       "      <td>0</td>\n",
       "      <td>0</td>\n",
       "      <td>0</td>\n",
       "      <td>0</td>\n",
       "    </tr>\n",
       "    <tr>\n",
       "      <th>10681</th>\n",
       "      <td>5</td>\n",
       "      <td>2</td>\n",
       "      <td>0</td>\n",
       "      <td>1</td>\n",
       "      <td>3</td>\n",
       "      <td>11</td>\n",
       "      <td>30</td>\n",
       "      <td>14</td>\n",
       "      <td>10</td>\n",
       "      <td>2</td>\n",
       "      <td>40</td>\n",
       "      <td>1</td>\n",
       "      <td>0</td>\n",
       "      <td>0</td>\n",
       "      <td>0</td>\n",
       "      <td>0</td>\n",
       "    </tr>\n",
       "    <tr>\n",
       "      <th>10682</th>\n",
       "      <td>7</td>\n",
       "      <td>4</td>\n",
       "      <td>2</td>\n",
       "      <td>9</td>\n",
       "      <td>5</td>\n",
       "      <td>10</td>\n",
       "      <td>55</td>\n",
       "      <td>19</td>\n",
       "      <td>15</td>\n",
       "      <td>8</td>\n",
       "      <td>20</td>\n",
       "      <td>0</td>\n",
       "      <td>0</td>\n",
       "      <td>1</td>\n",
       "      <td>0</td>\n",
       "      <td>0</td>\n",
       "    </tr>\n",
       "  </tbody>\n",
       "</table>\n",
       "<p>10682 rows × 16 columns</p>\n",
       "</div>"
      ],
      "text/plain": [
       "       Airline  Destination  Total_Stops  Journey_day  Journey_month  \\\n",
       "0            3            2            0           24              3   \n",
       "1            7            3            2            1              5   \n",
       "2           10            4            2            9              6   \n",
       "3            3            3            1           12              5   \n",
       "4            3            2            1            1              3   \n",
       "...        ...          ...          ...          ...            ...   \n",
       "10678        2            3            0            9              4   \n",
       "10679        7            3            0           27              4   \n",
       "10680       10            2            0           27              4   \n",
       "10681        5            2            0            1              3   \n",
       "10682        7            4            2            9              5   \n",
       "\n",
       "       Dep_Time_hour  Dep_Time_min  Arrival_Time_hour  Arrival_Time_min  \\\n",
       "0                 22            20                  1                10   \n",
       "1                  5            50                 13                15   \n",
       "2                  9            25                  4                25   \n",
       "3                 18             5                 23                30   \n",
       "4                 16            50                 21                35   \n",
       "...              ...           ...                ...               ...   \n",
       "10678             19            55                 22                25   \n",
       "10679             20            45                 23                20   \n",
       "10680              8            20                 11                20   \n",
       "10681             11            30                 14                10   \n",
       "10682             10            55                 19                15   \n",
       "\n",
       "       Duration_hours  Duration_mins  Source_Banglore  Source_Kolkata  \\\n",
       "0                   2             50                1               0   \n",
       "1                   7             25                0               1   \n",
       "2                  19              0                0               0   \n",
       "3                   5             25                0               1   \n",
       "4                   4             45                1               0   \n",
       "...               ...            ...              ...             ...   \n",
       "10678               2             30                0               1   \n",
       "10679               2             35                0               1   \n",
       "10680               3              0                1               0   \n",
       "10681               2             40                1               0   \n",
       "10682               8             20                0               0   \n",
       "\n",
       "       Source_Delhi  Source_Chennai  Source_Mumbai  \n",
       "0                 0               0              0  \n",
       "1                 0               0              0  \n",
       "2                 1               0              0  \n",
       "3                 0               0              0  \n",
       "4                 0               0              0  \n",
       "...             ...             ...            ...  \n",
       "10678             0               0              0  \n",
       "10679             0               0              0  \n",
       "10680             0               0              0  \n",
       "10681             0               0              0  \n",
       "10682             1               0              0  \n",
       "\n",
       "[10682 rows x 16 columns]"
      ]
     },
     "execution_count": 786,
     "metadata": {},
     "output_type": "execute_result"
    }
   ],
   "source": [
    "#independent data\n",
    "X = data.drop(['Price'], axis=1)\n",
    "X"
   ]
  },
  {
   "cell_type": "code",
   "execution_count": 787,
   "id": "7fccdded-4745-4535-adb2-bd3438bffb7f",
   "metadata": {},
   "outputs": [
    {
     "data": {
      "text/plain": [
       "0         3897.0\n",
       "1         7662.0\n",
       "2        13882.0\n",
       "3         6218.0\n",
       "4        13302.0\n",
       "          ...   \n",
       "10678     4107.0\n",
       "10679     4145.0\n",
       "10680     7229.0\n",
       "10681    12648.0\n",
       "10682    11753.0\n",
       "Name: Price, Length: 10682, dtype: float64"
      ]
     },
     "execution_count": 787,
     "metadata": {},
     "output_type": "execute_result"
    }
   ],
   "source": [
    "y = data['Price']\n",
    "y\n",
    "#dependent data"
   ]
  },
  {
   "cell_type": "code",
   "execution_count": 788,
   "id": "62c3ea94-b6d1-4f87-a3df-b6b2afe627ff",
   "metadata": {},
   "outputs": [],
   "source": [
    "from sklearn.feature_selection import mutual_info_regression"
   ]
  },
  {
   "cell_type": "code",
   "execution_count": 789,
   "id": "1a7dda75-e6bd-442c-82d8-f0fe4c592b20",
   "metadata": {},
   "outputs": [],
   "source": [
    "imp = mutual_info_regression(X , y)"
   ]
  },
  {
   "cell_type": "code",
   "execution_count": 790,
   "id": "53973f22-c722-409e-9416-a5ddac86e350",
   "metadata": {},
   "outputs": [
    {
     "data": {
      "text/plain": [
       "'\\nEstimate mutual information for a continuous target variable.\\n\\nMutual information between two random variables is a non-negative\\nvalue, which measures the dependency between the variables. \\nIf It is equal to zero it means two random variables are independent, and higher\\nvalues mean higher dependency.\\n\\n'"
      ]
     },
     "execution_count": 790,
     "metadata": {},
     "output_type": "execute_result"
    }
   ],
   "source": [
    "'''\n",
    "Estimate mutual information for a continuous target variable.\n",
    "\n",
    "Mutual information between two random variables is a non-negative\n",
    "value, which measures the dependency between the variables. \n",
    "If It is equal to zero it means two random variables are independent, and higher\n",
    "values mean higher dependency.\n",
    "\n",
    "'''"
   ]
  },
  {
   "cell_type": "code",
   "execution_count": 791,
   "id": "e631bf2b-94c9-4148-b5e4-80d796b7daad",
   "metadata": {},
   "outputs": [
    {
     "data": {
      "text/plain": [
       "array([1.32371315, 1.05650848, 0.7904674 , 0.37652018, 0.61675476,\n",
       "       0.92618167, 0.75675507, 1.14369904, 0.9000586 , 1.12390311,\n",
       "       0.66790469, 0.38823237, 0.45628078, 0.51260523, 0.13051174,\n",
       "       0.20868583])"
      ]
     },
     "execution_count": 791,
     "metadata": {},
     "output_type": "execute_result"
    }
   ],
   "source": [
    "imp"
   ]
  },
  {
   "cell_type": "code",
   "execution_count": 792,
   "id": "b224e5fc-1d62-4499-b805-54a9df847b40",
   "metadata": {},
   "outputs": [],
   "source": [
    "imp_df = pd.DataFrame(imp, index=X.columns)\n",
    "imp_df.columns = ['importance']"
   ]
  },
  {
   "cell_type": "code",
   "execution_count": 793,
   "id": "69fa2734-2883-41e3-aec6-ce8108e3f297",
   "metadata": {},
   "outputs": [
    {
     "data": {
      "text/html": [
       "<div>\n",
       "<style scoped>\n",
       "    .dataframe tbody tr th:only-of-type {\n",
       "        vertical-align: middle;\n",
       "    }\n",
       "\n",
       "    .dataframe tbody tr th {\n",
       "        vertical-align: top;\n",
       "    }\n",
       "\n",
       "    .dataframe thead th {\n",
       "        text-align: right;\n",
       "    }\n",
       "</style>\n",
       "<table border=\"1\" class=\"dataframe\">\n",
       "  <thead>\n",
       "    <tr style=\"text-align: right;\">\n",
       "      <th></th>\n",
       "      <th>importance</th>\n",
       "    </tr>\n",
       "  </thead>\n",
       "  <tbody>\n",
       "    <tr>\n",
       "      <th>Airline</th>\n",
       "      <td>1.323713</td>\n",
       "    </tr>\n",
       "    <tr>\n",
       "      <th>Destination</th>\n",
       "      <td>1.056508</td>\n",
       "    </tr>\n",
       "    <tr>\n",
       "      <th>Total_Stops</th>\n",
       "      <td>0.790467</td>\n",
       "    </tr>\n",
       "    <tr>\n",
       "      <th>Journey_day</th>\n",
       "      <td>0.376520</td>\n",
       "    </tr>\n",
       "    <tr>\n",
       "      <th>Journey_month</th>\n",
       "      <td>0.616755</td>\n",
       "    </tr>\n",
       "    <tr>\n",
       "      <th>Dep_Time_hour</th>\n",
       "      <td>0.926182</td>\n",
       "    </tr>\n",
       "    <tr>\n",
       "      <th>Dep_Time_min</th>\n",
       "      <td>0.756755</td>\n",
       "    </tr>\n",
       "    <tr>\n",
       "      <th>Arrival_Time_hour</th>\n",
       "      <td>1.143699</td>\n",
       "    </tr>\n",
       "    <tr>\n",
       "      <th>Arrival_Time_min</th>\n",
       "      <td>0.900059</td>\n",
       "    </tr>\n",
       "    <tr>\n",
       "      <th>Duration_hours</th>\n",
       "      <td>1.123903</td>\n",
       "    </tr>\n",
       "    <tr>\n",
       "      <th>Duration_mins</th>\n",
       "      <td>0.667905</td>\n",
       "    </tr>\n",
       "    <tr>\n",
       "      <th>Source_Banglore</th>\n",
       "      <td>0.388232</td>\n",
       "    </tr>\n",
       "    <tr>\n",
       "      <th>Source_Kolkata</th>\n",
       "      <td>0.456281</td>\n",
       "    </tr>\n",
       "    <tr>\n",
       "      <th>Source_Delhi</th>\n",
       "      <td>0.512605</td>\n",
       "    </tr>\n",
       "    <tr>\n",
       "      <th>Source_Chennai</th>\n",
       "      <td>0.130512</td>\n",
       "    </tr>\n",
       "    <tr>\n",
       "      <th>Source_Mumbai</th>\n",
       "      <td>0.208686</td>\n",
       "    </tr>\n",
       "  </tbody>\n",
       "</table>\n",
       "</div>"
      ],
      "text/plain": [
       "                   importance\n",
       "Airline              1.323713\n",
       "Destination          1.056508\n",
       "Total_Stops          0.790467\n",
       "Journey_day          0.376520\n",
       "Journey_month        0.616755\n",
       "Dep_Time_hour        0.926182\n",
       "Dep_Time_min         0.756755\n",
       "Arrival_Time_hour    1.143699\n",
       "Arrival_Time_min     0.900059\n",
       "Duration_hours       1.123903\n",
       "Duration_mins        0.667905\n",
       "Source_Banglore      0.388232\n",
       "Source_Kolkata       0.456281\n",
       "Source_Delhi         0.512605\n",
       "Source_Chennai       0.130512\n",
       "Source_Mumbai        0.208686"
      ]
     },
     "execution_count": 793,
     "metadata": {},
     "output_type": "execute_result"
    }
   ],
   "source": [
    "imp_df"
   ]
  },
  {
   "cell_type": "code",
   "execution_count": 794,
   "id": "99bb49e1-50de-43a6-8a18-d47a04d3d349",
   "metadata": {},
   "outputs": [
    {
     "data": {
      "text/html": [
       "<div>\n",
       "<style scoped>\n",
       "    .dataframe tbody tr th:only-of-type {\n",
       "        vertical-align: middle;\n",
       "    }\n",
       "\n",
       "    .dataframe tbody tr th {\n",
       "        vertical-align: top;\n",
       "    }\n",
       "\n",
       "    .dataframe thead th {\n",
       "        text-align: right;\n",
       "    }\n",
       "</style>\n",
       "<table border=\"1\" class=\"dataframe\">\n",
       "  <thead>\n",
       "    <tr style=\"text-align: right;\">\n",
       "      <th></th>\n",
       "      <th>importance</th>\n",
       "    </tr>\n",
       "  </thead>\n",
       "  <tbody>\n",
       "    <tr>\n",
       "      <th>Airline</th>\n",
       "      <td>1.323713</td>\n",
       "    </tr>\n",
       "    <tr>\n",
       "      <th>Arrival_Time_hour</th>\n",
       "      <td>1.143699</td>\n",
       "    </tr>\n",
       "    <tr>\n",
       "      <th>Duration_hours</th>\n",
       "      <td>1.123903</td>\n",
       "    </tr>\n",
       "    <tr>\n",
       "      <th>Destination</th>\n",
       "      <td>1.056508</td>\n",
       "    </tr>\n",
       "    <tr>\n",
       "      <th>Dep_Time_hour</th>\n",
       "      <td>0.926182</td>\n",
       "    </tr>\n",
       "    <tr>\n",
       "      <th>Arrival_Time_min</th>\n",
       "      <td>0.900059</td>\n",
       "    </tr>\n",
       "    <tr>\n",
       "      <th>Total_Stops</th>\n",
       "      <td>0.790467</td>\n",
       "    </tr>\n",
       "    <tr>\n",
       "      <th>Dep_Time_min</th>\n",
       "      <td>0.756755</td>\n",
       "    </tr>\n",
       "    <tr>\n",
       "      <th>Duration_mins</th>\n",
       "      <td>0.667905</td>\n",
       "    </tr>\n",
       "    <tr>\n",
       "      <th>Journey_month</th>\n",
       "      <td>0.616755</td>\n",
       "    </tr>\n",
       "    <tr>\n",
       "      <th>Source_Delhi</th>\n",
       "      <td>0.512605</td>\n",
       "    </tr>\n",
       "    <tr>\n",
       "      <th>Source_Kolkata</th>\n",
       "      <td>0.456281</td>\n",
       "    </tr>\n",
       "    <tr>\n",
       "      <th>Source_Banglore</th>\n",
       "      <td>0.388232</td>\n",
       "    </tr>\n",
       "    <tr>\n",
       "      <th>Journey_day</th>\n",
       "      <td>0.376520</td>\n",
       "    </tr>\n",
       "    <tr>\n",
       "      <th>Source_Mumbai</th>\n",
       "      <td>0.208686</td>\n",
       "    </tr>\n",
       "    <tr>\n",
       "      <th>Source_Chennai</th>\n",
       "      <td>0.130512</td>\n",
       "    </tr>\n",
       "  </tbody>\n",
       "</table>\n",
       "</div>"
      ],
      "text/plain": [
       "                   importance\n",
       "Airline              1.323713\n",
       "Arrival_Time_hour    1.143699\n",
       "Duration_hours       1.123903\n",
       "Destination          1.056508\n",
       "Dep_Time_hour        0.926182\n",
       "Arrival_Time_min     0.900059\n",
       "Total_Stops          0.790467\n",
       "Dep_Time_min         0.756755\n",
       "Duration_mins        0.667905\n",
       "Journey_month        0.616755\n",
       "Source_Delhi         0.512605\n",
       "Source_Kolkata       0.456281\n",
       "Source_Banglore      0.388232\n",
       "Journey_day          0.376520\n",
       "Source_Mumbai        0.208686\n",
       "Source_Chennai       0.130512"
      ]
     },
     "execution_count": 794,
     "metadata": {},
     "output_type": "execute_result"
    }
   ],
   "source": [
    "imp_df.sort_values(by='importance' , ascending=False)"
   ]
  },
  {
   "cell_type": "code",
   "execution_count": null,
   "id": "ef5c4c1a-0a1f-4fdf-ac81-ea0e8e88e5dd",
   "metadata": {},
   "outputs": [],
   "source": []
  },
  {
   "cell_type": "markdown",
   "id": "15b9ddcc-d9e3-42e1-ad98-7c9f36b0784f",
   "metadata": {},
   "source": [
    " Build ML model\n",
    "split dataset into train & test"
   ]
  },
  {
   "cell_type": "code",
   "execution_count": 795,
   "id": "bba6995d-6b03-4000-8411-5217598e6f94",
   "metadata": {},
   "outputs": [],
   "source": [
    "from sklearn.model_selection import train_test_split"
   ]
  },
  {
   "cell_type": "code",
   "execution_count": 796,
   "id": "91ab17ee-92b2-405c-9fe1-207a64a13c50",
   "metadata": {},
   "outputs": [],
   "source": [
    "X_train, X_test, y_train, y_test = train_test_split(X, y, test_size=0.25, random_state=42)"
   ]
  },
  {
   "cell_type": "code",
   "execution_count": 797,
   "id": "47751171-e8d8-467d-9f9f-ca422e9b1d6f",
   "metadata": {},
   "outputs": [],
   "source": [
    "from sklearn.ensemble import RandomForestRegressor"
   ]
  },
  {
   "cell_type": "code",
   "execution_count": 798,
   "id": "084be543-062c-4205-b5ae-1ce5ff342625",
   "metadata": {},
   "outputs": [],
   "source": [
    "ml_model = RandomForestRegressor()"
   ]
  },
  {
   "cell_type": "code",
   "execution_count": 799,
   "id": "fdc17b01-e18b-49e8-b163-2899e7d37bad",
   "metadata": {},
   "outputs": [
    {
     "data": {
      "text/html": [
       "<style>#sk-container-id-5 {\n",
       "  /* Definition of color scheme common for light and dark mode */\n",
       "  --sklearn-color-text: black;\n",
       "  --sklearn-color-line: gray;\n",
       "  /* Definition of color scheme for unfitted estimators */\n",
       "  --sklearn-color-unfitted-level-0: #fff5e6;\n",
       "  --sklearn-color-unfitted-level-1: #f6e4d2;\n",
       "  --sklearn-color-unfitted-level-2: #ffe0b3;\n",
       "  --sklearn-color-unfitted-level-3: chocolate;\n",
       "  /* Definition of color scheme for fitted estimators */\n",
       "  --sklearn-color-fitted-level-0: #f0f8ff;\n",
       "  --sklearn-color-fitted-level-1: #d4ebff;\n",
       "  --sklearn-color-fitted-level-2: #b3dbfd;\n",
       "  --sklearn-color-fitted-level-3: cornflowerblue;\n",
       "\n",
       "  /* Specific color for light theme */\n",
       "  --sklearn-color-text-on-default-background: var(--sg-text-color, var(--theme-code-foreground, var(--jp-content-font-color1, black)));\n",
       "  --sklearn-color-background: var(--sg-background-color, var(--theme-background, var(--jp-layout-color0, white)));\n",
       "  --sklearn-color-border-box: var(--sg-text-color, var(--theme-code-foreground, var(--jp-content-font-color1, black)));\n",
       "  --sklearn-color-icon: #696969;\n",
       "\n",
       "  @media (prefers-color-scheme: dark) {\n",
       "    /* Redefinition of color scheme for dark theme */\n",
       "    --sklearn-color-text-on-default-background: var(--sg-text-color, var(--theme-code-foreground, var(--jp-content-font-color1, white)));\n",
       "    --sklearn-color-background: var(--sg-background-color, var(--theme-background, var(--jp-layout-color0, #111)));\n",
       "    --sklearn-color-border-box: var(--sg-text-color, var(--theme-code-foreground, var(--jp-content-font-color1, white)));\n",
       "    --sklearn-color-icon: #878787;\n",
       "  }\n",
       "}\n",
       "\n",
       "#sk-container-id-5 {\n",
       "  color: var(--sklearn-color-text);\n",
       "}\n",
       "\n",
       "#sk-container-id-5 pre {\n",
       "  padding: 0;\n",
       "}\n",
       "\n",
       "#sk-container-id-5 input.sk-hidden--visually {\n",
       "  border: 0;\n",
       "  clip: rect(1px 1px 1px 1px);\n",
       "  clip: rect(1px, 1px, 1px, 1px);\n",
       "  height: 1px;\n",
       "  margin: -1px;\n",
       "  overflow: hidden;\n",
       "  padding: 0;\n",
       "  position: absolute;\n",
       "  width: 1px;\n",
       "}\n",
       "\n",
       "#sk-container-id-5 div.sk-dashed-wrapped {\n",
       "  border: 1px dashed var(--sklearn-color-line);\n",
       "  margin: 0 0.4em 0.5em 0.4em;\n",
       "  box-sizing: border-box;\n",
       "  padding-bottom: 0.4em;\n",
       "  background-color: var(--sklearn-color-background);\n",
       "}\n",
       "\n",
       "#sk-container-id-5 div.sk-container {\n",
       "  /* jupyter's `normalize.less` sets `[hidden] { display: none; }`\n",
       "     but bootstrap.min.css set `[hidden] { display: none !important; }`\n",
       "     so we also need the `!important` here to be able to override the\n",
       "     default hidden behavior on the sphinx rendered scikit-learn.org.\n",
       "     See: https://github.com/scikit-learn/scikit-learn/issues/21755 */\n",
       "  display: inline-block !important;\n",
       "  position: relative;\n",
       "}\n",
       "\n",
       "#sk-container-id-5 div.sk-text-repr-fallback {\n",
       "  display: none;\n",
       "}\n",
       "\n",
       "div.sk-parallel-item,\n",
       "div.sk-serial,\n",
       "div.sk-item {\n",
       "  /* draw centered vertical line to link estimators */\n",
       "  background-image: linear-gradient(var(--sklearn-color-text-on-default-background), var(--sklearn-color-text-on-default-background));\n",
       "  background-size: 2px 100%;\n",
       "  background-repeat: no-repeat;\n",
       "  background-position: center center;\n",
       "}\n",
       "\n",
       "/* Parallel-specific style estimator block */\n",
       "\n",
       "#sk-container-id-5 div.sk-parallel-item::after {\n",
       "  content: \"\";\n",
       "  width: 100%;\n",
       "  border-bottom: 2px solid var(--sklearn-color-text-on-default-background);\n",
       "  flex-grow: 1;\n",
       "}\n",
       "\n",
       "#sk-container-id-5 div.sk-parallel {\n",
       "  display: flex;\n",
       "  align-items: stretch;\n",
       "  justify-content: center;\n",
       "  background-color: var(--sklearn-color-background);\n",
       "  position: relative;\n",
       "}\n",
       "\n",
       "#sk-container-id-5 div.sk-parallel-item {\n",
       "  display: flex;\n",
       "  flex-direction: column;\n",
       "}\n",
       "\n",
       "#sk-container-id-5 div.sk-parallel-item:first-child::after {\n",
       "  align-self: flex-end;\n",
       "  width: 50%;\n",
       "}\n",
       "\n",
       "#sk-container-id-5 div.sk-parallel-item:last-child::after {\n",
       "  align-self: flex-start;\n",
       "  width: 50%;\n",
       "}\n",
       "\n",
       "#sk-container-id-5 div.sk-parallel-item:only-child::after {\n",
       "  width: 0;\n",
       "}\n",
       "\n",
       "/* Serial-specific style estimator block */\n",
       "\n",
       "#sk-container-id-5 div.sk-serial {\n",
       "  display: flex;\n",
       "  flex-direction: column;\n",
       "  align-items: center;\n",
       "  background-color: var(--sklearn-color-background);\n",
       "  padding-right: 1em;\n",
       "  padding-left: 1em;\n",
       "}\n",
       "\n",
       "\n",
       "/* Toggleable style: style used for estimator/Pipeline/ColumnTransformer box that is\n",
       "clickable and can be expanded/collapsed.\n",
       "- Pipeline and ColumnTransformer use this feature and define the default style\n",
       "- Estimators will overwrite some part of the style using the `sk-estimator` class\n",
       "*/\n",
       "\n",
       "/* Pipeline and ColumnTransformer style (default) */\n",
       "\n",
       "#sk-container-id-5 div.sk-toggleable {\n",
       "  /* Default theme specific background. It is overwritten whether we have a\n",
       "  specific estimator or a Pipeline/ColumnTransformer */\n",
       "  background-color: var(--sklearn-color-background);\n",
       "}\n",
       "\n",
       "/* Toggleable label */\n",
       "#sk-container-id-5 label.sk-toggleable__label {\n",
       "  cursor: pointer;\n",
       "  display: block;\n",
       "  width: 100%;\n",
       "  margin-bottom: 0;\n",
       "  padding: 0.5em;\n",
       "  box-sizing: border-box;\n",
       "  text-align: center;\n",
       "}\n",
       "\n",
       "#sk-container-id-5 label.sk-toggleable__label-arrow:before {\n",
       "  /* Arrow on the left of the label */\n",
       "  content: \"▸\";\n",
       "  float: left;\n",
       "  margin-right: 0.25em;\n",
       "  color: var(--sklearn-color-icon);\n",
       "}\n",
       "\n",
       "#sk-container-id-5 label.sk-toggleable__label-arrow:hover:before {\n",
       "  color: var(--sklearn-color-text);\n",
       "}\n",
       "\n",
       "/* Toggleable content - dropdown */\n",
       "\n",
       "#sk-container-id-5 div.sk-toggleable__content {\n",
       "  max-height: 0;\n",
       "  max-width: 0;\n",
       "  overflow: hidden;\n",
       "  text-align: left;\n",
       "  /* unfitted */\n",
       "  background-color: var(--sklearn-color-unfitted-level-0);\n",
       "}\n",
       "\n",
       "#sk-container-id-5 div.sk-toggleable__content.fitted {\n",
       "  /* fitted */\n",
       "  background-color: var(--sklearn-color-fitted-level-0);\n",
       "}\n",
       "\n",
       "#sk-container-id-5 div.sk-toggleable__content pre {\n",
       "  margin: 0.2em;\n",
       "  border-radius: 0.25em;\n",
       "  color: var(--sklearn-color-text);\n",
       "  /* unfitted */\n",
       "  background-color: var(--sklearn-color-unfitted-level-0);\n",
       "}\n",
       "\n",
       "#sk-container-id-5 div.sk-toggleable__content.fitted pre {\n",
       "  /* unfitted */\n",
       "  background-color: var(--sklearn-color-fitted-level-0);\n",
       "}\n",
       "\n",
       "#sk-container-id-5 input.sk-toggleable__control:checked~div.sk-toggleable__content {\n",
       "  /* Expand drop-down */\n",
       "  max-height: 200px;\n",
       "  max-width: 100%;\n",
       "  overflow: auto;\n",
       "}\n",
       "\n",
       "#sk-container-id-5 input.sk-toggleable__control:checked~label.sk-toggleable__label-arrow:before {\n",
       "  content: \"▾\";\n",
       "}\n",
       "\n",
       "/* Pipeline/ColumnTransformer-specific style */\n",
       "\n",
       "#sk-container-id-5 div.sk-label input.sk-toggleable__control:checked~label.sk-toggleable__label {\n",
       "  color: var(--sklearn-color-text);\n",
       "  background-color: var(--sklearn-color-unfitted-level-2);\n",
       "}\n",
       "\n",
       "#sk-container-id-5 div.sk-label.fitted input.sk-toggleable__control:checked~label.sk-toggleable__label {\n",
       "  background-color: var(--sklearn-color-fitted-level-2);\n",
       "}\n",
       "\n",
       "/* Estimator-specific style */\n",
       "\n",
       "/* Colorize estimator box */\n",
       "#sk-container-id-5 div.sk-estimator input.sk-toggleable__control:checked~label.sk-toggleable__label {\n",
       "  /* unfitted */\n",
       "  background-color: var(--sklearn-color-unfitted-level-2);\n",
       "}\n",
       "\n",
       "#sk-container-id-5 div.sk-estimator.fitted input.sk-toggleable__control:checked~label.sk-toggleable__label {\n",
       "  /* fitted */\n",
       "  background-color: var(--sklearn-color-fitted-level-2);\n",
       "}\n",
       "\n",
       "#sk-container-id-5 div.sk-label label.sk-toggleable__label,\n",
       "#sk-container-id-5 div.sk-label label {\n",
       "  /* The background is the default theme color */\n",
       "  color: var(--sklearn-color-text-on-default-background);\n",
       "}\n",
       "\n",
       "/* On hover, darken the color of the background */\n",
       "#sk-container-id-5 div.sk-label:hover label.sk-toggleable__label {\n",
       "  color: var(--sklearn-color-text);\n",
       "  background-color: var(--sklearn-color-unfitted-level-2);\n",
       "}\n",
       "\n",
       "/* Label box, darken color on hover, fitted */\n",
       "#sk-container-id-5 div.sk-label.fitted:hover label.sk-toggleable__label.fitted {\n",
       "  color: var(--sklearn-color-text);\n",
       "  background-color: var(--sklearn-color-fitted-level-2);\n",
       "}\n",
       "\n",
       "/* Estimator label */\n",
       "\n",
       "#sk-container-id-5 div.sk-label label {\n",
       "  font-family: monospace;\n",
       "  font-weight: bold;\n",
       "  display: inline-block;\n",
       "  line-height: 1.2em;\n",
       "}\n",
       "\n",
       "#sk-container-id-5 div.sk-label-container {\n",
       "  text-align: center;\n",
       "}\n",
       "\n",
       "/* Estimator-specific */\n",
       "#sk-container-id-5 div.sk-estimator {\n",
       "  font-family: monospace;\n",
       "  border: 1px dotted var(--sklearn-color-border-box);\n",
       "  border-radius: 0.25em;\n",
       "  box-sizing: border-box;\n",
       "  margin-bottom: 0.5em;\n",
       "  /* unfitted */\n",
       "  background-color: var(--sklearn-color-unfitted-level-0);\n",
       "}\n",
       "\n",
       "#sk-container-id-5 div.sk-estimator.fitted {\n",
       "  /* fitted */\n",
       "  background-color: var(--sklearn-color-fitted-level-0);\n",
       "}\n",
       "\n",
       "/* on hover */\n",
       "#sk-container-id-5 div.sk-estimator:hover {\n",
       "  /* unfitted */\n",
       "  background-color: var(--sklearn-color-unfitted-level-2);\n",
       "}\n",
       "\n",
       "#sk-container-id-5 div.sk-estimator.fitted:hover {\n",
       "  /* fitted */\n",
       "  background-color: var(--sklearn-color-fitted-level-2);\n",
       "}\n",
       "\n",
       "/* Specification for estimator info (e.g. \"i\" and \"?\") */\n",
       "\n",
       "/* Common style for \"i\" and \"?\" */\n",
       "\n",
       ".sk-estimator-doc-link,\n",
       "a:link.sk-estimator-doc-link,\n",
       "a:visited.sk-estimator-doc-link {\n",
       "  float: right;\n",
       "  font-size: smaller;\n",
       "  line-height: 1em;\n",
       "  font-family: monospace;\n",
       "  background-color: var(--sklearn-color-background);\n",
       "  border-radius: 1em;\n",
       "  height: 1em;\n",
       "  width: 1em;\n",
       "  text-decoration: none !important;\n",
       "  margin-left: 1ex;\n",
       "  /* unfitted */\n",
       "  border: var(--sklearn-color-unfitted-level-1) 1pt solid;\n",
       "  color: var(--sklearn-color-unfitted-level-1);\n",
       "}\n",
       "\n",
       ".sk-estimator-doc-link.fitted,\n",
       "a:link.sk-estimator-doc-link.fitted,\n",
       "a:visited.sk-estimator-doc-link.fitted {\n",
       "  /* fitted */\n",
       "  border: var(--sklearn-color-fitted-level-1) 1pt solid;\n",
       "  color: var(--sklearn-color-fitted-level-1);\n",
       "}\n",
       "\n",
       "/* On hover */\n",
       "div.sk-estimator:hover .sk-estimator-doc-link:hover,\n",
       ".sk-estimator-doc-link:hover,\n",
       "div.sk-label-container:hover .sk-estimator-doc-link:hover,\n",
       ".sk-estimator-doc-link:hover {\n",
       "  /* unfitted */\n",
       "  background-color: var(--sklearn-color-unfitted-level-3);\n",
       "  color: var(--sklearn-color-background);\n",
       "  text-decoration: none;\n",
       "}\n",
       "\n",
       "div.sk-estimator.fitted:hover .sk-estimator-doc-link.fitted:hover,\n",
       ".sk-estimator-doc-link.fitted:hover,\n",
       "div.sk-label-container:hover .sk-estimator-doc-link.fitted:hover,\n",
       ".sk-estimator-doc-link.fitted:hover {\n",
       "  /* fitted */\n",
       "  background-color: var(--sklearn-color-fitted-level-3);\n",
       "  color: var(--sklearn-color-background);\n",
       "  text-decoration: none;\n",
       "}\n",
       "\n",
       "/* Span, style for the box shown on hovering the info icon */\n",
       ".sk-estimator-doc-link span {\n",
       "  display: none;\n",
       "  z-index: 9999;\n",
       "  position: relative;\n",
       "  font-weight: normal;\n",
       "  right: .2ex;\n",
       "  padding: .5ex;\n",
       "  margin: .5ex;\n",
       "  width: min-content;\n",
       "  min-width: 20ex;\n",
       "  max-width: 50ex;\n",
       "  color: var(--sklearn-color-text);\n",
       "  box-shadow: 2pt 2pt 4pt #999;\n",
       "  /* unfitted */\n",
       "  background: var(--sklearn-color-unfitted-level-0);\n",
       "  border: .5pt solid var(--sklearn-color-unfitted-level-3);\n",
       "}\n",
       "\n",
       ".sk-estimator-doc-link.fitted span {\n",
       "  /* fitted */\n",
       "  background: var(--sklearn-color-fitted-level-0);\n",
       "  border: var(--sklearn-color-fitted-level-3);\n",
       "}\n",
       "\n",
       ".sk-estimator-doc-link:hover span {\n",
       "  display: block;\n",
       "}\n",
       "\n",
       "/* \"?\"-specific style due to the `<a>` HTML tag */\n",
       "\n",
       "#sk-container-id-5 a.estimator_doc_link {\n",
       "  float: right;\n",
       "  font-size: 1rem;\n",
       "  line-height: 1em;\n",
       "  font-family: monospace;\n",
       "  background-color: var(--sklearn-color-background);\n",
       "  border-radius: 1rem;\n",
       "  height: 1rem;\n",
       "  width: 1rem;\n",
       "  text-decoration: none;\n",
       "  /* unfitted */\n",
       "  color: var(--sklearn-color-unfitted-level-1);\n",
       "  border: var(--sklearn-color-unfitted-level-1) 1pt solid;\n",
       "}\n",
       "\n",
       "#sk-container-id-5 a.estimator_doc_link.fitted {\n",
       "  /* fitted */\n",
       "  border: var(--sklearn-color-fitted-level-1) 1pt solid;\n",
       "  color: var(--sklearn-color-fitted-level-1);\n",
       "}\n",
       "\n",
       "/* On hover */\n",
       "#sk-container-id-5 a.estimator_doc_link:hover {\n",
       "  /* unfitted */\n",
       "  background-color: var(--sklearn-color-unfitted-level-3);\n",
       "  color: var(--sklearn-color-background);\n",
       "  text-decoration: none;\n",
       "}\n",
       "\n",
       "#sk-container-id-5 a.estimator_doc_link.fitted:hover {\n",
       "  /* fitted */\n",
       "  background-color: var(--sklearn-color-fitted-level-3);\n",
       "}\n",
       "</style><div id=\"sk-container-id-5\" class=\"sk-top-container\"><div class=\"sk-text-repr-fallback\"><pre>RandomForestRegressor()</pre><b>In a Jupyter environment, please rerun this cell to show the HTML representation or trust the notebook. <br />On GitHub, the HTML representation is unable to render, please try loading this page with nbviewer.org.</b></div><div class=\"sk-container\" hidden><div class=\"sk-item\"><div class=\"sk-estimator fitted sk-toggleable\"><input class=\"sk-toggleable__control sk-hidden--visually\" id=\"sk-estimator-id-7\" type=\"checkbox\" checked><label for=\"sk-estimator-id-7\" class=\"sk-toggleable__label fitted sk-toggleable__label-arrow fitted\">&nbsp;&nbsp;RandomForestRegressor<a class=\"sk-estimator-doc-link fitted\" rel=\"noreferrer\" target=\"_blank\" href=\"https://scikit-learn.org/1.4/modules/generated/sklearn.ensemble.RandomForestRegressor.html\">?<span>Documentation for RandomForestRegressor</span></a><span class=\"sk-estimator-doc-link fitted\">i<span>Fitted</span></span></label><div class=\"sk-toggleable__content fitted\"><pre>RandomForestRegressor()</pre></div> </div></div></div></div>"
      ],
      "text/plain": [
       "RandomForestRegressor()"
      ]
     },
     "execution_count": 799,
     "metadata": {},
     "output_type": "execute_result"
    }
   ],
   "source": [
    "ml_model.fit(X_train , y_train)"
   ]
  },
  {
   "cell_type": "code",
   "execution_count": 800,
   "id": "d52231e5-247d-4e78-814b-d6aab754d8b8",
   "metadata": {},
   "outputs": [],
   "source": [
    "y_pred = ml_model.predict(X_test)"
   ]
  },
  {
   "cell_type": "code",
   "execution_count": 801,
   "id": "f8da4ec5-2634-481e-9d1d-113a63bcb0e5",
   "metadata": {},
   "outputs": [
    {
     "data": {
      "text/plain": [
       "array([16815.01,  5306.6 ,  8759.72, ...,  3577.64,  6442.63,  6793.94])"
      ]
     },
     "execution_count": 801,
     "metadata": {},
     "output_type": "execute_result"
    }
   ],
   "source": [
    "y_pred"
   ]
  },
  {
   "cell_type": "code",
   "execution_count": 802,
   "id": "2ca5e3f2-c4b0-49a2-ad73-6545711d47da",
   "metadata": {},
   "outputs": [],
   "source": [
    "from sklearn import metrics"
   ]
  },
  {
   "cell_type": "code",
   "execution_count": 803,
   "id": "9261b27d-5136-4197-933d-676fffbb836e",
   "metadata": {},
   "outputs": [
    {
     "data": {
      "text/plain": [
       "0.8115766668956144"
      ]
     },
     "execution_count": 803,
     "metadata": {},
     "output_type": "execute_result"
    }
   ],
   "source": [
    "metrics.r2_score(y_test , y_pred)"
   ]
  },
  {
   "cell_type": "markdown",
   "id": "9d273987-7266-47fe-94ae-2c5055ec5439",
   "metadata": {},
   "source": [
    "Save model\n",
    "lets try to dump ml model"
   ]
  },
  {
   "cell_type": "code",
   "execution_count": 804,
   "id": "4858d7b5-63ad-42c2-817f-b803d0ac1b68",
   "metadata": {},
   "outputs": [],
   "source": [
    "# we can use pickle\n",
    "import pickle"
   ]
  },
  {
   "cell_type": "code",
   "execution_count": 805,
   "id": "b9ca3621-5a4c-4b9c-bdbc-dbf9cca76e26",
   "metadata": {},
   "outputs": [],
   "source": [
    "#pen a file where we want to store\n",
    "file = open(r'C:\\Users\\HP\\Desktop\\New folder\\Course\\Predict Fare of Airline Tickets using Machine Learning/rf_random.pkl','wb')"
   ]
  },
  {
   "cell_type": "code",
   "execution_count": 806,
   "id": "023d7c77-dbc7-4657-a1e6-ff7100aae943",
   "metadata": {},
   "outputs": [],
   "source": [
    "pickle.dump(ml_model, file)"
   ]
  },
  {
   "cell_type": "code",
   "execution_count": 807,
   "id": "bb4c5f20-032f-4773-b903-de66fd5b087d",
   "metadata": {},
   "outputs": [],
   "source": [
    "model = open(r'C:\\Users\\HP\\Desktop\\New folder\\Course\\Predict Fare of Airline Tickets using Machine Learning/rf_random.pkl','rb')"
   ]
  },
  {
   "cell_type": "code",
   "execution_count": 808,
   "id": "dd796b51-02c7-4439-b678-848f2aea94ce",
   "metadata": {},
   "outputs": [
    {
     "data": {
      "text/plain": [
       "array([16815.01,  5306.6 ,  8759.72, ...,  3577.64,  6442.63,  6793.94])"
      ]
     },
     "execution_count": 808,
     "metadata": {},
     "output_type": "execute_result"
    }
   ],
   "source": [
    "forest = pickle.load(model)\n",
    "y_pred2 = forest.predict(X_test)\n",
    "y_pred2"
   ]
  },
  {
   "cell_type": "code",
   "execution_count": 809,
   "id": "416d2501-f5c7-4543-b3c3-0ab608efef69",
   "metadata": {},
   "outputs": [
    {
     "data": {
      "text/plain": [
       "0.8115766668956144"
      ]
     },
     "execution_count": 809,
     "metadata": {},
     "output_type": "execute_result"
    }
   ],
   "source": [
    "metrics.r2_score(y_test, y_pred2)"
   ]
  },
  {
   "cell_type": "code",
   "execution_count": null,
   "id": "0a704c21-bf82-402f-862c-9a1c7f7a2e01",
   "metadata": {},
   "outputs": [],
   "source": [
    "\n"
   ]
  },
  {
   "cell_type": "code",
   "execution_count": null,
   "id": "fbe3d5cb-a06f-4b44-bdc1-12dff71b18ec",
   "metadata": {},
   "outputs": [],
   "source": []
  },
  {
   "cell_type": "markdown",
   "id": "8724d039-ac63-4ba5-8601-b2508747e0d0",
   "metadata": {},
   "source": [
    "automate ml pipeline and\n",
    "define your Evaluation metric"
   ]
  },
  {
   "cell_type": "code",
   "execution_count": 810,
   "id": "f447eed5-7876-4834-a7be-9945c1e96b43",
   "metadata": {},
   "outputs": [],
   "source": [
    "#mean absolute percentage value (mape)\n",
    "def mape(y_true , y_pred):\n",
    "    y_true , y_pred = np.array(y_true) , np.array(y_pred)\n",
    "    return np.mean(np.abs((y_true - y_pred) / y_true)) * 100"
   ]
  },
  {
   "cell_type": "code",
   "execution_count": 811,
   "id": "df3008db-0d1b-429a-8795-13a95010efc8",
   "metadata": {},
   "outputs": [
    {
     "data": {
      "text/plain": [
       "13.18297112415878"
      ]
     },
     "execution_count": 811,
     "metadata": {},
     "output_type": "execute_result"
    }
   ],
   "source": [
    "mape(y_test, y_pred)"
   ]
  },
  {
   "cell_type": "code",
   "execution_count": 812,
   "id": "06f1adb0-20e6-4416-a314-039b9fe9b664",
   "metadata": {},
   "outputs": [],
   "source": [
    "from sklearn import metrics"
   ]
  },
  {
   "cell_type": "code",
   "execution_count": 813,
   "id": "db3c5a00-50c5-4a71-8a21-a7087b8219f5",
   "metadata": {},
   "outputs": [],
   "source": [
    "def predict(ml_model):\n",
    "    model = ml_model.fit(X_train , y_train)\n",
    "    print('Training score : {}'.format(model.score(X_train , y_train)))\n",
    "    y_predection = model.predict(X_test)\n",
    "    print('predictions are : {}'.format(y_predection))\n",
    "    print('\\n')\n",
    "    r2_score = metrics.r2_score(y_test , y_predection)\n",
    "    print('r2 score : {}'.format(r2_score))\n",
    "    print('MAE : {}'.format(metrics.mean_absolute_error(y_test , y_predection)))\n",
    "    print('MSE : {}'.format(metrics.mean_squared_error(y_test , y_predection)))\n",
    "    print('RMSE : {}'.format(np.sqrt(metrics.mean_squared_error(y_test , y_predection))))\n",
    "    print('MAPE : {}'.format(mape(y_test , y_predection)))\n",
    "    sns.distplot(y_test - y_predection)"
   ]
  },
  {
   "cell_type": "code",
   "execution_count": 814,
   "id": "b9c19bec-43e6-412f-9ca1-3cb3805c04ef",
   "metadata": {},
   "outputs": [
    {
     "name": "stdout",
     "output_type": "stream",
     "text": [
      "Training score : 0.9509357580819456\n",
      "predictions are : [16905.45  5409.79  8892.04 ...  3517.71  6239.14  6829.44]\n",
      "\n",
      "\n",
      "r2 score : 0.8100428535480666\n",
      "MAE : 1179.2665154982192\n",
      "MSE : 3698009.680713723\n",
      "RMSE : 1923.0209777102596\n",
      "MAPE : 13.215950677448557\n"
     ]
    },
    {
     "data": {
      "image/png": "[encoded data removed]",
      "text/plain": [
       "<Figure size 640x480 with 1 Axes>"
      ]
     },
     "metadata": {},
     "output_type": "display_data"
    }
   ],
   "source": [
    "predict(RandomForestRegressor())"
   ]
  },
  {
   "cell_type": "code",
   "execution_count": 815,
   "id": "e2d68c40-f813-402f-8b51-8763c57313e3",
   "metadata": {},
   "outputs": [],
   "source": [
    "from sklearn.tree import DecisionTreeRegressor"
   ]
  },
  {
   "cell_type": "code",
   "execution_count": 816,
   "id": "2e0a5b1b-beb1-4eab-abb7-0355694b80dd",
   "metadata": {},
   "outputs": [
    {
     "name": "stdout",
     "output_type": "stream",
     "text": [
      "Training score : 0.966591628243878\n",
      "predictions are : [16840.  4959.  8610. ...  3419.  5797.  6442.]\n",
      "\n",
      "\n",
      "r2 score : 0.6791131141099409\n",
      "MAE : 1406.230662673156\n",
      "MSE : 6246897.432394234\n",
      "RMSE : 2499.3794094523214\n",
      "MAPE : 15.517093277813101\n"
     ]
    },
    {
     "data": {
      "image/png": "[encoded data removed]",
      "text/plain": [
       "<Figure size 640x480 with 1 Axes>"
      ]
     },
     "metadata": {},
     "output_type": "display_data"
    }
   ],
   "source": [
    "predict(DecisionTreeRegressor())"
   ]
  },
  {
   "cell_type": "markdown",
   "id": "040e80f2-a0bd-4fa3-b2a1-3b634490545f",
   "metadata": {},
   "source": [
    "Hypertune ml model"
   ]
  },
  {
   "cell_type": "markdown",
   "id": "55b8d24d-31ec-40a2-ad31-bc4133f55f58",
   "metadata": {},
   "source": [
    "Hyperparameter Tuning or Hyperparameter Optimization\n",
    "1.Choose following method for hyperparameter tuning\n",
    "    a.RandomizedSearchCV --> Fast way to Hypertune model\n",
    "    b.GridSearchCV--> Slower way to hypertune my model\n",
    "2.Choose ML algo that u have to hypertune\n",
    "2.Assign hyperparameters in form of dictionary or create hyper-parameter space\n",
    "3.define searching &  apply searching on Training data or  Fit the CV model \n",
    "4.Check best parameters and best score"
   ]
  },
  {
   "cell_type": "code",
   "execution_count": 817,
   "id": "ddad1f03-c3ac-478a-afab-832537c48cac",
   "metadata": {},
   "outputs": [],
   "source": [
    "from sklearn.model_selection import RandomizedSearchCV"
   ]
  },
  {
   "cell_type": "code",
   "execution_count": 818,
   "id": "fe58dcda-a813-4db3-b02f-fd8ae2468bf2",
   "metadata": {},
   "outputs": [],
   "source": [
    "### initialise your estimator\n",
    "reg_rf = RandomForestRegressor()"
   ]
  },
  {
   "cell_type": "code",
   "execution_count": 819,
   "id": "f9ed3aef-7ef8-4be1-b290-36a3d669ece9",
   "metadata": {},
   "outputs": [
    {
     "data": {
      "text/plain": [
       "array([ 100.,  320.,  540.,  760.,  980., 1200.])"
      ]
     },
     "execution_count": 819,
     "metadata": {},
     "output_type": "execute_result"
    }
   ],
   "source": [
    "np.linspace(start =100 , stop=1200 , num=6)"
   ]
  },
  {
   "cell_type": "code",
   "execution_count": 820,
   "id": "79d82ad0-a078-4bea-a4ac-80e3f24be0a4",
   "metadata": {},
   "outputs": [],
   "source": [
    "# Number of trees in random forest\n",
    "n_estimators = [int(x) for x in np.linspace(start =100 , stop=1200 , num=6)]\n",
    "\n",
    "# Number of features to consider at every split\n",
    "max_features = [\"auto\", \"sqrt\"]\n",
    "\n",
    "# Maximum number of levels in tree\n",
    "max_depth = [int(x) for x in np.linspace(start =5 , stop=30 , num=4)]\n",
    "\n",
    "# Minimum number of samples required to split a node\n",
    "min_samples_split = [5,10,15,100]\n"
   ]
  },
  {
   "cell_type": "code",
   "execution_count": 821,
   "id": "ec3e2896-3cc8-4e6b-a792-78484945eb4a",
   "metadata": {},
   "outputs": [],
   "source": [
    "# Create the random grid or hyper-parameter space\n",
    "\n",
    "random_grid = {\n",
    "    'n_estimators' : n_estimators , \n",
    "    'max_features' : max_features , \n",
    "    'max_depth' : max_depth , \n",
    "    'min_samples_split' : min_samples_split\n",
    "}"
   ]
  },
  {
   "cell_type": "code",
   "execution_count": 822,
   "id": "fc359517-f419-4173-8611-3f65442f2843",
   "metadata": {},
   "outputs": [
    {
     "data": {
      "text/plain": [
       "{'n_estimators': [100, 320, 540, 760, 980, 1200],\n",
       " 'max_features': ['auto', 'sqrt'],\n",
       " 'max_depth': [5, 13, 21, 30],\n",
       " 'min_samples_split': [5, 10, 15, 100]}"
      ]
     },
     "execution_count": 822,
     "metadata": {},
     "output_type": "execute_result"
    }
   ],
   "source": [
    "random_grid"
   ]
  },
  {
   "cell_type": "code",
   "execution_count": 823,
   "id": "d9e9316d-2d42-4e9f-8d25-e25dcdfeeb99",
   "metadata": {},
   "outputs": [],
   "source": [
    "\n",
    "## Define searching\n",
    "\n",
    "# Random search of parameters, using 3 fold cross validation\n",
    "# search across 576 different combinations\n",
    "\n",
    "\n",
    "rf_random = RandomizedSearchCV(estimator=reg_rf , param_distributions=random_grid , cv=3 , n_jobs=-1 , verbose=2)"
   ]
  },
  {
   "cell_type": "code",
   "execution_count": 824,
   "id": "3553998b-b763-489a-b45e-d93cf31b3095",
   "metadata": {},
   "outputs": [
    {
     "name": "stdout",
     "output_type": "stream",
     "text": [
      "Fitting 3 folds for each of 10 candidates, totalling 30 fits\n"
     ]
    },
    {
     "data": {
      "text/html": [
       "<style>#sk-container-id-6 {\n",
       "  /* Definition of color scheme common for light and dark mode */\n",
       "  --sklearn-color-text: black;\n",
       "  --sklearn-color-line: gray;\n",
       "  /* Definition of color scheme for unfitted estimators */\n",
       "  --sklearn-color-unfitted-level-0: #fff5e6;\n",
       "  --sklearn-color-unfitted-level-1: #f6e4d2;\n",
       "  --sklearn-color-unfitted-level-2: #ffe0b3;\n",
       "  --sklearn-color-unfitted-level-3: chocolate;\n",
       "  /* Definition of color scheme for fitted estimators */\n",
       "  --sklearn-color-fitted-level-0: #f0f8ff;\n",
       "  --sklearn-color-fitted-level-1: #d4ebff;\n",
       "  --sklearn-color-fitted-level-2: #b3dbfd;\n",
       "  --sklearn-color-fitted-level-3: cornflowerblue;\n",
       "\n",
       "  /* Specific color for light theme */\n",
       "  --sklearn-color-text-on-default-background: var(--sg-text-color, var(--theme-code-foreground, var(--jp-content-font-color1, black)));\n",
       "  --sklearn-color-background: var(--sg-background-color, var(--theme-background, var(--jp-layout-color0, white)));\n",
       "  --sklearn-color-border-box: var(--sg-text-color, var(--theme-code-foreground, var(--jp-content-font-color1, black)));\n",
       "  --sklearn-color-icon: #696969;\n",
       "\n",
       "  @media (prefers-color-scheme: dark) {\n",
       "    /* Redefinition of color scheme for dark theme */\n",
       "    --sklearn-color-text-on-default-background: var(--sg-text-color, var(--theme-code-foreground, var(--jp-content-font-color1, white)));\n",
       "    --sklearn-color-background: var(--sg-background-color, var(--theme-background, var(--jp-layout-color0, #111)));\n",
       "    --sklearn-color-border-box: var(--sg-text-color, var(--theme-code-foreground, var(--jp-content-font-color1, white)));\n",
       "    --sklearn-color-icon: #878787;\n",
       "  }\n",
       "}\n",
       "\n",
       "#sk-container-id-6 {\n",
       "  color: var(--sklearn-color-text);\n",
       "}\n",
       "\n",
       "#sk-container-id-6 pre {\n",
       "  padding: 0;\n",
       "}\n",
       "\n",
       "#sk-container-id-6 input.sk-hidden--visually {\n",
       "  border: 0;\n",
       "  clip: rect(1px 1px 1px 1px);\n",
       "  clip: rect(1px, 1px, 1px, 1px);\n",
       "  height: 1px;\n",
       "  margin: -1px;\n",
       "  overflow: hidden;\n",
       "  padding: 0;\n",
       "  position: absolute;\n",
       "  width: 1px;\n",
       "}\n",
       "\n",
       "#sk-container-id-6 div.sk-dashed-wrapped {\n",
       "  border: 1px dashed var(--sklearn-color-line);\n",
       "  margin: 0 0.4em 0.5em 0.4em;\n",
       "  box-sizing: border-box;\n",
       "  padding-bottom: 0.4em;\n",
       "  background-color: var(--sklearn-color-background);\n",
       "}\n",
       "\n",
       "#sk-container-id-6 div.sk-container {\n",
       "  /* jupyter's `normalize.less` sets `[hidden] { display: none; }`\n",
       "     but bootstrap.min.css set `[hidden] { display: none !important; }`\n",
       "     so we also need the `!important` here to be able to override the\n",
       "     default hidden behavior on the sphinx rendered scikit-learn.org.\n",
       "     See: https://github.com/scikit-learn/scikit-learn/issues/21755 */\n",
       "  display: inline-block !important;\n",
       "  position: relative;\n",
       "}\n",
       "\n",
       "#sk-container-id-6 div.sk-text-repr-fallback {\n",
       "  display: none;\n",
       "}\n",
       "\n",
       "div.sk-parallel-item,\n",
       "div.sk-serial,\n",
       "div.sk-item {\n",
       "  /* draw centered vertical line to link estimators */\n",
       "  background-image: linear-gradient(var(--sklearn-color-text-on-default-background), var(--sklearn-color-text-on-default-background));\n",
       "  background-size: 2px 100%;\n",
       "  background-repeat: no-repeat;\n",
       "  background-position: center center;\n",
       "}\n",
       "\n",
       "/* Parallel-specific style estimator block */\n",
       "\n",
       "#sk-container-id-6 div.sk-parallel-item::after {\n",
       "  content: \"\";\n",
       "  width: 100%;\n",
       "  border-bottom: 2px solid var(--sklearn-color-text-on-default-background);\n",
       "  flex-grow: 1;\n",
       "}\n",
       "\n",
       "#sk-container-id-6 div.sk-parallel {\n",
       "  display: flex;\n",
       "  align-items: stretch;\n",
       "  justify-content: center;\n",
       "  background-color: var(--sklearn-color-background);\n",
       "  position: relative;\n",
       "}\n",
       "\n",
       "#sk-container-id-6 div.sk-parallel-item {\n",
       "  display: flex;\n",
       "  flex-direction: column;\n",
       "}\n",
       "\n",
       "#sk-container-id-6 div.sk-parallel-item:first-child::after {\n",
       "  align-self: flex-end;\n",
       "  width: 50%;\n",
       "}\n",
       "\n",
       "#sk-container-id-6 div.sk-parallel-item:last-child::after {\n",
       "  align-self: flex-start;\n",
       "  width: 50%;\n",
       "}\n",
       "\n",
       "#sk-container-id-6 div.sk-parallel-item:only-child::after {\n",
       "  width: 0;\n",
       "}\n",
       "\n",
       "/* Serial-specific style estimator block */\n",
       "\n",
       "#sk-container-id-6 div.sk-serial {\n",
       "  display: flex;\n",
       "  flex-direction: column;\n",
       "  align-items: center;\n",
       "  background-color: var(--sklearn-color-background);\n",
       "  padding-right: 1em;\n",
       "  padding-left: 1em;\n",
       "}\n",
       "\n",
       "\n",
       "/* Toggleable style: style used for estimator/Pipeline/ColumnTransformer box that is\n",
       "clickable and can be expanded/collapsed.\n",
       "- Pipeline and ColumnTransformer use this feature and define the default style\n",
       "- Estimators will overwrite some part of the style using the `sk-estimator` class\n",
       "*/\n",
       "\n",
       "/* Pipeline and ColumnTransformer style (default) */\n",
       "\n",
       "#sk-container-id-6 div.sk-toggleable {\n",
       "  /* Default theme specific background. It is overwritten whether we have a\n",
       "  specific estimator or a Pipeline/ColumnTransformer */\n",
       "  background-color: var(--sklearn-color-background);\n",
       "}\n",
       "\n",
       "/* Toggleable label */\n",
       "#sk-container-id-6 label.sk-toggleable__label {\n",
       "  cursor: pointer;\n",
       "  display: block;\n",
       "  width: 100%;\n",
       "  margin-bottom: 0;\n",
       "  padding: 0.5em;\n",
       "  box-sizing: border-box;\n",
       "  text-align: center;\n",
       "}\n",
       "\n",
       "#sk-container-id-6 label.sk-toggleable__label-arrow:before {\n",
       "  /* Arrow on the left of the label */\n",
       "  content: \"▸\";\n",
       "  float: left;\n",
       "  margin-right: 0.25em;\n",
       "  color: var(--sklearn-color-icon);\n",
       "}\n",
       "\n",
       "#sk-container-id-6 label.sk-toggleable__label-arrow:hover:before {\n",
       "  color: var(--sklearn-color-text);\n",
       "}\n",
       "\n",
       "/* Toggleable content - dropdown */\n",
       "\n",
       "#sk-container-id-6 div.sk-toggleable__content {\n",
       "  max-height: 0;\n",
       "  max-width: 0;\n",
       "  overflow: hidden;\n",
       "  text-align: left;\n",
       "  /* unfitted */\n",
       "  background-color: var(--sklearn-color-unfitted-level-0);\n",
       "}\n",
       "\n",
       "#sk-container-id-6 div.sk-toggleable__content.fitted {\n",
       "  /* fitted */\n",
       "  background-color: var(--sklearn-color-fitted-level-0);\n",
       "}\n",
       "\n",
       "#sk-container-id-6 div.sk-toggleable__content pre {\n",
       "  margin: 0.2em;\n",
       "  border-radius: 0.25em;\n",
       "  color: var(--sklearn-color-text);\n",
       "  /* unfitted */\n",
       "  background-color: var(--sklearn-color-unfitted-level-0);\n",
       "}\n",
       "\n",
       "#sk-container-id-6 div.sk-toggleable__content.fitted pre {\n",
       "  /* unfitted */\n",
       "  background-color: var(--sklearn-color-fitted-level-0);\n",
       "}\n",
       "\n",
       "#sk-container-id-6 input.sk-toggleable__control:checked~div.sk-toggleable__content {\n",
       "  /* Expand drop-down */\n",
       "  max-height: 200px;\n",
       "  max-width: 100%;\n",
       "  overflow: auto;\n",
       "}\n",
       "\n",
       "#sk-container-id-6 input.sk-toggleable__control:checked~label.sk-toggleable__label-arrow:before {\n",
       "  content: \"▾\";\n",
       "}\n",
       "\n",
       "/* Pipeline/ColumnTransformer-specific style */\n",
       "\n",
       "#sk-container-id-6 div.sk-label input.sk-toggleable__control:checked~label.sk-toggleable__label {\n",
       "  color: var(--sklearn-color-text);\n",
       "  background-color: var(--sklearn-color-unfitted-level-2);\n",
       "}\n",
       "\n",
       "#sk-container-id-6 div.sk-label.fitted input.sk-toggleable__control:checked~label.sk-toggleable__label {\n",
       "  background-color: var(--sklearn-color-fitted-level-2);\n",
       "}\n",
       "\n",
       "/* Estimator-specific style */\n",
       "\n",
       "/* Colorize estimator box */\n",
       "#sk-container-id-6 div.sk-estimator input.sk-toggleable__control:checked~label.sk-toggleable__label {\n",
       "  /* unfitted */\n",
       "  background-color: var(--sklearn-color-unfitted-level-2);\n",
       "}\n",
       "\n",
       "#sk-container-id-6 div.sk-estimator.fitted input.sk-toggleable__control:checked~label.sk-toggleable__label {\n",
       "  /* fitted */\n",
       "  background-color: var(--sklearn-color-fitted-level-2);\n",
       "}\n",
       "\n",
       "#sk-container-id-6 div.sk-label label.sk-toggleable__label,\n",
       "#sk-container-id-6 div.sk-label label {\n",
       "  /* The background is the default theme color */\n",
       "  color: var(--sklearn-color-text-on-default-background);\n",
       "}\n",
       "\n",
       "/* On hover, darken the color of the background */\n",
       "#sk-container-id-6 div.sk-label:hover label.sk-toggleable__label {\n",
       "  color: var(--sklearn-color-text);\n",
       "  background-color: var(--sklearn-color-unfitted-level-2);\n",
       "}\n",
       "\n",
       "/* Label box, darken color on hover, fitted */\n",
       "#sk-container-id-6 div.sk-label.fitted:hover label.sk-toggleable__label.fitted {\n",
       "  color: var(--sklearn-color-text);\n",
       "  background-color: var(--sklearn-color-fitted-level-2);\n",
       "}\n",
       "\n",
       "/* Estimator label */\n",
       "\n",
       "#sk-container-id-6 div.sk-label label {\n",
       "  font-family: monospace;\n",
       "  font-weight: bold;\n",
       "  display: inline-block;\n",
       "  line-height: 1.2em;\n",
       "}\n",
       "\n",
       "#sk-container-id-6 div.sk-label-container {\n",
       "  text-align: center;\n",
       "}\n",
       "\n",
       "/* Estimator-specific */\n",
       "#sk-container-id-6 div.sk-estimator {\n",
       "  font-family: monospace;\n",
       "  border: 1px dotted var(--sklearn-color-border-box);\n",
       "  border-radius: 0.25em;\n",
       "  box-sizing: border-box;\n",
       "  margin-bottom: 0.5em;\n",
       "  /* unfitted */\n",
       "  background-color: var(--sklearn-color-unfitted-level-0);\n",
       "}\n",
       "\n",
       "#sk-container-id-6 div.sk-estimator.fitted {\n",
       "  /* fitted */\n",
       "  background-color: var(--sklearn-color-fitted-level-0);\n",
       "}\n",
       "\n",
       "/* on hover */\n",
       "#sk-container-id-6 div.sk-estimator:hover {\n",
       "  /* unfitted */\n",
       "  background-color: var(--sklearn-color-unfitted-level-2);\n",
       "}\n",
       "\n",
       "#sk-container-id-6 div.sk-estimator.fitted:hover {\n",
       "  /* fitted */\n",
       "  background-color: var(--sklearn-color-fitted-level-2);\n",
       "}\n",
       "\n",
       "/* Specification for estimator info (e.g. \"i\" and \"?\") */\n",
       "\n",
       "/* Common style for \"i\" and \"?\" */\n",
       "\n",
       ".sk-estimator-doc-link,\n",
       "a:link.sk-estimator-doc-link,\n",
       "a:visited.sk-estimator-doc-link {\n",
       "  float: right;\n",
       "  font-size: smaller;\n",
       "  line-height: 1em;\n",
       "  font-family: monospace;\n",
       "  background-color: var(--sklearn-color-background);\n",
       "  border-radius: 1em;\n",
       "  height: 1em;\n",
       "  width: 1em;\n",
       "  text-decoration: none !important;\n",
       "  margin-left: 1ex;\n",
       "  /* unfitted */\n",
       "  border: var(--sklearn-color-unfitted-level-1) 1pt solid;\n",
       "  color: var(--sklearn-color-unfitted-level-1);\n",
       "}\n",
       "\n",
       ".sk-estimator-doc-link.fitted,\n",
       "a:link.sk-estimator-doc-link.fitted,\n",
       "a:visited.sk-estimator-doc-link.fitted {\n",
       "  /* fitted */\n",
       "  border: var(--sklearn-color-fitted-level-1) 1pt solid;\n",
       "  color: var(--sklearn-color-fitted-level-1);\n",
       "}\n",
       "\n",
       "/* On hover */\n",
       "div.sk-estimator:hover .sk-estimator-doc-link:hover,\n",
       ".sk-estimator-doc-link:hover,\n",
       "div.sk-label-container:hover .sk-estimator-doc-link:hover,\n",
       ".sk-estimator-doc-link:hover {\n",
       "  /* unfitted */\n",
       "  background-color: var(--sklearn-color-unfitted-level-3);\n",
       "  color: var(--sklearn-color-background);\n",
       "  text-decoration: none;\n",
       "}\n",
       "\n",
       "div.sk-estimator.fitted:hover .sk-estimator-doc-link.fitted:hover,\n",
       ".sk-estimator-doc-link.fitted:hover,\n",
       "div.sk-label-container:hover .sk-estimator-doc-link.fitted:hover,\n",
       ".sk-estimator-doc-link.fitted:hover {\n",
       "  /* fitted */\n",
       "  background-color: var(--sklearn-color-fitted-level-3);\n",
       "  color: var(--sklearn-color-background);\n",
       "  text-decoration: none;\n",
       "}\n",
       "\n",
       "/* Span, style for the box shown on hovering the info icon */\n",
       ".sk-estimator-doc-link span {\n",
       "  display: none;\n",
       "  z-index: 9999;\n",
       "  position: relative;\n",
       "  font-weight: normal;\n",
       "  right: .2ex;\n",
       "  padding: .5ex;\n",
       "  margin: .5ex;\n",
       "  width: min-content;\n",
       "  min-width: 20ex;\n",
       "  max-width: 50ex;\n",
       "  color: var(--sklearn-color-text);\n",
       "  box-shadow: 2pt 2pt 4pt #999;\n",
       "  /* unfitted */\n",
       "  background: var(--sklearn-color-unfitted-level-0);\n",
       "  border: .5pt solid var(--sklearn-color-unfitted-level-3);\n",
       "}\n",
       "\n",
       ".sk-estimator-doc-link.fitted span {\n",
       "  /* fitted */\n",
       "  background: var(--sklearn-color-fitted-level-0);\n",
       "  border: var(--sklearn-color-fitted-level-3);\n",
       "}\n",
       "\n",
       ".sk-estimator-doc-link:hover span {\n",
       "  display: block;\n",
       "}\n",
       "\n",
       "/* \"?\"-specific style due to the `<a>` HTML tag */\n",
       "\n",
       "#sk-container-id-6 a.estimator_doc_link {\n",
       "  float: right;\n",
       "  font-size: 1rem;\n",
       "  line-height: 1em;\n",
       "  font-family: monospace;\n",
       "  background-color: var(--sklearn-color-background);\n",
       "  border-radius: 1rem;\n",
       "  height: 1rem;\n",
       "  width: 1rem;\n",
       "  text-decoration: none;\n",
       "  /* unfitted */\n",
       "  color: var(--sklearn-color-unfitted-level-1);\n",
       "  border: var(--sklearn-color-unfitted-level-1) 1pt solid;\n",
       "}\n",
       "\n",
       "#sk-container-id-6 a.estimator_doc_link.fitted {\n",
       "  /* fitted */\n",
       "  border: var(--sklearn-color-fitted-level-1) 1pt solid;\n",
       "  color: var(--sklearn-color-fitted-level-1);\n",
       "}\n",
       "\n",
       "/* On hover */\n",
       "#sk-container-id-6 a.estimator_doc_link:hover {\n",
       "  /* unfitted */\n",
       "  background-color: var(--sklearn-color-unfitted-level-3);\n",
       "  color: var(--sklearn-color-background);\n",
       "  text-decoration: none;\n",
       "}\n",
       "\n",
       "#sk-container-id-6 a.estimator_doc_link.fitted:hover {\n",
       "  /* fitted */\n",
       "  background-color: var(--sklearn-color-fitted-level-3);\n",
       "}\n",
       "</style><div id=\"sk-container-id-6\" class=\"sk-top-container\"><div class=\"sk-text-repr-fallback\"><pre>RandomizedSearchCV(cv=3, estimator=RandomForestRegressor(), n_jobs=-1,\n",
       "                   param_distributions={&#x27;max_depth&#x27;: [5, 13, 21, 30],\n",
       "                                        &#x27;max_features&#x27;: [&#x27;auto&#x27;, &#x27;sqrt&#x27;],\n",
       "                                        &#x27;min_samples_split&#x27;: [5, 10, 15, 100],\n",
       "                                        &#x27;n_estimators&#x27;: [100, 320, 540, 760,\n",
       "                                                         980, 1200]},\n",
       "                   verbose=2)</pre><b>In a Jupyter environment, please rerun this cell to show the HTML representation or trust the notebook. <br />On GitHub, the HTML representation is unable to render, please try loading this page with nbviewer.org.</b></div><div class=\"sk-container\" hidden><div class=\"sk-item sk-dashed-wrapped\"><div class=\"sk-label-container\"><div class=\"sk-label fitted sk-toggleable\"><input class=\"sk-toggleable__control sk-hidden--visually\" id=\"sk-estimator-id-8\" type=\"checkbox\" ><label for=\"sk-estimator-id-8\" class=\"sk-toggleable__label fitted sk-toggleable__label-arrow fitted\">&nbsp;&nbsp;RandomizedSearchCV<a class=\"sk-estimator-doc-link fitted\" rel=\"noreferrer\" target=\"_blank\" href=\"https://scikit-learn.org/1.4/modules/generated/sklearn.model_selection.RandomizedSearchCV.html\">?<span>Documentation for RandomizedSearchCV</span></a><span class=\"sk-estimator-doc-link fitted\">i<span>Fitted</span></span></label><div class=\"sk-toggleable__content fitted\"><pre>RandomizedSearchCV(cv=3, estimator=RandomForestRegressor(), n_jobs=-1,\n",
       "                   param_distributions={&#x27;max_depth&#x27;: [5, 13, 21, 30],\n",
       "                                        &#x27;max_features&#x27;: [&#x27;auto&#x27;, &#x27;sqrt&#x27;],\n",
       "                                        &#x27;min_samples_split&#x27;: [5, 10, 15, 100],\n",
       "                                        &#x27;n_estimators&#x27;: [100, 320, 540, 760,\n",
       "                                                         980, 1200]},\n",
       "                   verbose=2)</pre></div> </div></div><div class=\"sk-parallel\"><div class=\"sk-parallel-item\"><div class=\"sk-item\"><div class=\"sk-label-container\"><div class=\"sk-label fitted sk-toggleable\"><input class=\"sk-toggleable__control sk-hidden--visually\" id=\"sk-estimator-id-9\" type=\"checkbox\" ><label for=\"sk-estimator-id-9\" class=\"sk-toggleable__label fitted sk-toggleable__label-arrow fitted\">estimator: RandomForestRegressor</label><div class=\"sk-toggleable__content fitted\"><pre>RandomForestRegressor()</pre></div> </div></div><div class=\"sk-serial\"><div class=\"sk-item\"><div class=\"sk-estimator fitted sk-toggleable\"><input class=\"sk-toggleable__control sk-hidden--visually\" id=\"sk-estimator-id-10\" type=\"checkbox\" ><label for=\"sk-estimator-id-10\" class=\"sk-toggleable__label fitted sk-toggleable__label-arrow fitted\">&nbsp;RandomForestRegressor<a class=\"sk-estimator-doc-link fitted\" rel=\"noreferrer\" target=\"_blank\" href=\"https://scikit-learn.org/1.4/modules/generated/sklearn.ensemble.RandomForestRegressor.html\">?<span>Documentation for RandomForestRegressor</span></a></label><div class=\"sk-toggleable__content fitted\"><pre>RandomForestRegressor()</pre></div> </div></div></div></div></div></div></div></div></div>"
      ],
      "text/plain": [
       "RandomizedSearchCV(cv=3, estimator=RandomForestRegressor(), n_jobs=-1,\n",
       "                   param_distributions={'max_depth': [5, 13, 21, 30],\n",
       "                                        'max_features': ['auto', 'sqrt'],\n",
       "                                        'min_samples_split': [5, 10, 15, 100],\n",
       "                                        'n_estimators': [100, 320, 540, 760,\n",
       "                                                         980, 1200]},\n",
       "                   verbose=2)"
      ]
     },
     "execution_count": 824,
     "metadata": {},
     "output_type": "execute_result"
    }
   ],
   "source": [
    "rf_random.fit(X_train , y_train)"
   ]
  },
  {
   "cell_type": "code",
   "execution_count": 825,
   "id": "14ed3a8b-3dd0-4204-8c9e-dfb23869eec9",
   "metadata": {},
   "outputs": [
    {
     "data": {
      "text/plain": [
       "{'n_estimators': 320,\n",
       " 'min_samples_split': 10,\n",
       " 'max_features': 'sqrt',\n",
       " 'max_depth': 30}"
      ]
     },
     "execution_count": 825,
     "metadata": {},
     "output_type": "execute_result"
    }
   ],
   "source": [
    "rf_random.best_params_"
   ]
  },
  {
   "cell_type": "code",
   "execution_count": 826,
   "id": "d48e4ced-c280-4b3e-bc74-90d024d3a78a",
   "metadata": {},
   "outputs": [],
   "source": [
    "#### In your case , may be your parameters may vary a little bit , thats not a major issue.."
   ]
  },
  {
   "cell_type": "code",
   "execution_count": 827,
   "id": "9a88836e-4ff0-47c7-8f62-0ed63dac4dae",
   "metadata": {},
   "outputs": [
    {
     "data": {
      "text/html": [
       "<style>#sk-container-id-7 {\n",
       "  /* Definition of color scheme common for light and dark mode */\n",
       "  --sklearn-color-text: black;\n",
       "  --sklearn-color-line: gray;\n",
       "  /* Definition of color scheme for unfitted estimators */\n",
       "  --sklearn-color-unfitted-level-0: #fff5e6;\n",
       "  --sklearn-color-unfitted-level-1: #f6e4d2;\n",
       "  --sklearn-color-unfitted-level-2: #ffe0b3;\n",
       "  --sklearn-color-unfitted-level-3: chocolate;\n",
       "  /* Definition of color scheme for fitted estimators */\n",
       "  --sklearn-color-fitted-level-0: #f0f8ff;\n",
       "  --sklearn-color-fitted-level-1: #d4ebff;\n",
       "  --sklearn-color-fitted-level-2: #b3dbfd;\n",
       "  --sklearn-color-fitted-level-3: cornflowerblue;\n",
       "\n",
       "  /* Specific color for light theme */\n",
       "  --sklearn-color-text-on-default-background: var(--sg-text-color, var(--theme-code-foreground, var(--jp-content-font-color1, black)));\n",
       "  --sklearn-color-background: var(--sg-background-color, var(--theme-background, var(--jp-layout-color0, white)));\n",
       "  --sklearn-color-border-box: var(--sg-text-color, var(--theme-code-foreground, var(--jp-content-font-color1, black)));\n",
       "  --sklearn-color-icon: #696969;\n",
       "\n",
       "  @media (prefers-color-scheme: dark) {\n",
       "    /* Redefinition of color scheme for dark theme */\n",
       "    --sklearn-color-text-on-default-background: var(--sg-text-color, var(--theme-code-foreground, var(--jp-content-font-color1, white)));\n",
       "    --sklearn-color-background: var(--sg-background-color, var(--theme-background, var(--jp-layout-color0, #111)));\n",
       "    --sklearn-color-border-box: var(--sg-text-color, var(--theme-code-foreground, var(--jp-content-font-color1, white)));\n",
       "    --sklearn-color-icon: #878787;\n",
       "  }\n",
       "}\n",
       "\n",
       "#sk-container-id-7 {\n",
       "  color: var(--sklearn-color-text);\n",
       "}\n",
       "\n",
       "#sk-container-id-7 pre {\n",
       "  padding: 0;\n",
       "}\n",
       "\n",
       "#sk-container-id-7 input.sk-hidden--visually {\n",
       "  border: 0;\n",
       "  clip: rect(1px 1px 1px 1px);\n",
       "  clip: rect(1px, 1px, 1px, 1px);\n",
       "  height: 1px;\n",
       "  margin: -1px;\n",
       "  overflow: hidden;\n",
       "  padding: 0;\n",
       "  position: absolute;\n",
       "  width: 1px;\n",
       "}\n",
       "\n",
       "#sk-container-id-7 div.sk-dashed-wrapped {\n",
       "  border: 1px dashed var(--sklearn-color-line);\n",
       "  margin: 0 0.4em 0.5em 0.4em;\n",
       "  box-sizing: border-box;\n",
       "  padding-bottom: 0.4em;\n",
       "  background-color: var(--sklearn-color-background);\n",
       "}\n",
       "\n",
       "#sk-container-id-7 div.sk-container {\n",
       "  /* jupyter's `normalize.less` sets `[hidden] { display: none; }`\n",
       "     but bootstrap.min.css set `[hidden] { display: none !important; }`\n",
       "     so we also need the `!important` here to be able to override the\n",
       "     default hidden behavior on the sphinx rendered scikit-learn.org.\n",
       "     See: https://github.com/scikit-learn/scikit-learn/issues/21755 */\n",
       "  display: inline-block !important;\n",
       "  position: relative;\n",
       "}\n",
       "\n",
       "#sk-container-id-7 div.sk-text-repr-fallback {\n",
       "  display: none;\n",
       "}\n",
       "\n",
       "div.sk-parallel-item,\n",
       "div.sk-serial,\n",
       "div.sk-item {\n",
       "  /* draw centered vertical line to link estimators */\n",
       "  background-image: linear-gradient(var(--sklearn-color-text-on-default-background), var(--sklearn-color-text-on-default-background));\n",
       "  background-size: 2px 100%;\n",
       "  background-repeat: no-repeat;\n",
       "  background-position: center center;\n",
       "}\n",
       "\n",
       "/* Parallel-specific style estimator block */\n",
       "\n",
       "#sk-container-id-7 div.sk-parallel-item::after {\n",
       "  content: \"\";\n",
       "  width: 100%;\n",
       "  border-bottom: 2px solid var(--sklearn-color-text-on-default-background);\n",
       "  flex-grow: 1;\n",
       "}\n",
       "\n",
       "#sk-container-id-7 div.sk-parallel {\n",
       "  display: flex;\n",
       "  align-items: stretch;\n",
       "  justify-content: center;\n",
       "  background-color: var(--sklearn-color-background);\n",
       "  position: relative;\n",
       "}\n",
       "\n",
       "#sk-container-id-7 div.sk-parallel-item {\n",
       "  display: flex;\n",
       "  flex-direction: column;\n",
       "}\n",
       "\n",
       "#sk-container-id-7 div.sk-parallel-item:first-child::after {\n",
       "  align-self: flex-end;\n",
       "  width: 50%;\n",
       "}\n",
       "\n",
       "#sk-container-id-7 div.sk-parallel-item:last-child::after {\n",
       "  align-self: flex-start;\n",
       "  width: 50%;\n",
       "}\n",
       "\n",
       "#sk-container-id-7 div.sk-parallel-item:only-child::after {\n",
       "  width: 0;\n",
       "}\n",
       "\n",
       "/* Serial-specific style estimator block */\n",
       "\n",
       "#sk-container-id-7 div.sk-serial {\n",
       "  display: flex;\n",
       "  flex-direction: column;\n",
       "  align-items: center;\n",
       "  background-color: var(--sklearn-color-background);\n",
       "  padding-right: 1em;\n",
       "  padding-left: 1em;\n",
       "}\n",
       "\n",
       "\n",
       "/* Toggleable style: style used for estimator/Pipeline/ColumnTransformer box that is\n",
       "clickable and can be expanded/collapsed.\n",
       "- Pipeline and ColumnTransformer use this feature and define the default style\n",
       "- Estimators will overwrite some part of the style using the `sk-estimator` class\n",
       "*/\n",
       "\n",
       "/* Pipeline and ColumnTransformer style (default) */\n",
       "\n",
       "#sk-container-id-7 div.sk-toggleable {\n",
       "  /* Default theme specific background. It is overwritten whether we have a\n",
       "  specific estimator or a Pipeline/ColumnTransformer */\n",
       "  background-color: var(--sklearn-color-background);\n",
       "}\n",
       "\n",
       "/* Toggleable label */\n",
       "#sk-container-id-7 label.sk-toggleable__label {\n",
       "  cursor: pointer;\n",
       "  display: block;\n",
       "  width: 100%;\n",
       "  margin-bottom: 0;\n",
       "  padding: 0.5em;\n",
       "  box-sizing: border-box;\n",
       "  text-align: center;\n",
       "}\n",
       "\n",
       "#sk-container-id-7 label.sk-toggleable__label-arrow:before {\n",
       "  /* Arrow on the left of the label */\n",
       "  content: \"▸\";\n",
       "  float: left;\n",
       "  margin-right: 0.25em;\n",
       "  color: var(--sklearn-color-icon);\n",
       "}\n",
       "\n",
       "#sk-container-id-7 label.sk-toggleable__label-arrow:hover:before {\n",
       "  color: var(--sklearn-color-text);\n",
       "}\n",
       "\n",
       "/* Toggleable content - dropdown */\n",
       "\n",
       "#sk-container-id-7 div.sk-toggleable__content {\n",
       "  max-height: 0;\n",
       "  max-width: 0;\n",
       "  overflow: hidden;\n",
       "  text-align: left;\n",
       "  /* unfitted */\n",
       "  background-color: var(--sklearn-color-unfitted-level-0);\n",
       "}\n",
       "\n",
       "#sk-container-id-7 div.sk-toggleable__content.fitted {\n",
       "  /* fitted */\n",
       "  background-color: var(--sklearn-color-fitted-level-0);\n",
       "}\n",
       "\n",
       "#sk-container-id-7 div.sk-toggleable__content pre {\n",
       "  margin: 0.2em;\n",
       "  border-radius: 0.25em;\n",
       "  color: var(--sklearn-color-text);\n",
       "  /* unfitted */\n",
       "  background-color: var(--sklearn-color-unfitted-level-0);\n",
       "}\n",
       "\n",
       "#sk-container-id-7 div.sk-toggleable__content.fitted pre {\n",
       "  /* unfitted */\n",
       "  background-color: var(--sklearn-color-fitted-level-0);\n",
       "}\n",
       "\n",
       "#sk-container-id-7 input.sk-toggleable__control:checked~div.sk-toggleable__content {\n",
       "  /* Expand drop-down */\n",
       "  max-height: 200px;\n",
       "  max-width: 100%;\n",
       "  overflow: auto;\n",
       "}\n",
       "\n",
       "#sk-container-id-7 input.sk-toggleable__control:checked~label.sk-toggleable__label-arrow:before {\n",
       "  content: \"▾\";\n",
       "}\n",
       "\n",
       "/* Pipeline/ColumnTransformer-specific style */\n",
       "\n",
       "#sk-container-id-7 div.sk-label input.sk-toggleable__control:checked~label.sk-toggleable__label {\n",
       "  color: var(--sklearn-color-text);\n",
       "  background-color: var(--sklearn-color-unfitted-level-2);\n",
       "}\n",
       "\n",
       "#sk-container-id-7 div.sk-label.fitted input.sk-toggleable__control:checked~label.sk-toggleable__label {\n",
       "  background-color: var(--sklearn-color-fitted-level-2);\n",
       "}\n",
       "\n",
       "/* Estimator-specific style */\n",
       "\n",
       "/* Colorize estimator box */\n",
       "#sk-container-id-7 div.sk-estimator input.sk-toggleable__control:checked~label.sk-toggleable__label {\n",
       "  /* unfitted */\n",
       "  background-color: var(--sklearn-color-unfitted-level-2);\n",
       "}\n",
       "\n",
       "#sk-container-id-7 div.sk-estimator.fitted input.sk-toggleable__control:checked~label.sk-toggleable__label {\n",
       "  /* fitted */\n",
       "  background-color: var(--sklearn-color-fitted-level-2);\n",
       "}\n",
       "\n",
       "#sk-container-id-7 div.sk-label label.sk-toggleable__label,\n",
       "#sk-container-id-7 div.sk-label label {\n",
       "  /* The background is the default theme color */\n",
       "  color: var(--sklearn-color-text-on-default-background);\n",
       "}\n",
       "\n",
       "/* On hover, darken the color of the background */\n",
       "#sk-container-id-7 div.sk-label:hover label.sk-toggleable__label {\n",
       "  color: var(--sklearn-color-text);\n",
       "  background-color: var(--sklearn-color-unfitted-level-2);\n",
       "}\n",
       "\n",
       "/* Label box, darken color on hover, fitted */\n",
       "#sk-container-id-7 div.sk-label.fitted:hover label.sk-toggleable__label.fitted {\n",
       "  color: var(--sklearn-color-text);\n",
       "  background-color: var(--sklearn-color-fitted-level-2);\n",
       "}\n",
       "\n",
       "/* Estimator label */\n",
       "\n",
       "#sk-container-id-7 div.sk-label label {\n",
       "  font-family: monospace;\n",
       "  font-weight: bold;\n",
       "  display: inline-block;\n",
       "  line-height: 1.2em;\n",
       "}\n",
       "\n",
       "#sk-container-id-7 div.sk-label-container {\n",
       "  text-align: center;\n",
       "}\n",
       "\n",
       "/* Estimator-specific */\n",
       "#sk-container-id-7 div.sk-estimator {\n",
       "  font-family: monospace;\n",
       "  border: 1px dotted var(--sklearn-color-border-box);\n",
       "  border-radius: 0.25em;\n",
       "  box-sizing: border-box;\n",
       "  margin-bottom: 0.5em;\n",
       "  /* unfitted */\n",
       "  background-color: var(--sklearn-color-unfitted-level-0);\n",
       "}\n",
       "\n",
       "#sk-container-id-7 div.sk-estimator.fitted {\n",
       "  /* fitted */\n",
       "  background-color: var(--sklearn-color-fitted-level-0);\n",
       "}\n",
       "\n",
       "/* on hover */\n",
       "#sk-container-id-7 div.sk-estimator:hover {\n",
       "  /* unfitted */\n",
       "  background-color: var(--sklearn-color-unfitted-level-2);\n",
       "}\n",
       "\n",
       "#sk-container-id-7 div.sk-estimator.fitted:hover {\n",
       "  /* fitted */\n",
       "  background-color: var(--sklearn-color-fitted-level-2);\n",
       "}\n",
       "\n",
       "/* Specification for estimator info (e.g. \"i\" and \"?\") */\n",
       "\n",
       "/* Common style for \"i\" and \"?\" */\n",
       "\n",
       ".sk-estimator-doc-link,\n",
       "a:link.sk-estimator-doc-link,\n",
       "a:visited.sk-estimator-doc-link {\n",
       "  float: right;\n",
       "  font-size: smaller;\n",
       "  line-height: 1em;\n",
       "  font-family: monospace;\n",
       "  background-color: var(--sklearn-color-background);\n",
       "  border-radius: 1em;\n",
       "  height: 1em;\n",
       "  width: 1em;\n",
       "  text-decoration: none !important;\n",
       "  margin-left: 1ex;\n",
       "  /* unfitted */\n",
       "  border: var(--sklearn-color-unfitted-level-1) 1pt solid;\n",
       "  color: var(--sklearn-color-unfitted-level-1);\n",
       "}\n",
       "\n",
       ".sk-estimator-doc-link.fitted,\n",
       "a:link.sk-estimator-doc-link.fitted,\n",
       "a:visited.sk-estimator-doc-link.fitted {\n",
       "  /* fitted */\n",
       "  border: var(--sklearn-color-fitted-level-1) 1pt solid;\n",
       "  color: var(--sklearn-color-fitted-level-1);\n",
       "}\n",
       "\n",
       "/* On hover */\n",
       "div.sk-estimator:hover .sk-estimator-doc-link:hover,\n",
       ".sk-estimator-doc-link:hover,\n",
       "div.sk-label-container:hover .sk-estimator-doc-link:hover,\n",
       ".sk-estimator-doc-link:hover {\n",
       "  /* unfitted */\n",
       "  background-color: var(--sklearn-color-unfitted-level-3);\n",
       "  color: var(--sklearn-color-background);\n",
       "  text-decoration: none;\n",
       "}\n",
       "\n",
       "div.sk-estimator.fitted:hover .sk-estimator-doc-link.fitted:hover,\n",
       ".sk-estimator-doc-link.fitted:hover,\n",
       "div.sk-label-container:hover .sk-estimator-doc-link.fitted:hover,\n",
       ".sk-estimator-doc-link.fitted:hover {\n",
       "  /* fitted */\n",
       "  background-color: var(--sklearn-color-fitted-level-3);\n",
       "  color: var(--sklearn-color-background);\n",
       "  text-decoration: none;\n",
       "}\n",
       "\n",
       "/* Span, style for the box shown on hovering the info icon */\n",
       ".sk-estimator-doc-link span {\n",
       "  display: none;\n",
       "  z-index: 9999;\n",
       "  position: relative;\n",
       "  font-weight: normal;\n",
       "  right: .2ex;\n",
       "  padding: .5ex;\n",
       "  margin: .5ex;\n",
       "  width: min-content;\n",
       "  min-width: 20ex;\n",
       "  max-width: 50ex;\n",
       "  color: var(--sklearn-color-text);\n",
       "  box-shadow: 2pt 2pt 4pt #999;\n",
       "  /* unfitted */\n",
       "  background: var(--sklearn-color-unfitted-level-0);\n",
       "  border: .5pt solid var(--sklearn-color-unfitted-level-3);\n",
       "}\n",
       "\n",
       ".sk-estimator-doc-link.fitted span {\n",
       "  /* fitted */\n",
       "  background: var(--sklearn-color-fitted-level-0);\n",
       "  border: var(--sklearn-color-fitted-level-3);\n",
       "}\n",
       "\n",
       ".sk-estimator-doc-link:hover span {\n",
       "  display: block;\n",
       "}\n",
       "\n",
       "/* \"?\"-specific style due to the `<a>` HTML tag */\n",
       "\n",
       "#sk-container-id-7 a.estimator_doc_link {\n",
       "  float: right;\n",
       "  font-size: 1rem;\n",
       "  line-height: 1em;\n",
       "  font-family: monospace;\n",
       "  background-color: var(--sklearn-color-background);\n",
       "  border-radius: 1rem;\n",
       "  height: 1rem;\n",
       "  width: 1rem;\n",
       "  text-decoration: none;\n",
       "  /* unfitted */\n",
       "  color: var(--sklearn-color-unfitted-level-1);\n",
       "  border: var(--sklearn-color-unfitted-level-1) 1pt solid;\n",
       "}\n",
       "\n",
       "#sk-container-id-7 a.estimator_doc_link.fitted {\n",
       "  /* fitted */\n",
       "  border: var(--sklearn-color-fitted-level-1) 1pt solid;\n",
       "  color: var(--sklearn-color-fitted-level-1);\n",
       "}\n",
       "\n",
       "/* On hover */\n",
       "#sk-container-id-7 a.estimator_doc_link:hover {\n",
       "  /* unfitted */\n",
       "  background-color: var(--sklearn-color-unfitted-level-3);\n",
       "  color: var(--sklearn-color-background);\n",
       "  text-decoration: none;\n",
       "}\n",
       "\n",
       "#sk-container-id-7 a.estimator_doc_link.fitted:hover {\n",
       "  /* fitted */\n",
       "  background-color: var(--sklearn-color-fitted-level-3);\n",
       "}\n",
       "</style><div id=\"sk-container-id-7\" class=\"sk-top-container\"><div class=\"sk-text-repr-fallback\"><pre>RandomForestRegressor(max_depth=30, max_features=&#x27;sqrt&#x27;, min_samples_split=10,\n",
       "                      n_estimators=320)</pre><b>In a Jupyter environment, please rerun this cell to show the HTML representation or trust the notebook. <br />On GitHub, the HTML representation is unable to render, please try loading this page with nbviewer.org.</b></div><div class=\"sk-container\" hidden><div class=\"sk-item\"><div class=\"sk-estimator fitted sk-toggleable\"><input class=\"sk-toggleable__control sk-hidden--visually\" id=\"sk-estimator-id-11\" type=\"checkbox\" checked><label for=\"sk-estimator-id-11\" class=\"sk-toggleable__label fitted sk-toggleable__label-arrow fitted\">&nbsp;&nbsp;RandomForestRegressor<a class=\"sk-estimator-doc-link fitted\" rel=\"noreferrer\" target=\"_blank\" href=\"https://scikit-learn.org/1.4/modules/generated/sklearn.ensemble.RandomForestRegressor.html\">?<span>Documentation for RandomForestRegressor</span></a><span class=\"sk-estimator-doc-link fitted\">i<span>Fitted</span></span></label><div class=\"sk-toggleable__content fitted\"><pre>RandomForestRegressor(max_depth=30, max_features=&#x27;sqrt&#x27;, min_samples_split=10,\n",
       "                      n_estimators=320)</pre></div> </div></div></div></div>"
      ],
      "text/plain": [
       "RandomForestRegressor(max_depth=30, max_features='sqrt', min_samples_split=10,\n",
       "                      n_estimators=320)"
      ]
     },
     "execution_count": 827,
     "metadata": {},
     "output_type": "execute_result"
    }
   ],
   "source": [
    "rf_random.best_estimator_"
   ]
  },
  {
   "cell_type": "code",
   "execution_count": 828,
   "id": "77799103-ee74-4584-9e45-79560d76d5a8",
   "metadata": {},
   "outputs": [
    {
     "data": {
      "text/plain": [
       "0.8034323595940464"
      ]
     },
     "execution_count": 828,
     "metadata": {},
     "output_type": "execute_result"
    }
   ],
   "source": [
    "rf_random.best_score_"
   ]
  },
  {
   "cell_type": "code",
   "execution_count": null,
   "id": "11961a3a-7113-42db-8c44-2d56904bf511",
   "metadata": {},
   "outputs": [],
   "source": []
  }
 ],
 "metadata": {
  "kernelspec": {
   "display_name": "Python 3 (ipykernel)",
   "language": "python",
   "name": "python3"
  },
  "language_info": {
   "codemirror_mode": {
    "name": "ipython",
    "version": 3
   },
   "file_extension": ".py",
   "mimetype": "text/x-python",
   "name": "python",
   "nbconvert_exporter": "python",
   "pygments_lexer": "ipython3",
   "version": "3.11.5"
  }
 },
 "nbformat": 4,
 "nbformat_minor": 5
}
